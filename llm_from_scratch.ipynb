{
  "nbformat": 4,
  "nbformat_minor": 0,
  "metadata": {
    "colab": {
      "provenance": []
    },
    "kernelspec": {
      "name": "python3",
      "display_name": "Python 3"
    },
    "language_info": {
      "name": "python"
    }
  },
  "cells": [
    {
      "cell_type": "code",
      "execution_count": null,
      "metadata": {
        "id": "GIVr6K8kPrL6"
      },
      "outputs": [],
      "source": []
    },
    {
      "cell_type": "markdown",
      "source": [
        "# **Tokenization**\n"
      ],
      "metadata": {
        "id": "A5PEJpnkShIA"
      }
    },
    {
      "cell_type": "code",
      "source": [
        "##for .txt only\n",
        "\n",
        "# with open(\"/content/The-Book-of-Five-Rings-by-Musashi-Miyamoto.pdf\",\"r\",encoding=\"utf-8\") as f:\n",
        "#   d = f.read()\n",
        "\n",
        "# print(\"Total number of characters\",len(d))\n",
        "# print(\"Total number of words\",len(d.split()))\n",
        "# print(d[:100])"
      ],
      "metadata": {
        "id": "yI_i7MfnSmB-"
      },
      "execution_count": null,
      "outputs": []
    },
    {
      "cell_type": "code",
      "source": [
        "!pip install PyPDF2"
      ],
      "metadata": {
        "colab": {
          "base_uri": "https://localhost:8080/"
        },
        "id": "oLPbf5EJTyoQ",
        "outputId": "132b9dae-eb16-4a4a-dcc9-485ab82dc3d5"
      },
      "execution_count": null,
      "outputs": [
        {
          "output_type": "stream",
          "name": "stdout",
          "text": [
            "Collecting PyPDF2\n",
            "  Downloading pypdf2-3.0.1-py3-none-any.whl.metadata (6.8 kB)\n",
            "Downloading pypdf2-3.0.1-py3-none-any.whl (232 kB)\n",
            "\u001b[?25l   \u001b[90m━━━━━━━━━━━━━━━━━━━━━━━━━━━━━━━━━━━━━━━━\u001b[0m \u001b[32m0.0/232.6 kB\u001b[0m \u001b[31m?\u001b[0m eta \u001b[36m-:--:--\u001b[0m\r\u001b[2K   \u001b[91m━━━━━━━━━━━━━━━━━━━━━━━━━━━━━━━━━━━━━━\u001b[0m\u001b[91m╸\u001b[0m\u001b[90m━\u001b[0m \u001b[32m225.3/232.6 kB\u001b[0m \u001b[31m9.2 MB/s\u001b[0m eta \u001b[36m0:00:01\u001b[0m\r\u001b[2K   \u001b[90m━━━━━━━━━━━━━━━━━━━━━━━━━━━━━━━━━━━━━━━━\u001b[0m \u001b[32m232.6/232.6 kB\u001b[0m \u001b[31m6.1 MB/s\u001b[0m eta \u001b[36m0:00:00\u001b[0m\n",
            "\u001b[?25hInstalling collected packages: PyPDF2\n",
            "Successfully installed PyPDF2-3.0.1\n"
          ]
        }
      ]
    },
    {
      "cell_type": "code",
      "source": [
        "import PyPDF2\n",
        "\n",
        "# Open the PDF file\n",
        "# with open(\"/content/The-Book-of-Five-Rings-by-Musashi-Miyamoto.pdf\", \"rb\") as f:\n",
        "#     reader = PyPDF2.PdfReader(f)\n",
        "#     text = \"\"\n",
        "#     for page in reader.pages:\n",
        "#         text += page.extract_text() or \"\"  # Extract text from each page\n",
        "\n",
        "# print(\"Total number of characters:\", len(text))\n",
        "# print(\"Total number of words:\", len(text.split()))\n",
        "# print(text[:100])  # Print the first 100 characters\n"
      ],
      "metadata": {
        "id": "ie6m_HskTIdF"
      },
      "execution_count": null,
      "outputs": []
    },
    {
      "cell_type": "code",
      "source": [
        "with open(\"/content/The-Book-of-Five-Rings-by-Musashi-Miyamoto.pdf\",\"rb\") as f:\n",
        "  reader = PyPDF2.PdfReader(f)\n",
        "  text = \"\"\n",
        "  for page in reader.pages:\n",
        "    # print(page.extract_text())\n",
        "    text += page.extract_text()\n",
        "\n",
        "\n",
        "print(\"Total num of characters:\",len(text))\n",
        "print(\"Total words:\",len(text.split()))\n",
        "print(text[100:300])"
      ],
      "metadata": {
        "colab": {
          "base_uri": "https://localhost:8080/",
          "height": 228
        },
        "id": "OWwqf2geT7Hu",
        "outputId": "30acc060-a83c-4b50-b6f3-08d0c850e04a"
      },
      "execution_count": null,
      "outputs": [
        {
          "output_type": "error",
          "ename": "FileNotFoundError",
          "evalue": "[Errno 2] No such file or directory: '/content/The-Book-of-Five-Rings-by-Musashi-Miyamoto.pdf'",
          "traceback": [
            "\u001b[0;31m---------------------------------------------------------------------------\u001b[0m",
            "\u001b[0;31mFileNotFoundError\u001b[0m                         Traceback (most recent call last)",
            "\u001b[0;32m<ipython-input-4-ace0b2454bd6>\u001b[0m in \u001b[0;36m<cell line: 1>\u001b[0;34m()\u001b[0m\n\u001b[0;32m----> 1\u001b[0;31m \u001b[0;32mwith\u001b[0m \u001b[0mopen\u001b[0m\u001b[0;34m(\u001b[0m\u001b[0;34m\"/content/The-Book-of-Five-Rings-by-Musashi-Miyamoto.pdf\"\u001b[0m\u001b[0;34m,\u001b[0m\u001b[0;34m\"rb\"\u001b[0m\u001b[0;34m)\u001b[0m \u001b[0;32mas\u001b[0m \u001b[0mf\u001b[0m\u001b[0;34m:\u001b[0m\u001b[0;34m\u001b[0m\u001b[0;34m\u001b[0m\u001b[0m\n\u001b[0m\u001b[1;32m      2\u001b[0m   \u001b[0mreader\u001b[0m \u001b[0;34m=\u001b[0m \u001b[0mPyPDF2\u001b[0m\u001b[0;34m.\u001b[0m\u001b[0mPdfReader\u001b[0m\u001b[0;34m(\u001b[0m\u001b[0mf\u001b[0m\u001b[0;34m)\u001b[0m\u001b[0;34m\u001b[0m\u001b[0;34m\u001b[0m\u001b[0m\n\u001b[1;32m      3\u001b[0m   \u001b[0mtext\u001b[0m \u001b[0;34m=\u001b[0m \u001b[0;34m\"\"\u001b[0m\u001b[0;34m\u001b[0m\u001b[0;34m\u001b[0m\u001b[0m\n\u001b[1;32m      4\u001b[0m   \u001b[0;32mfor\u001b[0m \u001b[0mpage\u001b[0m \u001b[0;32min\u001b[0m \u001b[0mreader\u001b[0m\u001b[0;34m.\u001b[0m\u001b[0mpages\u001b[0m\u001b[0;34m:\u001b[0m\u001b[0;34m\u001b[0m\u001b[0;34m\u001b[0m\u001b[0m\n\u001b[1;32m      5\u001b[0m     \u001b[0;31m# print(page.extract_text())\u001b[0m\u001b[0;34m\u001b[0m\u001b[0;34m\u001b[0m\u001b[0m\n",
            "\u001b[0;31mFileNotFoundError\u001b[0m: [Errno 2] No such file or directory: '/content/The-Book-of-Five-Rings-by-Musashi-Miyamoto.pdf'"
          ]
        }
      ]
    },
    {
      "cell_type": "markdown",
      "source": [
        "now we have loaded text now we need to split the text and do some preprocessing\n"
      ],
      "metadata": {
        "id": "ezqJKCi9eHjK"
      }
    },
    {
      "cell_type": "code",
      "source": [
        "import re\n",
        "\n",
        "my = \"Prabhakar sharma is a good boy. From sharda university\"\n",
        "res = re.split(r'(\\s)',my)\n",
        "print(res)"
      ],
      "metadata": {
        "colab": {
          "base_uri": "https://localhost:8080/"
        },
        "id": "ZedpxyHnUex0",
        "outputId": "08233531-c0a9-4503-d732-009e43f5c0b0"
      },
      "execution_count": null,
      "outputs": [
        {
          "output_type": "stream",
          "name": "stdout",
          "text": [
            "['Prabhakar', ' ', 'sharma', ' ', 'is', ' ', 'a', ' ', 'good', ' ', 'boy.', ' ', 'From', ' ', 'sharda', ' ', 'university']\n"
          ]
        }
      ]
    },
    {
      "cell_type": "markdown",
      "source": [
        "Here we got our individual words ,whitespace, punctuations etc, but there is a problem we can see the text is splitted on basis of whitespace so comma,fullstop is with words"
      ],
      "metadata": {
        "id": "6SpsgxpXey5_"
      }
    },
    {
      "cell_type": "markdown",
      "source": [
        "Modidy reg exp to split on the basis of whitespace,comma,fullstop etc"
      ],
      "metadata": {
        "id": "HmCV2P-BfQbu"
      }
    },
    {
      "cell_type": "code",
      "source": [
        "res = re.split(r'([,.]|\\s)',my)\n",
        "print(res)"
      ],
      "metadata": {
        "colab": {
          "base_uri": "https://localhost:8080/"
        },
        "id": "HKIxIBdWeaDw",
        "outputId": "207df7f2-3996-46c5-8171-af7907f03387"
      },
      "execution_count": null,
      "outputs": [
        {
          "output_type": "stream",
          "name": "stdout",
          "text": [
            "['Prabhakar', ' ', 'sharma', ' ', 'is', ' ', 'a', ' ', 'good', ' ', 'boy', '.', '', ' ', 'From', ' ', 'sharda', ' ', 'university']\n"
          ]
        }
      ]
    },
    {
      "cell_type": "markdown",
      "source": [
        "Now we are getting everything seperate cool just need to remove whitespace because it's also counted as token"
      ],
      "metadata": {
        "id": "jeazbVNrf6TY"
      }
    },
    {
      "cell_type": "code",
      "source": [
        "res = [i for i in res if i.strip()]\n",
        "res"
      ],
      "metadata": {
        "colab": {
          "base_uri": "https://localhost:8080/"
        },
        "id": "rkvyrww7fP3a",
        "outputId": "47a8941e-8aa8-42b5-f765-6c6605f1181c"
      },
      "execution_count": null,
      "outputs": [
        {
          "output_type": "execute_result",
          "data": {
            "text/plain": [
              "['Prabhakar',\n",
              " 'sharma',\n",
              " 'is',\n",
              " 'a',\n",
              " 'good',\n",
              " 'boy',\n",
              " '.',\n",
              " 'From',\n",
              " 'sharda',\n",
              " 'university']"
            ]
          },
          "metadata": {},
          "execution_count": 32
        }
      ]
    },
    {
      "cell_type": "markdown",
      "source": [
        "**Remove or not whitespace** It depends on use case to remove or not whitespace case 1) remove whitespace when not necessary- it'll help in saving computation resource   case 2) Not remove whitespace- some applications require not removal of whitesapce like if we are training model to generate python code to identation and spacing is important so we can't train model without spacing"
      ],
      "metadata": {
        "id": "YbYKZJrpjG51"
      }
    },
    {
      "cell_type": "markdown",
      "source": [
        "we need more robust regrex function to seprate ?., etc not just fullstop and comma"
      ],
      "metadata": {
        "id": "kuUIiGcGkbnq"
      }
    },
    {
      "cell_type": "code",
      "source": [
        "text  = \"Hello guys. Am i audible? yes! i'm --\"\n",
        "res2 = re.split(r'([,.?;:_!\"()\\'] | --|\\s)',text)\n",
        "res2 = [i.strip() for i in res2 if i.strip()]\n",
        "res2"
      ],
      "metadata": {
        "colab": {
          "base_uri": "https://localhost:8080/"
        },
        "id": "qtU731DojGlO",
        "outputId": "f4b57111-d0a1-4b27-cb50-cf80b32a0285"
      },
      "execution_count": null,
      "outputs": [
        {
          "output_type": "execute_result",
          "data": {
            "text/plain": [
              "['Hello', 'guys', '.', 'Am', 'i', 'audible', '?', 'yes', '!', \"i'm\", '--']"
            ]
          },
          "metadata": {},
          "execution_count": 33
        }
      ]
    },
    {
      "cell_type": "markdown",
      "source": [
        "Now let's use this to apply at our book data"
      ],
      "metadata": {
        "id": "An6dlHCqlr86"
      }
    },
    {
      "cell_type": "code",
      "source": [
        "preprocessed_data = re.split(r'([,.?;:_!\"()\\']|--|\\s)', text)\n",
        "preprocessed_data = [i.strip() for i in preprocessed_data if i.strip()]\n",
        "preprocessed_data[:20]"
      ],
      "metadata": {
        "colab": {
          "base_uri": "https://localhost:8080/"
        },
        "id": "_pWH7UbxhWjQ",
        "outputId": "b42ea241-c17b-45c9-865d-444bf48f2804"
      },
      "execution_count": null,
      "outputs": [
        {
          "output_type": "execute_result",
          "data": {
            "text/plain": [
              "['The',\n",
              " 'Book',\n",
              " 'of',\n",
              " 'Five',\n",
              " 'Rings',\n",
              " 'Miyamoto',\n",
              " ',',\n",
              " 'Musashi',\n",
              " 'Published',\n",
              " ':',\n",
              " '1644',\n",
              " 'Categories',\n",
              " '(',\n",
              " 's',\n",
              " ')',\n",
              " ':',\n",
              " 'Non-Fiction',\n",
              " ',',\n",
              " 'Philosophy',\n",
              " 'Source']"
            ]
          },
          "metadata": {},
          "execution_count": 38
        }
      ]
    },
    {
      "cell_type": "markdown",
      "source": [
        "# Step 2 convert token into Token ids"
      ],
      "metadata": {
        "id": "qN0NOqSImJ8B"
      }
    },
    {
      "cell_type": "markdown",
      "source": [
        "let's create vocabulary of preprocessed data"
      ],
      "metadata": {
        "id": "KNyoxCxLmkpK"
      }
    },
    {
      "cell_type": "code",
      "source": [
        "preprocessed_data = sorted(set(preprocessed_data))\n",
        "print((preprocessed_data[:20]))\n",
        "print(\"Vocab Size :\",len(preprocessed_data))"
      ],
      "metadata": {
        "colab": {
          "base_uri": "https://localhost:8080/"
        },
        "id": "e3l_yiVehnXp",
        "outputId": "4f50f061-9d92-43e4-cc9a-39d61a5d0b01"
      },
      "execution_count": null,
      "outputs": [
        {
          "output_type": "stream",
          "name": "stdout",
          "text": [
            "['!', '\"', \"'\", '(', ')', '+artha', ',', '-', '-Nonexisting', '-allthevices', '-allthings', '-allthree', '-this', '.', '//www', '1', '10ofthemerchant', '11Moreover', '12Chapter', '13']\n",
            "Vocab Size : 4629\n"
          ]
        }
      ]
    },
    {
      "cell_type": "markdown",
      "source": [
        "Assign token id"
      ],
      "metadata": {
        "id": "tVnWkhQ8qF1N"
      }
    },
    {
      "cell_type": "code",
      "source": [
        "vocab ={token:id for id,token in enumerate(preprocessed_data)}\n",
        "print(vocab)"
      ],
      "metadata": {
        "colab": {
          "base_uri": "https://localhost:8080/"
        },
        "id": "_g8FGs21h240",
        "outputId": "69d12f2c-1095-4e0e-a87d-0ba06b604328"
      },
      "execution_count": null,
      "outputs": [
        {
          "output_type": "stream",
          "name": "stdout",
          "text": [
            "{'!': 0, '\"': 1, \"'\": 2, '(': 3, ')': 4, '+artha': 5, ',': 6, '-': 7, '-Nonexisting': 8, '-allthevices': 9, '-allthings': 10, '-allthree': 11, '-this': 12, '.': 13, '//www': 14, '1': 15, '10ofthemerchant': 16, '11Moreover': 17, '12Chapter': 18, '13': 19, '13wisdom': 20, '14Grip': 21, '1532': 22, '1584–June': 23, '15theseat': 24, '1644': 25, '1645': 26, '16hemay': 27, '17spring': 28, '1886': 29, '18Continuous': 30, '19': 31, '1928': 32, '1960s': 33, '19You': 34, '1About': 35, '1THE': 36, '2': 37, '20aside': 38, '20th': 39, '21To': 40, '22Oral': 41, '23Chapter': 42, '24Stand': 43, '25Alternatively': 44, '26check': 45, '27Knowing': 46, '28afortified': 47, '29Inlarge-scale': 48, '2Introduction': 49, '2THE': 50, '3': 51, '3-5': 52, '30things': 53, '31The': 54, '32The': 55, '33': 56, '34Ofcourse': 57, '35Chapter': 58, '36inferior': 59, '37Without': 60, '380BC': 61, '38you': 62, '39condition': 63, '3Chapter': 64, '3THE': 65, '4': 66, '40Speed': 67, '41Inthis': 68, '42Chapter': 69, '43SHINMEN': 70, '44Loved': 71, '45Beyond': 72, '46of': 73, '47Masters': 74, '4849': 75, '4THE': 76, '4practice': 77, '5': 78, '5THE': 79, '5houses': 80, '6': 81, '6The': 82, '7': 83, '7should': 84, '8': 85, '8AsIwill': 86, '9': 87, '9The': 88, ':': 89, ';': 90, '?': 91, 'Abandon': 92, 'Abdomen': 93, 'Abilities': 94, 'About': 95, 'Above': 96, 'Absorb': 97, 'According': 98, 'Accordingly': 99, 'Adopt': 100, 'Advantage': 101, 'After': 102, 'Akiyama': 103, 'Allthefive': 104, 'Allthings': 105, 'Allthis': 106, 'Also': 107, 'Although': 108, 'Always': 109, 'Anelevated': 110, 'Anindividual': 111, 'Another': 112, 'Antoon': 113, 'Any': 114, 'Anyway': 115, 'Apart': 116, 'Aportion': 117, 'Apply': 118, 'Approach': 119, 'Approaches': 120, 'Arima': 121, 'Array': 122, 'Art': 123, 'ArtofWar': 124, 'Arts': 125, 'As': 126, 'AsIsaid': 127, 'Asfortheother': 128, 'Asia': 129, 'Asifitwere': 130, 'Asifwith': 131, 'Astheenemy': 132, 'Asyou': 133, 'Athenians': 134, 'Atnight': 135, 'Attack': 136, 'Attaining': 137, 'Attitude': 138, 'Attitude-No': 139, 'Attitudes': 140, 'BCbySun': 141, 'BOOK': 142, 'Balance': 143, 'Battle': 144, 'Be-': 145, 'Bearing': 146, 'Because': 147, 'Become': 148, 'Beintent': 149, 'Bene-': 150, 'Benefit': 151, 'Beneither': 152, 'Bennosuke': 153, 'Besides': 154, 'Beyond': 155, 'Blows': 156, 'Body': 157, 'Book': 158, 'Books': 159, 'Both': 160, 'Bows': 161, 'Brace': 162, 'Buddha': 163, 'Buddhism': 164, 'Buddhist': 165, 'But': 166, 'Buteven': 167, 'Butwe': 168, 'Butyou': 169, 'By': 170, 'ByWind': 171, 'Byobserving': 172, 'Bythe': 173, 'Bytheir': 174, 'Byusing': 175, 'Byvictory': 176, 'Byvoid': 177, 'Böse': 178, 'Call': 179, 'Cannot': 180, 'Carpenter': 181, 'Carrying': 182, 'Categories': 183, 'Cause': 184, 'Ceremony': 185, 'Change': 186, 'Characters': 187, 'Chase': 188, 'China': 189, 'Chinese': 190, 'Ching': 191, 'Collapse': 192, 'Coming': 193, 'Commander': 194, 'Commanders': 195, 'Communication': 196, 'Comparing': 197, 'Composed': 198, 'Conception': 199, 'Confront': 200, 'Confusion': 201, 'Continuous': 202, 'Corners': 203, 'Crossing': 204, 'Crush': 205, 'Cthulhu': 206, 'Cut': 207, 'Cutting': 208, 'De': 209, 'Deliberately': 210, 'Depending': 211, 'Depths': 212, 'Design': 213, 'Develop': 214, 'Direct': 215, 'Discern': 216, 'Discipline': 217, 'Distinguish': 218, 'Do': 219, 'Dojo': 220, 'Donot': 221, 'Donotlet': 222, 'Donotletyour': 223, 'Donottrytocutstrongly': 224, 'Down': 225, 'Draw': 226, 'During': 227, 'Dōraku': 228, 'Each': 229, 'East': 230, 'Ei': 231, 'Einstein': 232, 'Emulsion': 233, 'Enact': 234, 'Enemies': 235, 'Enemy': 236, 'English': 237, 'Entanglement': 238, 'Even': 239, 'Everything': 240, 'Evil': 241, 'Examine': 242, 'Existing': 243, 'Extra-Long': 244, 'Eyes': 245, 'FIRE': 246, 'Face': 247, 'Fast': 248, 'February': 249, 'Feet': 250, 'Feint': 251, 'Fifthly': 252, 'Fire': 253, 'Fires': 254, 'First': 255, 'Five': 256, 'Fixed': 257, 'Fixed-': 258, 'Fixing': 259, 'Fixyour': 260, 'Floor': 261, 'Flowing': 262, 'Footballers': 263, 'Footwork': 264, 'For': 265, 'Ford': 266, 'Forestall': 267, 'Forexample': 268, 'Forthis': 269, 'Four': 270, 'Fourthly': 271, 'Friedrich': 272, 'Fright': 273, 'Frighten': 274, 'From': 275, 'Fujiwara': 276, 'Furthermore': 277, 'GROUND': 278, 'Gautama': 279, 'Gaze': 280, 'Generally': 281, 'German': 282, 'Get': 283, 'Glue': 284, 'Go': 285, 'Good': 286, 'Gotama': 287, 'Great': 288, 'Ground': 289, 'Gut': 290, 'Hands': 291, 'He': 292, 'Head': 293, 'Heart': 294, 'Hecarries': 295, 'Heends': 296, 'Heidegger': 297, 'Height': 298, 'Hemakes': 299, 'Hendrik': 300, 'Here': 301, 'Hermann': 302, 'Heshould': 303, 'Hesse': 304, 'Hetaught': 305, 'Hewho': 306, 'Hewill': 307, 'Hilt': 308, 'His': 309, 'Hit': 310, 'Hitachi': 311, 'Hold': 312, 'Holding': 313, 'Holybooks': 314, 'Horses': 315, 'Houses': 316, 'Howard': 317, 'However': 318, 'Hyōhō': 319, 'I': 320, 'Ialways': 321, 'Ibelieve': 322, 'Icannot': 323, 'Ichi': 324, 'Ichi-ryū': 325, 'Iclearly': 326, 'Icould': 327, 'Idescribe': 328, 'Ididnotusethelaw': 329, 'Idislike': 330, 'Idonot': 331, 'Idonotdeal': 332, 'Iexpect': 333, 'If': 334, 'Ifagen-': 335, 'Ifasyou': 336, 'Ifheattains': 337, 'Ifhisbody': 338, 'Ifirst': 339, 'Ifthecorners': 340, 'Iftheenemy': 341, 'Iftheforeman': 342, 'Ifthere': 343, 'Ifthesituation': 344, 'Ifthewind': 345, 'Ifthis': 346, 'Ifweconsider': 347, 'Ifwecrush': 348, 'Ifweknow': 349, 'Ifwelook': 350, 'Ifwewatch': 351, 'Ifyou': 352, 'Igradually': 353, 'Ihad': 354, 'Ihave': 355, 'Iintend': 356, 'IlPrincipe': 357, 'Ilooked': 358, 'Imamichi': 359, 'Imean': 360, 'Immature': 361, 'Immediately': 362, 'In': 363, 'InBeyond': 364, 'InChina': 365, 'InOne': 366, 'InPlato': 367, 'Inac-': 368, 'Inallforms': 369, 'Inallskills': 370, 'Inancient': 371, 'Inany': 372, 'Inasmuch': 373, 'Inbattles': 374, 'Inbuildings': 375, 'Incontests': 376, 'Indian': 377, 'Induels': 378, 'Inhisbook': 379, 'Inhouses': 380, 'Injure': 381, 'Inlarge-scale': 382, 'InmyIchi': 383, 'Inmydoctrine': 384, 'Inmystrategy': 385, 'Inolden': 386, 'Inorder': 387, 'Inshort': 388, 'Insingle': 389, 'Instrategy': 390, 'Interior': 391, 'IntheWay': 392, 'Inthebook': 393, 'Intheconstruction': 394, 'Inthefifth': 395, 'Inthefirst': 396, 'Inthehands': 397, 'Inthese': 398, 'Inthesecond': 399, 'Inthethird': 400, 'Inthevoid': 401, 'Intheworld': 402, 'Inthis': 403, 'Ipractice': 404, 'Ireached': 405, 'Ishow': 406, 'Isitflourishing': 407, 'Istruck': 408, 'Istudied': 409, 'It': 410, 'Itake': 411, 'Iteach': 412, 'Ithas': 413, 'Ithink': 414, 'Itis': 415, 'Itisalso': 416, 'Itisbad': 417, 'Itisbetter': 418, 'Itisdifficult': 419, 'Itisencumbering': 420, 'Itisespecially': 421, 'Itisessential': 422, 'Itisimportant': 423, 'Itisimpossible': 424, 'Itisnecessary': 425, 'Itisnot': 426, 'Itisnow': 427, 'Itisoften': 428, 'Itisoneofthemost': 429, 'Itispossible': 430, 'Itisthefirst': 431, 'Itistheonly': 432, 'Itisvery': 433, 'Itiswritten': 434, 'Itmeans': 435, 'Itshows': 436, 'Itsinfluence': 437, 'Ittakes': 438, 'Itwas': 439, 'Itwill': 440, 'Iwas': 441, 'Iwato': 442, 'Iwent': 443, 'Iwill': 444, 'Japan': 445, 'Japanese': 446, 'Jenseits': 447, 'Just': 448, 'Kakuzo': 449, 'Kama': 450, 'Kantori': 451, 'Ken': 452, 'Kihei': 453, 'Know': 454, 'Knowing': 455, 'Knows': 456, 'Kwannon': 457, 'Kāma': 458, 'Lacquer': 459, 'Language': 460, 'Laozi': 461, 'Learn': 462, 'Leaves': 463, 'Left': 464, 'Let': 465, 'Letit': 466, 'Like': 467, 'Long': 468, 'Looking': 469, 'Lorentz': 470, 'Loss': 471, 'Lovecraft': 472, 'Lower': 473, 'MUSASHI': 474, 'Machiavelli': 475, 'Machiavellian': 476, 'Magonojo': 477, 'Maintain': 478, 'Make': 479, 'Many': 480, 'Masters': 481, 'May': 482, 'Meet': 483, 'Men': 484, 'Methods': 485, 'Middle': 486, 'Mind': 487, 'Mingle': 488, 'Miyamoto': 489, 'Monkey': 490, 'More': 491, 'Mountain-Sea': 492, 'Move': 493, 'Musashi': 494, 'My': 495, 'MyWay': 496, 'Myfirst': 497, 'Myheart': 498, 'Name': 499, 'Neck': 500, 'Neither': 501, 'Neo-Confucianism': 502, 'Next': 503, 'Ni': 504, 'NiTen': 505, 'Niccolò': 506, 'Nietzsche': 507, 'Niten': 508, 'Niten-': 509, 'Nito': 510, 'No': 511, 'No-Attitude': 512, 'NoConcep-': 513, 'NoConception': 514, 'NoGenshin': 515, 'NoKami': 516, 'NoSen': 517, 'Non-Fiction': 518, 'Note': 519, 'OF': 520, 'Ob-': 521, 'Observing': 522, 'Obviously': 523, 'Of': 524, 'Ofcourse': 525, 'Okakura': 526, 'On': 527, 'Once': 528, 'One': 529, 'Onthebattle-': 530, 'Or': 531, 'Oral': 532, 'Originally': 533, 'Oryou': 534, 'Other': 535, 'Outline': 536, 'Ox': 537, 'P': 538, 'Parry': 539, 'Parvati': 540, 'Pass': 541, 'Pay': 542, 'Penetrate': 543, 'Penetrating': 544, 'People': 545, 'Perceive': 546, 'Perceiving': 547, 'Perception': 548, 'Perhaps': 549, 'Phillips': 550, 'Philosophie': 551, 'Philosophy': 552, 'Pillow': 553, 'Place': 554, 'Placing': 555, 'Planning': 556, 'Plato': 557, 'Pliability': 558, 'Polish': 559, 'Practice': 560, 'Prelude': 561, 'Prince': 562, 'Principalities': 563, 'Principatibus': 564, 'Published': 565, 'Rat': 566, 'Reading': 567, 'Really': 568, 'Recently': 569, 'Recorded': 570, 'Red': 571, 'Relativity': 572, 'Release': 573, 'Renew': 574, 'Republic': 575, 'Research': 576, 'Return': 577, 'Right': 578, 'Rings': 579, 'Rock': 580, 'Ryu': 581, 'S': 582, 'Sanskrit': 583, 'Schools': 584, 'Scold': 585, 'Second': 586, 'Sein': 587, 'Sen': 588, 'Seven': 589, 'Shade': 590, 'Shadow': 591, 'Shastra': 592, 'Shinmen': 593, 'Shinto': 594, 'Shiva': 595, 'Shoho': 596, 'Shorter': 597, 'Shout': 598, 'Shouts': 599, 'Siddhartha': 600, 'Side': 601, 'Sight': 602, 'Similar': 603, 'Similarly': 604, 'Since': 605, 'Slash': 606, 'Slashing': 607, 'Sleepiness': 608, 'Slow': 609, 'Smacking': 610, 'Small': 611, 'So': 612, 'So-called': 613, 'Soak': 614, 'Some': 615, 'Someone': 616, 'Sometimes': 617, 'Source': 618, 'Spear': 619, 'Spears': 620, 'Speed': 621, 'Spirit': 622, 'Spiritual': 623, 'Spoke': 624, 'Springing': 625, 'Stab': 626, 'Stance': 627, 'Step': 628, 'Stickiness': 629, 'Still': 630, 'Stones': 631, 'Straight': 632, 'Strategy': 633, 'Stretch': 634, 'Strictly': 635, 'Strike': 636, 'Strive': 637, 'Strong': 638, 'Students': 639, 'Study': 640, 'Such': 641, 'Sun': 642, 'Surely': 643, 'Surface': 644, 'Sutra': 645, 'Sweep': 646, 'Sword': 647, 'Swords': 648, 'THE': 649, 'TUT': 650, 'Tadashima': 651, 'Tai': 652, 'TaiNo': 653, 'Take': 654, 'Takezō': 655, 'Tales': 656, 'Tao': 657, 'Taoism': 658, 'Taoist': 659, 'Te': 660, 'TeChing': 661, 'Tea': 662, 'Teach': 663, 'Teaching': 664, 'Teaism': 665, 'Teruro': 666, 'That': 667, 'The': 668, 'Their': 669, 'Then': 670, 'Theory': 671, 'There': 672, 'Therefore': 673, 'These': 674, 'They': 675, 'Things': 676, 'Third': 677, 'Thirdly': 678, 'This': 679, 'Those': 680, 'Three': 681, 'Through': 682, 'Throw': 683, 'Thrust': 684, 'Thus': 685, 'Timber': 686, 'Timbers': 687, 'Time': 688, 'Times': 689, 'Timing': 690, 'To': 691, 'Toaim': 692, 'ToallWays': 693, 'Toattain': 694, 'Tobecome': 695, 'Tocross': 696, 'Tocutand': 697, 'Today': 698, 'Todefeat': 699, 'Tohold': 700, 'Toknow': 701, 'Tolearn': 702, 'Tomaster': 703, 'Torelease': 704, 'Torenew': 705, 'Tostab': 706, 'Totread': 707, 'Tounderstand': 708, 'Towield': 709, 'Tradition': 710, 'Traditionally': 711, 'Train': 712, 'Tread': 713, 'Treading': 714, 'Troops': 715, 'Turn': 716, 'Tut': 717, 'Tut-TUT': 718, 'Twelfth': 719, 'Two': 720, 'Tzu': 721, 'Unpracticed': 722, 'Until': 723, 'Upper': 724, 'Use': 725, 'Using': 726, 'Usually': 727, 'VOID': 728, 'Vatsyayana': 729, 'Very': 730, 'Victory': 731, 'Void': 732, 'Vorspiel': 733, 'WATER': 734, 'WIND': 735, 'Waiting': 736, 'War': 737, 'Warriors': 738, 'Water': 739, 'Way': 740, 'Ways': 741, 'We': 742, 'Weapons': 743, 'Wedge': 744, 'Wedonot': 745, 'Welive': 746, 'Wemust': 747, 'Weshout': 748, 'Western': 749, 'What': 750, 'Whatever': 751, 'When': 752, 'Whenever': 753, 'Whether': 754, 'Wield': 755, 'Wikipedia': 756, 'Wilhelm': 757, 'Wind': 758, 'Wisdom': 759, 'With': 760, 'Without': 761, 'Written': 762, 'Yin-Yang': 763, 'You': 764, 'Your': 765, 'Zarathustra': 766, 'Zeit': 767, 'Zhuangzi': 768, 'Zukunft': 769, '[allusion': 770, 'a': 771, 'aWay': 772, 'aban-': 773, 'abdo-': 774, 'abdomen': 775, 'abilities': 776, 'ability': 777, 'able': 778, 'abored': 779, 'about': 780, 'above': 781, 'abow': 782, 'absorb': 783, 'ac-': 784, 'accelerating': 785, 'acceptance': 786, 'accompany': 787, 'accomplished': 788, 'accomplishments': 789, 'according': 790, 'accordingly': 791, 'account': 792, 'accumulate': 793, 'accurately': 794, 'accustomed': 795, 'achapter': 796, 'achieve': 797, 'acquainted': 798, 'across': 799, 'actaccording': 800, 'actcontrarily': 801, 'actions': 802, 'actors': 803, 'actually': 804, 'acut': 805, 'adead': 806, 'adhere': 807, 'adifferent': 808, 'adistance': 809, 'adistanced': 810, 'adjusting': 811, 'adoctrine': 812, 'adopt': 813, 'adopts': 814, 'advance': 815, 'advantage': 816, 'advantageous': 817, 'advantages': 818, 'advice': 819, 'af-': 820, 'afact': 821, 'afanorshort': 822, 'afast': 823, 'afault': 824, 'afavourable': 825, 'afavourite': 826, 'afeeling': 827, 'afeint': 828, 'afew': 829, 'affected': 830, 'afinish': 831, 'afolding': 832, 'after': 833, 'afterwards': 834, 'again': 835, 'against': 836, 'agap': 837, 'age': 838, 'agesixty': 839, 'agetospeak': 840, 'agood': 841, 'agreat': 842, 'agricultural': 843, 'ahigh': 844, 'ahuge': 845, 'ahundred': 846, 'aided': 847, 'aim': 848, 'ajumpy': 849, 'alarge': 850, 'aliking': 851, 'aline': 852, 'alittle': 853, 'all': 854, 'allat': 855, 'alleged': 856, 'allfour': 857, 'allfrighten': 858, 'allitscontents': 859, 'allmanner': 860, 'allots': 861, 'allow': 862, 'allowing': 863, 'allthe': 864, 'allwarriors': 865, 'ally': 866, 'alone': 867, 'along': 868, 'along-time': 869, 'aloss': 870, 'alow': 871, 'alplaces': 872, 'also': 873, 'altering': 874, 'alternately': 875, 'alternative': 876, 'although': 877, 'always': 878, 'aman': 879, 'amaster': 880, 'amawarrior': 881, 'amistaken': 882, 'among': 883, 'an': 884, 'anartbut': 885, 'anat-': 886, 'anattack': 887, 'anaxe': 888, 'ance': 889, 'ancient': 890, 'and': 891, 'anen-': 892, 'anenemy': 893, 'anentangled': 894, 'anhonest': 895, 'anin-': 896, 'anopponent': 897, 'another': 898, 'anoutline': 899, 'anox': 900, 'anticipating': 901, 'anunderstanding': 902, 'any': 903, 'anything': 904, 'aone': 905, 'ap-': 906, 'apart': 907, 'apatient': 908, 'aperson': 909, 'apillow': 910, 'aplane': 911, 'apopular': 912, 'appear': 913, 'appearance': 914, 'applies': 915, 'apply': 916, 'applying': 917, 'appreciate': 918, 'approach': 919, 'approached': 920, 'approaches': 921, 'appropriate': 922, 'apreced-': 923, 'aprisoner': 924, 'aquick': 925, 'arat': 926, 'arate': 927, 'arather': 928, 'archers': 929, 'archery': 930, 'architecture': 931, 'are': 932, 'area': 933, 'areable': 934, 'areabout': 935, 'arealso': 936, 'arealways': 937, 'areatadisadvantage': 938, 'arebeaten': 939, 'arecalled': 940, 'arecarried': 941, 'arechiefly': 942, 'areconcerned': 943, 'arecontend-': 944, 'arecorrect': 945, 'arecrossed': 946, 'aredecisive': 947, 'aredifficult': 948, 'aredivided': 949, 'areeasy': 950, 'areeffectively': 951, 'areengaged': 952, 'areessen-': 953, 'arefighting': 954, 'arefluid': 955, 'arefol-': 956, 'areforsituations': 957, 'arefour': 958, 'arehard-pressed': 959, 'arein': 960, 'areinahouse': 961, 'areinconfrontation': 962, 'areintent': 963, 'areknow': 964, 'areknown': 965, 'arelooking': 966, 'aremany': 967, 'aremeet': 968, 'arenoattitudes': 969, 'arenomethods': 970, 'arenone': 971, 'arenot': 972, 'arenotlimited': 973, 'arenotpart': 974, 'arenottobemoved': 975, 'arenowadays': 976, 'areobstructions': 977, 'areonhorseback': 978, 'areoverthrown': 979, 'arerelying': 980, 'aresaid': 981, 'areseen': 982, 'areserved': 983, 'areseveral': 984, 'areshown': 985, 'areside-tracks': 986, 'aresolute': 987, 'aresotechnical': 988, 'arestriving': 989, 'arestruggling': 990, 'arethe': 991, 'arethefour': 992, 'arethegive': 993, 'arethehigher': 994, 'aretheidle': 995, 'arethespecialties': 996, 'arethethree': 997, 'arethetrue': 998, 'arethetwo': 999, 'arethis': 1000, 'arethoroughly': 1001, 'aretraining': 1002, 'aretwo': 1003, 'areusually': 1004, 'arevari-': 1005, 'arevarious': 1006, 'areweapons': 1007, 'arewritten': 1008, 'argues': 1009, 'arises': 1010, 'arm': 1011, 'armed': 1012, 'arms': 1013, 'army': 1014, 'arock': 1015, 'around': 1016, 'array': 1017, 'arrows': 1018, 'art': 1019, 'artand': 1020, 'articles': 1021, 'artisan': 1022, 'artisans': 1023, 'artistic': 1024, 'artists': 1025, 'arts': 1026, 'aryarts': 1027, 'as': 1028, 'as-': 1029, 'asCon-': 1030, 'asIusu-': 1031, 'asKama': 1032, 'asLegalism': 1033, 'asZen': 1034, 'asabeginner': 1035, 'asabeneficial': 1036, 'asabove': 1037, 'asadoctor': 1038, 'asagood': 1039, 'asahorse': 1040, 'asahundred': 1041, 'asanaffirmative': 1042, 'asapejorative': 1043, 'asapoet': 1044, 'asasource': 1045, 'asawarrior': 1046, 'asbe-': 1047, 'ascalmly': 1048, 'asearoute': 1049, 'asecond': 1050, 'asexcellent': 1051, 'asfast': 1052, 'asfighting': 1053, 'asfive': 1054, 'asgentlemen': 1055, 'ashadow': 1056, 'ashand': 1057, 'asheattacks': 1058, 'asheattempts': 1059, 'ashedraws': 1060, 'ashefeels': 1061, 'ashere-': 1062, 'asherelaxes': 1063, 'ashisskill': 1064, 'ashort': 1065, 'ashorter': 1066, 'ashow': 1067, 'aside': 1068, 'aside-track': 1069, 'asideways': 1070, 'asifonawinding': 1071, 'asifrideable': 1072, 'asifthey': 1073, 'asifthrusting': 1074, 'asiftocutand': 1075, 'asiftothrust': 1076, 'asiftying': 1077, 'asifusing': 1078, 'asinfights': 1079, 'asinnormal': 1080, 'asitcame': 1081, 'asitismirrored': 1082, 'asitispossible': 1083, 'asking': 1084, 'askodachi': 1085, 'asloudly': 1086, 'asmall': 1087, 'asmany': 1088, 'asmaster': 1089, 'asmen': 1090, 'asnotknowing': 1091, 'asociety': 1092, 'asoneman': 1093, 'aspart': 1094, 'aspecific': 1095, 'aspect': 1096, 'aspects': 1097, 'aspirit': 1098, 'aspos-': 1099, 'aspossible': 1100, 'asquickly': 1101, 'assault': 1102, 'assemble': 1103, 'assoon': 1104, 'asspears': 1105, 'asspeed': 1106, 'asstrategists': 1107, 'asstrong': 1108, 'assume': 1109, 'assure': 1110, 'astance': 1111, 'astenthousand': 1112, 'asthe': 1113, 'astheWay': 1114, 'asthebasis': 1115, 'asthedefin-': 1116, 'astheenemy': 1117, 'asthefive': 1118, 'asthefoundation': 1119, 'asthelong-sword': 1120, 'asthenormal': 1121, 'astheoccasion': 1122, 'asthespear': 1123, 'asthesword': 1124, 'asthey': 1125, 'asticky': 1126, 'astouching': 1127, 'astraight': 1128, 'astrategist': 1129, 'astrong': 1130, 'asuitable': 1131, 'asvarious': 1132, 'aswarriors': 1133, 'asweak': 1134, 'aswell': 1135, 'aswith': 1136, 'asword': 1137, 'asyou': 1138, 'asyour': 1139, 'at': 1140, 'at-': 1141, 'ata': 1142, 'ataford': 1143, 'atatime': 1144, 'atclose': 1145, 'atcommunicating': 1146, 'atechnique': 1147, 'atee-dum': 1148, 'atfirst': 1149, 'athim': 1150, 'athis': 1151, 'athisface': 1152, 'athou-': 1153, 'athousand': 1154, 'athrust': 1155, 'atiming': 1156, 'ato-do': 1157, 'atother': 1158, 'atrooper': 1159, 'atrue': 1160, 'atstrategy': 1161, 'attack': 1162, 'attack-': 1163, 'attacking': 1164, 'attacks': 1165, 'attain': 1166, 'attaining': 1167, 'attainment': 1168, 'attempt': 1169, 'attendants': 1170, 'attention': 1171, 'atthe': 1172, 'atthebest': 1173, 'atthecommencement': 1174, 'atthecorners': 1175, 'attheenemy': 1176, 'attheface': 1177, 'atthegate': 1178, 'attheheart': 1179, 'atthehips': 1180, 'attheir': 1181, 'atthem': 1182, 'atthesame': 1183, 'attheside': 1184, 'atthestart': 1185, 'atthesyllable': 1186, 'attheworld': 1187, 'atthings': 1188, 'atti-': 1189, 'attitude': 1190, 'attitudes': 1191, 'atwill': 1192, 'at…': 1193, 'audiences': 1194, 'author': 1195, 'autumns': 1196, 'available': 1197, 'awaiting': 1198, 'awall': 1199, 'awarrior': 1200, 'away': 1201, 'awide-': 1202, 'awild': 1203, 'awkward': 1204, 'aword': 1205, 'back': 1206, 'bad': 1207, 'bamboo': 1208, 'based': 1209, 'battle': 1210, 'battles': 1211, 'be': 1212, 'be-': 1213, 'beable': 1214, 'beamaster': 1215, 'bear': 1216, 'bearing': 1217, 'beat': 1218, 'beaten': 1219, 'beating': 1220, 'bebeaten': 1221, 'became': 1222, 'becarried': 1223, 'because': 1224, 'beclearly': 1225, 'becoarse': 1226, 'become': 1227, 'becomes': 1228, 'becoming': 1229, 'becompletely': 1230, 'bedeceived': 1231, 'bedecided': 1232, 'bedefeated': 1233, 'bedependent': 1234, 'bedetermined': 1235, 'bediffering': 1236, 'bedifficult': 1237, 'been': 1238, 'beex-': 1239, 'beexplained': 1240, 'befamiliar': 1241, 'befixed': 1242, 'before': 1243, 'begetting': 1244, 'beginners': 1245, 'begood': 1246, 'behardy': 1247, 'behavior': 1248, 'behind': 1249, 'beinfluenced': 1250, 'being': 1251, 'beinsuch': 1252, 'beintent': 1253, 'beknocked': 1254, 'belarge': 1255, 'below': 1256, 'belt': 1257, 'bemastered': 1258, 'beneficial': 1259, 'benefit': 1260, 'benohelp': 1261, 'benosuch': 1262, 'beoverthrown': 1263, 'beparaded': 1264, 'ber': 1265, 'bers': 1266, 'beseen': 1267, 'beso': 1268, 'best': 1269, 'best-known': 1270, 'besturdy': 1271, 'betaken': 1272, 'bethat': 1273, 'bethevoid': 1274, 'bethinking': 1275, 'between': 1276, 'beun-': 1277, 'beused': 1278, 'bewielded': 1279, 'bewildered': 1280, 'bewilderment': 1281, 'bewon': 1282, 'bewrinkled': 1283, 'beyond': 1284, 'bigiseasy': 1285, 'bigorsmall': 1286, 'bigthings': 1287, 'blade': 1288, 'blades': 1289, 'blind': 1290, 'blue': 1291, 'boards': 1292, 'bodies': 1293, 'body': 1294, 'book': 1295, 'books': 1296, 'born': 1297, 'both': 1298, 'bow': 1299, 'bows': 1300, 'box': 1301, 'boy': 1302, 'branches': 1303, 'break': 1304, 'breast': 1305, 'breathing': 1306, 'bring': 1307, 'bringing': 1308, 'broad': 1309, 'broaden': 1310, 'broadly': 1311, 'brought': 1312, 'building': 1313, 'bull': 1314, 'busi-': 1315, 'busy': 1316, 'but': 1317, 'butChinese': 1318, 'butIhave': 1319, 'butallow': 1320, 'butalso': 1321, 'butbygood': 1322, 'butdonottryitathird': 1323, 'butfeign': 1324, 'buthecannot': 1325, 'buthisspirit': 1326, 'buthitting': 1327, 'butifthe': 1328, 'butifwecompare': 1329, 'butincombat': 1330, 'butit': 1331, 'butitcanbegrasped': 1332, 'butitisanobstacle': 1333, 'butitisbad': 1334, 'butneither': 1335, 'butnotpub-': 1336, 'butobjectively': 1337, 'butonce': 1338, 'butpriests': 1339, 'butrather': 1340, 'butsmacking': 1341, 'butsothat': 1342, 'butswords': 1343, 'buttheenemy': 1344, 'buttheir': 1345, 'butthese': 1346, 'butthey': 1347, 'butthis': 1348, 'buttocling': 1349, 'buttodo': 1350, 'butwith': 1351, 'butyou': 1352, 'by': 1353, 'byHermann': 1354, 'byLovecraft': 1355, 'byOkakura': 1356, 'byPlato': 1357, 'byany': 1358, 'byapplying': 1359, 'byastrong': 1360, 'byattacking': 1361, 'bychanging': 1362, 'bycutting': 1363, 'bydashing': 1364, 'byday': 1365, 'byforestalling': 1366, 'byfrightening': 1367, 'bygiving': 1368, 'byhitting': 1369, 'byimagining': 1370, 'byinsignificant': 1371, 'byknowing': 1372, 'bymaking': 1373, 'bymeans': 1374, 'bymerely': 1375, 'bynotaccord-': 1376, 'byob-': 1377, 'byone': 1378, 'byover-': 1379, 'byphilosopher-kings': 1380, 'bypushing': 1381, 'byquickly': 1382, 'byrelaxing': 1383, 'bysetting': 1384, 'byshouting': 1385, 'bysticking': 1386, 'bytaking': 1387, 'bytheFlorentine': 1388, 'bytheGerman': 1389, 'bytheIndian': 1390, 'bythedevice': 1391, 'bytheenemy': 1392, 'bythelaw': 1393, 'bytheopponent': 1394, 'bythereactions': 1395, 'bythespan': 1396, 'bythis': 1397, 'bythrusting': 1398, 'bytraining': 1399, 'byusing': 1400, 'bywhat': 1401, 'byyour': 1402, 'c': 1403, 'calendar': 1404, 'called': 1405, 'calligraphers': 1406, 'calm': 1407, 'calmly': 1408, 'calmness': 1409, 'came': 1410, 'campaign': 1411, 'can': 1412, 'can-': 1413, 'canadvance': 1414, 'canalso': 1415, 'canalways': 1416, 'canbeat': 1417, 'canbecarried': 1418, 'canbecome': 1419, 'canbeeasily': 1420, 'canbepassed': 1421, 'canbeseen': 1422, 'canbeused': 1423, 'cancause': 1424, 'candothis': 1425, 'caneasily': 1426, 'canhepolish': 1427, 'canknow': 1428, 'canmanage': 1429, 'canmove': 1430, 'cannot': 1431, 'canoften': 1432, 'canperform': 1433, 'canseetheenemy': 1434, 'canseewhy': 1435, 'cansing': 1436, 'cansuddenly': 1437, 'cantake': 1438, 'canunder-': 1439, 'canunrestrictedly': 1440, 'canwalk': 1441, 'canwield': 1442, 'canwin': 1443, 'canwork': 1444, 'capability': 1445, 'captain': 1446, 'carefully': 1447, 'careless': 1448, 'carpenter': 1449, 'carpentry': 1450, 'carriage': 1451, 'carries': 1452, 'carry': 1453, 'carrying': 1454, 'carve': 1455, 'carvings': 1456, 'castles': 1457, 'catching': 1458, 'caught': 1459, 'cause': 1460, 'caused': 1461, 'causes': 1462, 'causing': 1463, 'cautious': 1464, 'ceased': 1465, 'ceaselessly': 1466, 'ceilings': 1467, 'cen-': 1468, 'central': 1469, 'centre': 1470, 'cern': 1471, 'certain': 1472, 'certainly': 1473, 'certainty': 1474, 'chan-': 1475, 'chance': 1476, 'change': 1477, 'changes': 1478, 'changing': 1479, 'chant': 1480, 'characters': 1481, 'chase': 1482, 'chasing': 1483, 'check': 1484, 'choice': 1485, 'chopping': 1486, 'chronicles': 1487, 'cifically': 1488, 'cing': 1489, 'ciple': 1490, 'circulat-': 1491, 'circumstance': 1492, 'cision': 1493, 'claim': 1494, 'clarity': 1495, 'clash': 1496, 'clear': 1497, 'clearly': 1498, 'clench': 1499, 'climbed': 1500, 'clination': 1501, 'clining': 1502, 'close': 1503, 'closed': 1504, 'closely': 1505, 'clouded': 1506, 'clouds': 1507, 'coarsely': 1508, 'collapse': 1509, 'collapses': 1510, 'colour': 1511, 'colouring': 1512, 'columns': 1513, 'com': 1514, 'com/a-book-of-five-rings-by-miyamoto-musashi/': 1515, 'combat': 1516, 'come': 1517, 'comes': 1518, 'command': 1519, 'commander': 1520, 'commanders': 1521, 'commercial': 1522, 'companion': 1523, 'compared': 1524, 'comparison': 1525, 'complete': 1526, 'composed': 1527, 'con-': 1528, 'concealed': 1529, 'concentrate': 1530, 'concentrating': 1531, 'concept': 1532, 'conception': 1533, 'concepts': 1534, 'concerned': 1535, 'concerning': 1536, 'condition': 1537, 'conditions': 1538, 'confines': 1539, 'confused': 1540, 'confuses': 1541, 'confusion': 1542, 'conquer': 1543, 'conscientiously': 1544, 'consider': 1545, 'consideration': 1546, 'considerations': 1547, 'considered': 1548, 'consists': 1549, 'constantly': 1550, 'construction': 1551, 'contests': 1552, 'continue': 1553, 'continuously': 1554, 'control': 1555, 'convenient': 1556, 'conversant': 1557, 'copy': 1558, 'cordance': 1559, 'cording': 1560, 'corners': 1561, 'correct': 1562, 'correctly': 1563, 'counter-cut': 1564, 'country': 1565, 'course': 1566, 'cower': 1567, 'craft': 1568, 'cringing': 1569, 'critical': 1570, 'critics': 1571, 'critique': 1572, 'cross': 1573, 'crosses': 1574, 'crossing': 1575, 'crow': 1576, 'crowd': 1577, 'crush': 1578, 'crushed': 1579, 'crushing': 1580, 'cultivate': 1581, 'culture': 1582, 'cupied': 1583, 'cuss': 1584, 'cusses': 1585, 'cut': 1586, 'cutanenemy': 1587, 'cutasstrongly': 1588, 'cutdown': 1589, 'cutdownwards': 1590, 'cutfirst': 1591, 'cuthim': 1592, 'cuthisarms': 1593, 'cuthishead': 1594, 'cuthisupper': 1595, 'cutitbecomes': 1596, 'cutleftand': 1597, 'cutonyour': 1598, 'cuts': 1599, 'cutsever-': 1600, 'cutsideways': 1601, 'cutstrongly': 1602, 'cuttheen-': 1603, 'cuttheenemies': 1604, 'cuttheenemy': 1605, 'cutthem': 1606, 'cutting': 1607, 'cutunreasonably': 1608, 'cutwith': 1609, 'cu…': 1610, 'daily': 1611, 'dancing': 1612, 'dash': 1613, 'day': 1614, 'de-': 1615, 'deal': 1616, 'deals': 1617, 'death': 1618, 'deavour': 1619, 'decadent': 1620, 'decide': 1621, 'decides': 1622, 'decisions': 1623, 'decisively': 1624, 'decorative': 1625, 'decoratively': 1626, 'ded': 1627, 'deep': 1628, 'deeply': 1629, 'defeat': 1630, 'defeated': 1631, 'defects': 1632, 'defensive': 1633, 'definitely': 1634, 'deflect': 1635, 'deliberate': 1636, 'demand': 1637, 'demands': 1638, 'demoralising': 1639, 'denly': 1640, 'departing': 1641, 'depending': 1642, 'depends': 1643, 'deploys': 1644, 'depths': 1645, 'der': 1646, 'deranged': 1647, 'derangement': 1648, 'derstand': 1649, 'derstanding': 1650, 'derstood': 1651, 'des-': 1652, 'describe': 1653, 'detail': 1654, 'detailed': 1655, 'develop': 1656, 'devoted': 1657, 'dexterity': 1658, 'dextrously': 1659, 'di-': 1660, 'dialogue': 1661, 'dialogues': 1662, 'dicate': 1663, 'die': 1664, 'dies': 1665, 'differ': 1666, 'difference': 1667, 'different': 1668, 'difficult': 1669, 'difficulty': 1670, 'dili-': 1671, 'diligently': 1672, 'direction': 1673, 'directions': 1674, 'directly': 1675, 'dis-': 1676, 'discern-': 1677, 'discharges': 1678, 'discipline': 1679, 'discord': 1680, 'discovering': 1681, 'discreetly': 1682, 'discusses': 1683, 'discussing': 1684, 'dishonestly': 1685, 'dislike': 1686, 'dislikes': 1687, 'disorder': 1688, 'disordered': 1689, 'disposition': 1690, 'distance': 1691, 'distinguish': 1692, 'disturb-': 1693, 'ditional': 1694, 'diverge': 1695, 'diverges': 1696, 'divisions': 1697, 'do': 1698, 'doIlike': 1699, 'doctrines': 1700, 'does': 1701, 'doing': 1702, 'dointhestreet': 1703, 'dom': 1704, 'don': 1705, 'donot': 1706, 'donotallow': 1707, 'donotappreciate': 1708, 'donotbeconscious': 1709, 'donotbemisled': 1710, 'donotbend': 1711, 'donotcallmasters': 1712, 'donotfixtheir': 1713, 'donotgive': 1714, 'donotknow': 1715, 'donotlearn': 1716, 'donotlet': 1717, 'donotlethim': 1718, 'donotletyour': 1719, 'donotlook': 1720, 'donotseparate': 1721, 'donotthink': 1722, 'donotunconditionally': 1723, 'donotunderstand': 1724, 'donotvary': 1725, 'doorkeeper': 1726, 'doors': 1727, 'doso': 1728, 'dosuch': 1729, 'dothis': 1730, 'doubt': 1731, 'dowespeak': 1732, 'down': 1733, 'downfall': 1734, 'downloaded': 1735, 'downwards': 1736, 'dred': 1737, 'drive': 1738, 'drop': 1739, 'drum': 1740, 'drunk': 1741, 'duel': 1742, 'dueling': 1743, 'duels': 1744, 'dum': 1745, 'during': 1746, 'dying': 1747, 'each': 1748, 'earn-': 1749, 'ease': 1750, 'easily': 1751, 'easy': 1752, 'edge': 1753, 'ef-': 1754, 'effectively': 1755, 'einer': 1756, 'either': 1757, 'embarks': 1758, 'emerge': 1759, 'emphasises': 1760, 'employ': 1761, 'emy': 1762, 'en-': 1763, 'enact': 1764, 'encounter': 1765, 'encounters': 1766, 'encourage': 1767, 'endeavour': 1768, 'endurance': 1769, 'enemies': 1770, 'enemy': 1771, 'energy': 1772, 'engaged': 1773, 'enough': 1774, 'entail': 1775, 'entangled': 1776, 'entanglement': 1777, 'enters': 1778, 'entire': 1779, 'entity': 1780, 'entsince': 1781, 'environment': 1782, 'equipment': 1783, 'er': 1784, 'erect': 1785, 'errbyusing': 1786, 'escape': 1787, 'especially': 1788, 'essence': 1789, 'estly': 1790, 'evades': 1791, 'evading': 1792, 'evasive': 1793, 'even': 1794, 'evening': 1795, 'event': 1796, 'eventu-': 1797, 'every': 1798, 'everyday': 1799, 'everything': 1800, 'everywhere': 1801, 'evil': 1802, 'examine': 1803, 'examining': 1804, 'example': 1805, 'exist': 1806, 'existence': 1807, 'expand': 1808, 'expands': 1809, 'expect': 1810, 'experience': 1811, 'explain': 1812, 'explained': 1813, 'explains': 1814, 'explanation': 1815, 'express': 1816, 'expressed': 1817, 'extending': 1818, 'extinguished': 1819, 'extra': 1820, 'extra-long': 1821, 'extraordinary': 1822, 'eye': 1823, 'eyeontheenemy': 1824, 'eyes': 1825, 'face': 1826, 'fact': 1827, 'fail': 1828, 'failed': 1829, 'failing': 1830, 'failtotake': 1831, 'failyetagain': 1832, 'fall': 1833, 'fallen': 1834, 'falling': 1835, 'fallofcapital': 1836, 'false': 1837, 'fame': 1838, 'familiar': 1839, 'family': 1840, 'famous': 1841, 'fan': 1842, 'fanorashort': 1843, 'far': 1844, 'far-reaching': 1845, 'faraway': 1846, 'farmer': 1847, 'farmers': 1848, 'fast': 1849, 'fearlessly': 1850, 'features': 1851, 'fected': 1852, 'fectively': 1853, 'feel': 1854, 'feeling': 1855, 'feelintent': 1856, 'feet': 1857, 'feint': 1858, 'fencing': 1859, 'few': 1860, 'fictional': 1861, 'field': 1862, 'fields': 1863, 'fierce': 1864, 'fifth': 1865, 'fifty': 1866, 'fight': 1867, 'fight-': 1868, 'fighting': 1869, 'fights': 1870, 'file': 1871, 'fin-': 1872, 'find': 1873, 'fine': 1874, 'fined': 1875, 'finger': 1876, 'fingers': 1877, 'fingertips': 1878, 'finished': 1879, 'fire': 1880, 'fires': 1881, 'firewood': 1882, 'firmly': 1883, 'first': 1884, 'fist': 1885, 'fiting': 1886, 'five': 1887, 'fixed-steps': 1888, 'fixedness': 1889, 'fixing': 1890, 'fixtheeyes': 1891, 'fixtheir': 1892, 'fixyour': 1893, 'flaring': 1894, 'floating': 1895, 'floating-foot': 1896, 'floorboards': 1897, 'flourishes': 1898, 'flourishing': 1899, 'flowers': 1900, 'foiling': 1901, 'folk': 1902, 'follow': 1903, 'followed': 1904, 'following': 1905, 'foot': 1906, 'footholds': 1907, 'for': 1908, 'forTaoism': 1909, 'forbattle': 1910, 'forbreath': 1911, 'force': 1912, 'forces': 1913, 'forcombat': 1914, 'forcommanders': 1915, 'ford': 1916, 'fore': 1917, 'forearms': 1918, 'forefinger': 1919, 'forehead': 1920, 'foreigners': 1921, 'foreman': 1922, 'forestall': 1923, 'forestalling': 1924, 'forever': 1925, 'foreveryday': 1926, 'forexample': 1927, 'forextra-long': 1928, 'forgarrisoning': 1929, 'forget': 1930, 'forheight': 1931, 'forhispresence': 1932, 'forhisweak': 1933, 'forifyou': 1934, 'forinformation': 1935, 'forkilling': 1936, 'forknowing': 1937, 'forlarge': 1938, 'form': 1939, 'forman': 1940, 'formation': 1941, 'foroneman': 1942, 'forprofit': 1943, 'forsale': 1944, 'forsingle': 1945, 'forsuperior': 1946, 'forsurvival': 1947, 'forsword-testing': 1948, 'fortaking': 1949, 'fortenmil-': 1950, 'fortenthousand': 1951, 'forthe': 1952, 'fortheenemy': 1953, 'fortheinner': 1954, 'fortheir': 1955, 'forthelong': 1956, 'fortheman': 1957, 'fortheprinciple': 1958, 'forthepupil': 1959, 'fortherevealed': 1960, 'fortheschool': 1961, 'forthese': 1962, 'forthey': 1963, 'forthis': 1964, 'forthrightness': 1965, 'fortifications': 1966, 'forty': 1967, 'forustoattack': 1968, 'forwhat': 1969, 'forwin-': 1970, 'foryou': 1971, 'foster': 1972, 'fought': 1973, 'found': 1974, 'founder': 1975, 'four': 1976, 'fourth': 1977, 'free': 1978, 'freely': 1979, 'friends': 1980, 'frighten': 1981, 'frightened': 1982, 'frisk': 1983, 'from': 1984, 'fronts': 1985, 'fucianism': 1986, 'fucius': 1987, 'fullarmour': 1988, 'fullest': 1989, 'fully': 1990, 'further': 1991, 'gain': 1992, 'gained': 1993, 'gap': 1994, 'gardeners': 1995, 'gate': 1996, 'gates': 1997, 'gaze': 1998, 'gazing': 1999, 'generalisation': 2000, 'generally': 2001, 'generically': 2002, 'gentleman': 2003, 'gently': 2004, 'gers': 2005, 'get': 2006, 'getadecisive': 2007, 'getout': 2008, 'getoutoftime': 2009, 'gets': 2010, 'getting': 2011, 'ging': 2012, 'girders': 2013, 'give': 2014, 'gives': 2015, 'giving': 2016, 'go': 2017, 'goagainst': 2018, 'gods': 2019, 'gointo': 2020, 'goinwith': 2021, 'gonokoe': 2022, 'good': 2023, 'gothehilt': 2024, 'gotogether': 2025, 'gotomeet': 2026, 'gototheextent': 2027, 'gotten': 2028, 'govern': 2029, 'governing': 2030, 'grade': 2031, 'gradually': 2032, 'grasp': 2033, 'grasped': 2034, 'great': 2035, 'gredients': 2036, 'grip': 2037, 'ground': 2038, 'growing': 2039, 'guard': 2040, 'guarded': 2041, 'guide': 2042, 'guidlines': 2043, 'gun': 2044, 'guns': 2045, 'gunshot': 2046, 'habit': 2047, 'had': 2048, 'hairline': 2049, 'halberd': 2050, 'halberdiers': 2051, 'halberds': 2052, 'hand': 2053, 'hand-grip': 2054, 'handed': 2055, 'handle': 2056, 'hands': 2057, 'hanging': 2058, 'hap-': 2059, 'happens': 2060, 'hard': 2061, 'hardship': 2062, 'has': 2063, 'hasaclear': 2064, 'hasastrong': 2065, 'hasbeen': 2066, 'hasexistence': 2067, 'hasfew': 2068, 'hashad': 2069, 'hasnobegin-': 2070, 'hasnoequal': 2071, 'hasnonatural': 2072, 'hassince': 2073, 'hasthese': 2074, 'have': 2075, 'having': 2076, 'he': 2077, 'head': 2078, 'heand': 2079, 'hearing': 2080, 'heart': 2081, 'heattacks': 2082, 'heattempts': 2083, 'heavy': 2084, 'hebreaks': 2085, 'hecanbeawarrior': 2086, 'hedis-': 2087, 'hedoes': 2088, 'heels': 2089, 'hehasmany': 2090, 'height': 2091, 'heisconfused': 2092, 'heisdead': 2093, 'heisstill': 2094, 'heisunsettled': 2095, 'hejumps': 2096, 'held': 2097, 'hemay': 2098, 'henothave': 2099, 'hepasses': 2100, 'hepossesses': 2101, 'here': 2102, 'heregards': 2103, 'hesees': 2104, 'heshould': 2105, 'hewas': 2106, 'hewho': 2107, 'hewill': 2108, 'higher': 2109, 'him': 2110, 'himself': 2111, 'hips': 2112, 'his': 2113, 'hisattack': 2114, 'hisattacking': 2115, 'hisback': 2116, 'hiscon-': 2117, 'hiscut': 2118, 'hisdefence': 2119, 'hiseyes': 2120, 'hisface': 2121, 'hisgoals': 2122, 'hishands': 2123, 'hisin-': 2124, 'hisjump': 2125, 'hislifetime': 2126, 'hisliving': 2127, 'hislong': 2128, 'hismen': 2129, 'hismind': 2130, 'hismovements': 2131, 'hisown': 2132, 'hisplans': 2133, 'hisposition': 2134, 'hisquality': 2135, 'hisrenunciation': 2136, 'hisresources': 2137, 'hisright': 2138, 'hisschool': 2139, 'hisspeedy': 2140, 'hisspir-': 2141, 'hisspirit': 2142, 'hisstrategy': 2143, 'hisstrength': 2144, 'hissword': 2145, 'histechnique': 2146, 'histhoughts': 2147, 'histhrust': 2148, 'history': 2149, 'hisuseless': 2150, 'hiswife': 2151, 'hiswork': 2152, 'hit': 2153, 'hitfirst': 2154, 'hitfrom': 2155, 'hithim': 2156, 'hithishands': 2157, 'hittheenemy': 2158, 'hitting': 2159, 'hittoohard': 2160, 'hitwith': 2161, 'hold': 2162, 'holding': 2163, 'holybooks': 2164, 'homage': 2165, 'hon-': 2166, 'hope': 2167, 'horizontally': 2168, 'horses': 2169, 'hour': 2170, 'house': 2171, 'houses': 2172, 'how': 2173, 'however': 2174, 'http': 2175, 'hundreds': 2176, 'hurriedly': 2177, 'ideas': 2178, 'ies': 2179, 'if': 2180, 'ifalittle': 2181, 'ifaman': 2182, 'ifhe': 2183, 'ifhisrhythm': 2184, 'ifhisspirit': 2185, 'ifitisnotbased': 2186, 'iftheen-': 2187, 'iftheenemy': 2188, 'ifthere': 2189, 'ifthey': 2190, 'iftiming': 2191, 'ifwe': 2192, 'ifwearebusy': 2193, 'ifweareusing': 2194, 'ifwethink': 2195, 'ifwhen': 2196, 'ifyou': 2197, 'ifyour': 2198, 'ignorance': 2199, 'illusionary': 2200, 'illustrating': 2201, 'im-': 2202, 'implies': 2203, 'important': 2204, 'importantly': 2205, 'in': 2206, 'in-': 2207, 'in1513': 2208, 'in1906': 2209, 'in1919': 2210, 'in1922': 2211, 'in1951': 2212, 'inBuddhism': 2213, 'inChinese': 2214, 'inGerman': 2215, 'inIndia': 2216, 'inKyushu': 2217, 'inSanskrit': 2218, 'inThe': 2219, 'inWeird': 2220, 'ina': 2221, 'inaccordance': 2222, 'inacompetitive': 2223, 'inaconfined': 2224, 'inacontrolled': 2225, 'inactual': 2226, 'inaday': 2227, 'inadocumentary': 2228, 'inaduel': 2229, 'inafresh': 2230, 'inahouse': 2231, 'inallthe': 2232, 'inanad-': 2233, 'inand': 2234, 'inanunsuspecting': 2235, 'inapproximately': 2236, 'inareasonable': 2237, 'inaseparate': 2238, 'inasimple': 2239, 'inastrong': 2240, 'inattacking': 2241, 'inawide': 2242, 'inbattle': 2243, 'inboth': 2244, 'inch': 2245, 'inches': 2246, 'inclination': 2247, 'inclined': 2248, 'included': 2249, 'including': 2250, 'incombat': 2251, 'incon-': 2252, 'inconfusing': 2253, 'incrossing': 2254, 'indancing': 2255, 'indecisive': 2256, 'independent': 2257, 'indetail': 2258, 'indicating': 2259, 'indistinguishable': 2260, 'individual': 2261, 'individuals': 2262, 'indoor': 2263, 'induced': 2264, 'indueling': 2265, 'ineither': 2266, 'inev-': 2267, 'inevery': 2268, 'ineveryday': 2269, 'ineverything': 2270, 'inexchange': 2271, 'infa-': 2272, 'infect': 2273, 'inferior': 2274, 'infighting': 2275, 'infights': 2276, 'inflight': 2277, 'influence': 2278, 'influenced': 2279, 'influential': 2280, 'infront': 2281, 'ing': 2282, 'ingand': 2283, 'ingattacked': 2284, 'ingboth': 2285, 'ingsignificance': 2286, 'ingsothat': 2287, 'ingtheeyeballs': 2288, 'ingthesoundness': 2289, 'ingup': 2290, 'ingwith': 2291, 'ingyour': 2292, 'inharbour': 2293, 'inharmony': 2294, 'inhis': 2295, 'inhisharmony': 2296, 'inhisthriving': 2297, 'inhistool': 2298, 'initiative': 2299, 'initsdepths': 2300, 'injure': 2301, 'inlarge': 2302, 'inlarge-scale': 2303, 'inlater': 2304, 'inletting': 2305, 'inman': 2306, 'inmind': 2307, 'inmyWay': 2308, 'inner': 2309, 'inone': 2310, 'inoneaction': 2311, 'inonehand': 2312, 'inonequarter': 2313, 'inorder': 2314, 'inourland': 2315, 'inpenetrating': 2316, 'inplace': 2317, 'inpure': 2318, 'inquestion': 2319, 'inquickly': 2320, 'inrhythm': 2321, 'insections': 2322, 'inseveral': 2323, 'inside': 2324, 'insieges': 2325, 'insingle': 2326, 'inspired': 2327, 'inspirit': 2328, 'instances': 2329, 'instant': 2330, 'instantly': 2331, 'instead': 2332, 'instill': 2333, 'instrategy': 2334, 'instrongly': 2335, 'instructing': 2336, 'instruction': 2337, 'instruments': 2338, 'insufficiently': 2339, 'insweeps': 2340, 'insword': 2341, 'intaking': 2342, 'intechniques': 2343, 'inten-': 2344, 'intend': 2345, 'intent': 2346, 'intention': 2347, 'intentionally': 2348, 'intentions': 2349, 'interior': 2350, 'interms': 2351, 'interpret': 2352, 'interpretations': 2353, 'interpreted': 2354, 'inthat': 2355, 'inthe': 2356, 'inthe1910s': 2357, 'intheGround': 2358, 'intheIchi': 2359, 'intheSanskrit': 2360, 'intheU': 2361, 'intheVoid': 2362, 'intheWay': 2363, 'intheabove': 2364, 'inthecause': 2365, 'inthedepths': 2366, 'inthedirection': 2367, 'intheearly': 2368, 'intheenemy': 2369, 'inthefight': 2370, 'inthefive': 2371, 'intheinterior': 2372, 'intheir': 2373, 'intheleast': 2374, 'inthemidst': 2375, 'inthenew': 2376, 'inthephysical': 2377, 'intheriseand': 2378, 'inthesame': 2379, 'inthesecond': 2380, 'inthesense': 2381, 'inthesmall': 2382, 'inthespirit': 2383, 'inthesummer': 2384, 'inthesun': 2385, 'inthetwentieth': 2386, 'intheuseofhistools': 2387, 'inthewake': 2388, 'inthewhole': 2389, 'intheworld': 2390, 'inthis': 2391, 'intime': 2392, 'intiming': 2393, 'into': 2394, 'introduce': 2395, 'introduced': 2396, 'introduces': 2397, 'intuitive': 2398, 'intuitively': 2399, 'invincible': 2400, 'involved': 2401, 'involving': 2402, 'inwhich': 2403, 'inwith': 2404, 'inwords': 2405, 'inwriting': 2406, 'inyour': 2407, 'ions': 2408, 'irritate': 2409, 'is': 2410, 'isa': 2411, 'isaChinese': 2412, 'isaSocratic': 2413, 'isaWay': 2414, 'isaamaster': 2415, 'isabit': 2416, 'isabook': 2417, 'isabout': 2418, 'isacase': 2419, 'isaccessibile': 2420, 'isaconstant': 2421, 'isadifferent': 2422, 'isaffected': 2423, 'isagainst': 2424, 'isagitated': 2425, 'isahawk': 2426, 'isaliving': 2427, 'isalso': 2428, 'isanallegorical': 2429, 'isanancient': 2430, 'isanencumbrance': 2431, 'isanimportant': 2432, 'isanobstruction': 2433, 'isapheasant': 2434, 'isaplan': 2435, 'isapolitical': 2436, 'isaprinciple': 2437, 'isasaneedle': 2438, 'isasmuch': 2439, 'isaspiritual': 2440, 'isasthread': 2441, 'isathing': 2442, 'isatruth': 2443, 'isattributed': 2444, 'isbad': 2445, 'isbased': 2446, 'isbe-': 2447, 'isbecoming': 2448, 'isbyway': 2449, 'iscalled': 2450, 'iscalm': 2451, 'iscertain': 2452, 'iscommonly': 2453, 'iscompletely': 2454, 'isdanger': 2455, 'isde-': 2456, 'isdecisive': 2457, 'isdefens-': 2458, 'isdefensive': 2459, 'isdevoted': 2460, 'isdexterity': 2461, 'isdifferent': 2462, 'isdifficult': 2463, 'isdisorganised': 2464, 'isdone': 2465, 'iseasy': 2466, 'isencountered': 2467, 'isespecially': 2468, 'isessential': 2469, 'isexplained': 2470, 'isfirm': 2471, 'isfortheextra-long': 2472, 'isfundamental': 2473, 'isgood': 2474, 'ishappier': 2475, 'ishaving': 2476, 'ishigh': 2477, 'ishow': 2478, 'ishurrying': 2479, 'isimmoveable': 2480, 'isimportant': 2481, 'isinaconfined': 2482, 'isinalong': 2483, 'isinclined': 2484, 'isinconsistent': 2485, 'isinferior': 2486, 'isinspirit': 2487, 'isintent': 2488, 'isintheRight': 2489, 'isknow': 2490, 'isknown': 2491, 'island': 2492, 'islarge': 2493, 'islax': 2494, 'isless': 2495, 'islike': 2496, 'islittle': 2497, 'islow-pitched': 2498, 'ismade': 2499, 'ismeant': 2500, 'isneither': 2501, 'isno': 2502, 'isnocase': 2503, 'isnoenemy': 2504, 'isnoescape': 2505, 'isnofast': 2506, 'isnoinner': 2507, 'isnoneed': 2508, 'isnopossible': 2509, 'isnoreal': 2510, 'isnosuch': 2511, 'isnot': 2512, 'isnotexpecting': 2513, 'isnothing': 2514, 'isnothingness': 2515, 'isnothitting': 2516, 'isnotintheleast': 2517, 'isnotmerely': 2518, 'isnotparrying': 2519, 'isnotpart': 2520, 'isnotslack': 2521, 'isnotthe': 2522, 'isnottheessence': 2523, 'isnottheslightest': 2524, 'isnotthetrue': 2525, 'isnottolethim': 2526, 'isnotwarped': 2527, 'isnowarrior': 2528, 'isofnoaccount': 2529, 'isoften': 2530, 'isone': 2531, 'isoneofH': 2532, 'isperhaps': 2533, 'isrecorded': 2534, 'isrelaxed': 2535, 'isresolute': 2536, 'isresolved': 2537, 'isrevealed': 2538, 'isshown': 2539, 'isshut': 2540, 'issimilar': 2541, 'issmall': 2542, 'isstill': 2543, 'isstraight': 2544, 'isstrong': 2545, 'issword-fighting': 2546, 'istactically': 2547, 'isthat': 2548, 'isthe': 2549, 'istheFire': 2550, 'istheMiddle': 2551, 'istheWater': 2552, 'istheWay': 2553, 'isthebasis': 2554, 'isthecase': 2555, 'isthecraft': 2556, 'istheessence': 2557, 'isthefirst': 2558, 'istheheart': 2559, 'isthein-': 2560, 'istheinability': 2561, 'isthemain': 2562, 'isthemeaning': 2563, 'isthemost': 2564, 'isthenight': 2565, 'istheoldest': 2566, 'isthesame': 2567, 'isthespirit': 2568, 'isthesure': 2569, 'isthetwofold': 2570, 'isthevoid': 2571, 'isthis': 2572, 'isthought': 2573, 'isthrough': 2574, 'istiming': 2575, 'istoannounce': 2576, 'istoattack': 2577, 'istobecome': 2578, 'istocarry': 2579, 'istochase': 2580, 'istocuttheenemy': 2581, 'istofallupon': 2582, 'istoforestall': 2583, 'istogetinquickly': 2584, 'istogoinwith': 2585, 'istogovern': 2586, 'istomaster': 2587, 'istoo': 2588, 'istostick': 2589, 'istostrike': 2590, 'istosuppress': 2591, 'istotime': 2592, 'istotrain': 2593, 'istowin': 2594, 'istradition': 2595, 'istranquil': 2596, 'istruly': 2597, 'isundesirable': 2598, 'isunobstructed': 2599, 'isused': 2600, 'isusewhen': 2601, 'isvery': 2602, 'isvictory': 2603, 'isvirtue': 2604, 'isweak': 2605, 'iswhat': 2606, 'iswhen': 2607, 'iswhere': 2608, 'iswith': 2609, 'isworn': 2610, 'iswritten': 2611, 'isyour': 2612, 'it': 2613, 'itably': 2614, 'itallhislife': 2615, 'itapplies': 2616, 'itate': 2617, 'itbecomes': 2618, 'itbegnarled': 2619, 'itcanbeseen': 2620, 'itdown': 2621, 'iteasily': 2622, 'item': 2623, 'itencourages': 2624, 'itfreely': 2625, 'ithasaninterior': 2626, 'ithasbeen': 2627, 'ithaslong': 2628, 'itincludes': 2629, 'itis': 2630, 'itisand': 2631, 'itisbad': 2632, 'itisbeneficial': 2633, 'itisdifficult': 2634, 'itiseasy': 2635, 'itishardly': 2636, 'itisimportant': 2637, 'itisnecessary': 2638, 'itisnevertheless': 2639, 'itisnotthetrue': 2640, 'itisnotunreasonable': 2641, 'itisoften': 2642, 'itisone': 2643, 'itissaid': 2644, 'itisslashing': 2645, 'itissometimes': 2646, 'itisthe': 2647, 'itistrue': 2648, 'itisundecided': 2649, 'itisunsatisfactory': 2650, 'itive': 2651, 'itmay': 2652, 'itmust': 2653, 'itnot': 2654, 'itquickly': 2655, 'itrequires': 2656, 'its': 2657, 'itsbad': 2658, 'itself': 2659, 'itsufficiently': 2660, 'itwas': 2661, 'itwhatever': 2662, 'itwill': 2663, 'ive': 2664, 'jective': 2665, 'join': 2666, 'joints': 2667, 'joists': 2668, 'journey': 2669, 'judge': 2670, 'judgement': 2671, 'judging': 2672, 'jump': 2673, 'jumping': 2674, 'jumping-foot': 2675, 'just': 2676, 'justice': 2677, 'justification': 2678, 'jutting': 2679, 'ju…': 2680, 'katana': 2681, 'keep': 2682, 'killanenemy': 2683, 'killing': 2684, 'kind': 2685, 'kinds': 2686, 'kneel': 2687, 'knocking': 2688, 'knotted': 2689, 'know': 2690, 'know-': 2691, 'knowing': 2692, 'knowledge': 2693, 'known': 2694, 'knows': 2695, 'lack': 2696, 'lags': 2697, 'language': 2698, 'languages': 2699, 'lanterns': 2700, 'large': 2701, 'large-': 2702, 'large-scale': 2703, 'largely': 2704, 'last': 2705, 'late': 2706, 'later': 2707, 'layers': 2708, 'laythefloor': 2709, 'lead': 2710, 'learn': 2711, 'learned': 2712, 'learning': 2713, 'leaves]': 2714, 'left': 2715, 'left-right': 2716, 'leftand': 2717, 'leftbyade-': 2718, 'lefthand': 2719, 'leftshoulder': 2720, 'leftside': 2721, 'legendary': 2722, 'legmovements': 2723, 'legs': 2724, 'length': 2725, 'less': 2726, 'lessens': 2727, 'lesser': 2728, 'lessons': 2729, 'letacontest': 2730, 'lethim': 2731, 'letthis': 2732, 'letting': 2733, 'level': 2734, 'lies': 2735, 'life': 2736, 'lifeand': 2737, 'lifeitisun-': 2738, 'lifeofthewarrior': 2739, 'lifeone': 2740, 'lifetime': 2741, 'lifewith': 2742, 'lifeyou': 2743, 'liftitstraight': 2744, 'lightly': 2745, 'like': 2746, 'likes': 2747, 'liking': 2748, 'limit': 2749, 'limitations': 2750, 'line': 2751, 'linked': 2752, 'lintels': 2753, 'lion': 2754, 'lished': 2755, 'list': 2756, 'listed': 2757, 'literature': 2758, 'little': 2759, 'live': 2760, 'lived': 2761, 'livelihood': 2762, 'loading': 2763, 'long': 2764, 'longsword': 2765, 'longswordsmen': 2766, 'look': 2767, 'loosely': 2768, 'lord': 2769, 'lose': 2770, 'loses': 2771, 'loss': 2772, 'lower': 2773, 'lowing': 2774, 'lowlier': 2775, 'lyrical': 2776, 'm': 2777, 'made': 2778, 'main': 2779, 'mains': 2780, 'maintain': 2781, 'major': 2782, 'make': 2783, 'maker': 2784, 'makers': 2785, 'makes': 2786, 'making': 2787, 'mal': 2788, 'man': 2789, 'man-cutting': 2790, 'manage': 2791, 'mankind': 2792, 'manner': 2793, 'many': 2794, 'mapped': 2795, 'marksmen': 2796, 'marsh': 2797, 'martial': 2798, 'master': 2799, 'mastered': 2800, 'masters': 2801, 'mastery': 2802, 'mathematics': 2803, 'matter': 2804, 'matters': 2805, 'may': 2806, 'mean': 2807, 'meaning': 2808, 'means': 2809, 'meant': 2810, 'measure': 2811, 'measures': 2812, 'meet': 2813, 'meets': 2814, 'megive': 2815, 'melody': 2816, 'memorise': 2817, 'men': 2818, 'ments': 2819, 'merchant': 2820, 'merchants': 2821, 'merciful': 2822, 'merely': 2823, 'met': 2824, 'method': 2825, 'methods': 2826, 'metre': 2827, 'middle': 2828, 'miles': 2829, 'milit-': 2830, 'military': 2831, 'mind': 2832, 'mingling': 2833, 'miraculous': 2834, 'misaligned': 2835, 'miscellaneous': 2836, 'miss': 2837, 'mistake': 2838, 'mistakenly': 2839, 'model': 2840, 'modern': 2841, 'modulation': 2842, 'moment': 2843, 'month': 2844, 'morale': 2845, 'morality': 2846, 'more': 2847, 'morning': 2848, 'most': 2849, 'mountain': 2850, 'mountain-sea': 2851, 'mountains': 2852, 'mov-': 2853, 'move': 2854, 'move-': 2855, 'moved': 2856, 'movement': 2857, 'movements': 2858, 'moves': 2859, 'moving': 2860, 'much': 2861, 'much-debated': 2862, 'muddy': 2863, 'music': 2864, 'musicians': 2865, 'must': 2866, 'mutually': 2867, 'my': 2868, 'myWay': 2869, 'mybody': 2870, 'mybrush': 2871, 'myhand': 2872, 'myheart': 2873, 'myself': 2874, 'mystrategy': 2875, 'mytechnique': 2876, 'myyouth': 2877, 'name': 2878, 'nant': 2879, 'narratives': 2880, 'narrator': 2881, 'narrow': 2882, 'narrowly': 2883, 'natural': 2884, 'naturally': 2885, 'nature': 2886, 'near': 2887, 'nearly': 2888, 'necessarily': 2889, 'necessary': 2890, 'neck': 2891, 'need': 2892, 'neglect': 2893, 'negligent': 2894, 'neither': 2895, 'ness': 2896, 'never': 2897, 'news': 2898, 'night': 2899, 'nimble': 2900, 'nine': 2901, 'ning': 2902, 'ninth': 2903, 'nise': 2904, 'no': 2905, 'noRikyu': 2906, 'noattention': 2907, 'nobility': 2908, 'noconcern': 2909, 'nodefects': 2910, 'noend': 2911, 'noevil': 2912, 'none': 2913, 'noone': 2914, 'nor': 2915, 'nor-': 2916, 'norbooks': 2917, 'norinterior': 2918, 'norlooking': 2919, 'normal': 2920, 'nortwisted': 2921, 'nose': 2922, 'nostrils': 2923, 'not': 2924, 'notable': 2925, 'notallow': 2926, 'notallowing': 2927, 'notapply': 2928, 'notappreciate': 2929, 'notaspire': 2930, 'notattaining': 2931, 'notbe': 2932, 'notbeable': 2933, 'notbeany': 2934, 'notbeeven': 2935, 'notbeinfluenced': 2936, 'notbepossible': 2937, 'notbesonegligent': 2938, 'notchange': 2939, 'notcut': 2940, 'notdepart': 2941, 'notdeviate': 2942, 'notdue': 2943, 'noteacher': 2944, 'notes': 2945, 'notexist': 2946, 'notextend': 2947, 'notfixtheeyes': 2948, 'nothing': 2949, 'nothingness': 2950, 'notinclude': 2951, 'noting': 2952, 'notjustread': 2953, 'notlet-': 2954, 'notlimited': 2955, 'notmean': 2956, 'notmeant': 2957, 'notmore': 2958, 'notmoving': 2959, 'notnamed': 2960, 'notnecessarily': 2961, 'notonce': 2962, 'notonly': 2963, 'notplanning': 2964, 'notreach': 2965, 'notrecover': 2966, 'notseparate': 2967, 'notsimply': 2968, 'notstretching': 2969, 'notthestrength': 2970, 'notthink': 2971, 'nottobedistracted': 2972, 'nottoforget': 2973, 'nottoo': 2974, 'notusethemethod': 2975, 'notwithdrawing': 2976, 'novel': 2977, 'now': 2978, 'nowadays': 2979, 'num-': 2980, 'numbers': 2981, 'numerous': 2982, 'obey': 2983, 'obeying': 2984, 'objectively': 2985, 'observe': 2986, 'observing': 2987, 'obstacles': 2988, 'obtains': 2989, 'occupied': 2990, 'occurs': 2991, 'of': 2992, 'of13chapters': 2993, 'of1926': 2994, 'ofBuddha': 2995, 'ofChinese': 2996, 'ofChristian': 2997, 'ofCon-': 2998, 'ofConfucius': 2999, 'ofCthulhu': 3000, 'ofDasein': 3001, 'ofForms': 3002, 'ofGround': 3003, 'ofHarima': 3004, 'ofHigo': 3005, 'ofIchi': 3006, 'ofJapanese': 3007, 'ofKama': 3008, 'ofKanei': 3009, 'ofSocrates': 3010, 'ofStrategy': 3011, 'ofTea': 3012, 'ofTeawas': 3013, 'ofWaka': 3014, 'ofWar': 3015, 'ofWay': 3016, 'ofadvancing': 3017, 'ofagroup': 3018, 'ofallofthem': 3019, 'ofallthis': 3020, 'ofanIndian': 3021, 'ofanarrator': 3022, 'ofany': 3023, 'ofarchery': 3024, 'ofarobber': 3025, 'ofasahigh': 3026, 'ofasmere': 3027, 'ofattacking': 3028, 'ofattacks': 3029, 'ofattitudes': 3030, 'ofawarrior': 3031, 'ofaweak': 3032, 'ofbalance': 3033, 'ofbattle': 3034, 'ofbattles': 3035, 'ofbe-': 3036, 'ofbeing': 3037, 'ofblack': 3038, 'ofblows': 3039, 'ofbouncing': 3040, 'ofbroad': 3041, 'ofcarry-': 3042, 'ofclose': 3043, 'ofclosing': 3044, 'ofcompetitive': 3045, 'ofcomplete': 3046, 'ofconcentrating': 3047, 'ofconstantly': 3048, 'ofcourse': 3049, 'ofcritical': 3050, 'ofcun-': 3051, 'ofcutting': 3052, 'ofdance': 3053, 'ofdas-in-dem-Welt-sein': 3054, 'ofdeath': 3055, 'ofdefeating': 3056, 'ofdeflecting': 3057, 'ofdexterity': 3058, 'ofdifferent': 3059, 'ofdoing': 3060, 'ofdueling': 3061, 'ofduty': 3062, 'ofequal': 3063, 'ofexistence': 3064, 'off': 3065, 'offacut': 3066, 'offerred': 3067, 'offhishold': 3068, 'offighting': 3069, 'offireis': 3070, 'offishes': 3071, 'offorestalling': 3072, 'offtheir': 3073, 'ofgood': 3074, 'ofgrief': 3075, 'ofhand': 3076, 'ofhealing': 3077, 'ofheaven': 3078, 'ofhis': 3079, 'ofhisattack': 3080, 'ofhisbody': 3081, 'ofhisforce': 3082, 'ofhisforeman': 3083, 'ofhismen': 3084, 'ofhisprevious': 3085, 'ofhisspirit': 3086, 'ofhissword': 3087, 'ofhisweapons': 3088, 'ofhitting': 3089, 'ofholding': 3090, 'ofhouses': 3091, 'ofimportance': 3092, 'ofinfinity': 3093, 'ofinspira-': 3094, 'ofitsdoctrine': 3095, 'ofitsreceptacle': 3096, 'ofjumping': 3097, 'ofjustice': 3098, 'ofknowing': 3099, 'ofknowledge': 3100, 'oflarge': 3101, 'oflaws': 3102, 'oflearning': 3103, 'ofleaving': 3104, 'oflesser': 3105, 'oflife': 3106, 'oflifeand': 3107, 'oflong': 3108, 'ofmaking': 3109, 'ofmany': 3110, 'ofmen': 3111, 'ofmorality': 3112, 'ofmy': 3113, 'ofmyIchi': 3114, 'ofmypupils': 3115, 'ofmystrategy': 3116, 'ofnature': 3117, 'ofnormal': 3118, 'ofnot': 3119, 'ofnotallowing': 3120, 'ofnotbeing': 3121, 'ofone': 3122, 'ofother': 3123, 'ofothers': 3124, 'ofourshout': 3125, 'ofourvictory': 3126, 'ofpalaces': 3127, 'ofparrying': 3128, 'ofpen': 3129, 'ofpeople': 3130, 'ofphilosophy': 3131, 'ofpoetry': 3132, 'ofpoor': 3133, 'ofpositioning': 3134, 'ofprac-': 3135, 'ofpulling': 3136, 'ofrelativity': 3137, 'ofsalvation': 3138, 'ofschools': 3139, 'ofseeing': 3140, 'ofsingle': 3141, 'ofsliding': 3142, 'ofslightly': 3143, 'ofsmacking': 3144, 'ofsmall': 3145, 'ofspears': 3146, 'ofspirit': 3147, 'ofstabbing': 3148, 'ofstickiness': 3149, 'ofstrategists': 3150, 'ofstrategy': 3151, 'ofstrength': 3152, 'ofstrong': 3153, 'ofstrongly': 3154, 'ofsuccess': 3155, 'ofsuperior': 3156, 'ofsword': 3157, 'ofsword-': 3158, 'ofsword-fencing': 3159, 'oftaking': 3160, 'often': 3161, 'oftexts': 3162, 'ofthe': 3163, 'oftheFuture': 3164, 'oftheIchi': 3165, 'oftheKashima': 3166, 'oftheNiTen': 3167, 'oftheNiTo': 3168, 'oftheNiToIchi': 3169, 'oftheVoid': 3170, 'oftheWay': 3171, 'oftheWays': 3172, 'oftheartisan': 3173, 'ofthebattlefield': 3174, 'ofthebody': 3175, 'ofthebow': 3176, 'ofthecar-': 3177, 'ofthecarpenter': 3178, 'ofthecommander': 3179, 'ofthecountry': 3180, 'oftheday': 3181, 'ofthedoctrines': 3182, 'oftheen-': 3183, 'oftheenemy': 3184, 'oftheessences': 3185, 'ofthefarmer': 3186, 'ofthefinest': 3187, 'oftheflower': 3188, 'oftheforeman': 3189, 'ofthegod': 3190, 'ofthehouse': 3191, 'oftheinformation': 3192, 'oftheir': 3193, 'ofthelength': 3194, 'ofthelong': 3195, 'ofthemer-': 3196, 'ofthemerchant': 3197, 'ofthemost': 3198, 'ofthemountains': 3199, 'oftheneck': 3200, 'oftheoldest': 3201, 'ofthephilosoph-': 3202, 'oftheplace': 3203, 'oftheprovince': 3204, 'oftherear': 3205, 'ofthese': 3206, 'oftheshort': 3207, 'ofthesituation': 3208, 'ofthesword': 3209, 'ofthetenth': 3210, 'ofthetiming': 3211, 'ofthetrue': 3212, 'ofthevirtues': 3213, 'ofthevoid': 3214, 'ofthewarrior': 3215, 'ofthewhole': 3216, 'ofthework': 3217, 'oftheworld': 3218, 'ofthewrist': 3219, 'ofthing': 3220, 'ofthings': 3221, 'ofthinking': 3222, 'ofthirteen': 3223, 'ofthis': 3224, 'ofthree': 3225, 'oftime': 3226, 'oftowers': 3227, 'oftread-': 3228, 'oftwo': 3229, 'ofusing': 3230, 'ofvictory': 3231, 'ofview': 3232, 'ofwar': 3233, 'ofwarfare': 3234, 'ofwarriors': 3235, 'ofweaponry': 3236, 'ofwhat': 3237, 'ofwhich': 3238, 'ofwielding': 3239, 'ofwinning': 3240, 'ofworking': 3241, 'ofyesterday': 3242, 'ofyou': 3243, 'ofyour': 3244, 'old': 3245, 'olden': 3246, 'oldtraditions': 3247, 'oldwar': 3248, 'on': 3249, 'on-': 3250, 'onEastern': 3251, 'onTea': 3252, 'onabroad': 3253, 'onalarge': 3254, 'onalarger': 3255, 'onaleather': 3256, 'onamoor': 3257, 'onanattack': 3258, 'onaplacid': 3259, 'once': 3260, 'oncutting': 3261, 'ondetails': 3262, 'one': 3263, 'onehand': 3264, 'oneineach': 3265, 'oneman': 3266, 'oneofthemost': 3267, 'oneself': 3268, 'onewith': 3269, 'onhuman': 3270, 'onintheworld': 3271, 'only': 3272, 'onmarshland': 3273, 'onmartial': 3274, 'onmilitary': 3275, 'onmyWay': 3276, 'onmymind': 3277, 'onmypast': 3278, 'onnine': 3279, 'onquickly': 3280, 'onsex': 3281, 'onslightly': 3282, 'onstrategy': 3283, 'onstrength': 3284, 'onswampy': 3285, 'ontechniques': 3286, 'onthe': 3287, 'ontheattitudes': 3288, 'ontheball': 3289, 'onthebattlefield': 3290, 'onthedetails': 3291, 'ontheenemy': 3292, 'onthefeet': 3293, 'onthefield': 3294, 'onthehands': 3295, 'ontheideas': 3296, 'ontheperiphery': 3297, 'ontheplace': 3298, 'onthesame': 3299, 'onthese': 3300, 'onthesubject': 3301, 'onthesurface': 3302, 'onthis': 3303, 'ontofight': 3304, 'ontothemoment': 3305, 'onun-': 3306, 'onwater': 3307, 'onwhat': 3308, 'onyour': 3309, 'open': 3310, 'openly': 3311, 'openwork': 3312, 'opin-': 3313, 'opinions': 3314, 'opponent': 3315, 'opportunities': 3316, 'opportunity': 3317, 'or': 3318, 'or-': 3319, 'orRight': 3320, 'orahundred': 3321, 'oratail-': 3322, 'orbig': 3323, 'orbythreatening': 3324, 'orcut': 3325, 'orcutting': 3326, 'order': 3327, 'ordrive': 3328, 'orenjoining': 3329, 'orflourish': 3330, 'orforce': 3331, 'orforsome': 3332, 'orguns': 3333, 'orhalberd': 3334, 'orhit': 3335, 'orif': 3336, 'orifhehasfallen': 3337, 'orifyou': 3338, 'orim-': 3339, 'orina': 3340, 'orincommon': 3341, 'orknotted': 3342, 'orlegs': 3343, 'ormake': 3344, 'ornarrow': 3345, 'ornot': 3346, 'ornotching': 3347, 'ornotthat': 3348, 'orother': 3349, 'oroutofshame': 3350, 'orretreating': 3351, 'orsexual': 3352, 'orshort': 3353, 'orside': 3354, 'orslow': 3355, 'orslowly': 3356, 'orsmacking': 3357, 'orsmall': 3358, 'orspear': 3359, 'orstring': 3360, 'orswamp': 3361, 'orten': 3362, 'ortenthousand': 3363, 'orthat': 3364, 'ortheir': 3365, 'ortheorder': 3366, 'ortheteachings': 3367, 'orthirty': 3368, 'ortooneside': 3369, 'ortothesides': 3370, 'ortouch': 3371, 'ortouching': 3372, 'ortwenty-nine': 3373, 'ortwo': 3374, 'orvoice': 3375, 'orwaning': 3376, 'orward': 3377, 'orwarding': 3378, 'orweakly': 3379, 'orwealth': 3380, 'orwhen': 3381, 'oryour': 3382, 'other': 3383, 'others': 3384, 'otherwise': 3385, 'ouaregoing': 3386, 'oughly': 3387, 'ought': 3388, 'our': 3389, 'ourefforts': 3390, 'ourlong': 3391, 'ourself': 3392, 'ourselves': 3393, 'ourtroops': 3394, 'ous': 3395, 'out': 3396, 'outasweat-': 3397, 'outline': 3398, 'outofawall': 3399, 'outofdoors': 3400, 'outside': 3401, 'outstanding': 3402, 'outtheenemy': 3403, 'outthegate': 3404, 'over': 3405, 'over-familiar': 3406, 'overcoming': 3407, 'overhead': 3408, 'overwhelming': 3409, 'own': 3410, 'ox': 3411, 'painters': 3412, 'paper': 3413, 'par-': 3414, 'parry': 3415, 'parrying': 3416, 'part': 3417, 'partic-': 3418, 'particular': 3419, 'particularly': 3420, 'pass': 3421, 'passed': 3422, 'passing': 3423, 'past': 3424, 'path': 3425, 'paying': 3426, 'peasants': 3427, 'penet-': 3428, 'penetrating': 3429, 'pens': 3430, 'penters': 3431, 'people': 3432, 'perceived': 3433, 'perception': 3434, 'perform': 3435, 'performance': 3436, 'performers': 3437, 'perhaps': 3438, 'personal': 3439, 'persons': 3440, 'philosopher': 3441, 'philosophers': 3442, 'philosophy': 3443, 'physics': 3444, 'piece': 3445, 'pieces': 3446, 'pillars': 3447, 'pillow': 3448, 'pine': 3449, 'pinhim': 3450, 'pipe': 3451, 'place': 3452, 'places': 3453, 'plan': 3454, 'planed': 3455, 'play': 3456, 'pleasure': 3457, 'pledges': 3458, 'plies': 3459, 'poets': 3460, 'point': 3461, 'pointless': 3462, 'points': 3463, 'polemical': 3464, 'polish': 3465, 'political': 3466, 'pon-': 3467, 'ponder': 3468, 'poor': 3469, 'portant': 3470, 'posi-': 3471, 'position': 3472, 'positions': 3473, 'possess': 3474, 'possible': 3475, 'pot-lids': 3476, 'powder': 3477, 'power': 3478, 'powerful': 3479, 'practical': 3480, 'practice': 3481, 'practices': 3482, 'practitioners': 3483, 'praised': 3484, 'pray': 3485, 'pre-': 3486, 'preciate': 3487, 'preconceived': 3488, 'predicted': 3489, 'predominant': 3490, 'preference': 3491, 'preferentially': 3492, 'premises': 3493, 'preoc-': 3494, 'present': 3495, 'present-day': 3496, 'preserving': 3497, 'pressed': 3498, 'previously': 3499, 'primarily': 3500, 'primary': 3501, 'principle': 3502, 'principles': 3503, 'prisoner': 3504, 'proach': 3505, 'professions': 3506, 'proficient': 3507, 'profit': 3508, 'progress': 3509, 'propagated': 3510, 'properly': 3511, 'province': 3512, 'public': 3513, 'published': 3514, 'pull': 3515, 'purpose': 3516, 'purposes': 3517, 'pursue': 3518, 'push': 3519, 'puts': 3520, 'putstrength': 3521, 'putyourself': 3522, 'quarters': 3523, 'quick': 3524, 'quicker': 3525, 'quickly': 3526, 'raise': 3527, 'raising': 3528, 'rather': 3529, 'rating': 3530, 're-': 3531, 're-assume': 3532, 'reach': 3533, 'reached': 3534, 'reaches': 3535, 'read': 3536, 'readily': 3537, 'reading': 3538, 'realize': 3539, 'realized': 3540, 'really': 3541, 'realm': 3542, 'rear': 3543, 'reason': 3544, 'reasonable': 3545, 'receive': 3546, 'received': 3547, 'recent': 3548, 'recklessly': 3549, 'recog-': 3550, 'recognised': 3551, 'recor-': 3552, 'recorded': 3553, 'recover': 3554, 'recovery': 3555, 'referred': 3556, 'regarding': 3557, 'regulations': 3558, 'relation': 3559, 'relative': 3560, 'relax': 3561, 'relaxed': 3562, 'relaxes': 3563, 'religion': 3564, 'rely': 3565, 'relying': 3566, 'remain': 3567, 'remaining': 3568, 'remains': 3569, 'remembered': 3570, 'remove': 3571, 'renews': 3572, 'repeat': 3573, 'repeatedly': 3574, 'repetitive': 3575, 'repetitively': 3576, 'representative': 3577, 'republished': 3578, 'research': 3579, 'reserve': 3580, 'resolution': 3581, 'resolve': 3582, 'resource': 3583, 'resources': 3584, 'responses': 3585, 'responsible': 3586, 'result': 3587, 'resulting': 3588, 'results': 3589, 'retreating': 3590, 'retreats': 3591, 'return': 3592, 'revealed': 3593, 'rhythm': 3594, 'rice': 3595, 'ride': 3596, 'rideable': 3597, 'ridge': 3598, 'riding': 3599, 'right': 3600, 'right-left': 3601, 'rights': 3602, 'rise': 3603, 'rising': 3604, 'river': 3605, 'road': 3606, 'roads': 3607, 'rock': 3608, 'roll': 3609, 'room': 3610, 'row': 3611, 'ruin': 3612, 'ruled': 3613, 'rules': 3614, 'run': 3615, 'runners': 3616, 'running': 3617, 'rying': 3618, 'ryū': 3619, 's': 3620, 'sacrifice': 3621, 'said': 3622, 'sail': 3623, 'saileven': 3624, 'same': 3625, 'samurai': 3626, 'sand': 3627, 'satire': 3628, 'say': 3629, 'saying': 3630, 'scaffolding': 3631, 'scale': 3632, 'scholar': 3633, 'school': 3634, 'schools': 3635, 'scolding': 3636, 'scoop-': 3637, 'scooping': 3638, 'score': 3639, 'scribed': 3640, 'sea': 3641, 'seaatacrossing': 3642, 'search': 3643, 'searching': 3644, 'seas': 3645, 'season': 3646, 'second': 3647, 'secret': 3648, 'sections': 3649, 'see': 3650, 'seehim': 3651, 'seehis': 3652, 'seehisintention': 3653, 'seeinadvance': 3654, 'seeing': 3655, 'seeitineverything': 3656, 'seem': 3657, 'seemingly': 3658, 'seen': 3659, 'seethat': 3660, 'seetheen-': 3661, 'seetheenemy': 3662, 'seetheweight': 3663, 'seethrough': 3664, 'seevarious': 3665, 'seizing': 3666, 'self': 3667, 'sell': 3668, 'selves': 3669, 'sen': 3670, 'sense': 3671, 'sensual': 3672, 'sep-': 3673, 'servant': 3674, 'serve': 3675, 'set': 3676, 'setinthis': 3677, 'setsail': 3678, 'setting': 3679, 'settled': 3680, 'settling': 3681, 'setyour': 3682, 'several': 3683, 'sexual': 3684, 'shade': 3685, 'shapes': 3686, 'sharpen': 3687, 'sharpens': 3688, 'sharply': 3689, 'shelves': 3690, 'ship': 3691, 'shooting': 3692, 'short': 3693, 'shorter': 3694, 'should': 3695, 'shoulder': 3696, 'shoulders': 3697, 'shout': 3698, 'shouting': 3699, 'shouts': 3700, 'show': 3701, 'showing': 3702, 'shown': 3703, 'shows': 3704, 'shrines': 3705, 'sible': 3706, 'siddha': 3707, 'side': 3708, 'sides': 3709, 'siduously': 3710, 'sight': 3711, 'silent': 3712, 'similar': 3713, 'simplicity': 3714, 'simply': 3715, 'simultaneously': 3716, 'single': 3717, 'sists': 3718, 'situation': 3719, 'situations': 3720, 'sixteen': 3721, 'sixty': 3722, 'size': 3723, 'skilful': 3724, 'skill': 3725, 'skilled': 3726, 'skillful': 3727, 'skills': 3728, 'slack': 3729, 'slacken': 3730, 'slash': 3731, 'sliding': 3732, 'slightest': 3733, 'slightly': 3734, 'slow': 3735, 'slowly': 3736, 'slowness': 3737, 'smacking': 3738, 'small': 3739, 'small-scale': 3740, 'snipping': 3741, 'so': 3742, 'soIhave': 3743, 'soahun-': 3744, 'soak': 3745, 'soathousand': 3746, 'socan': 3747, 'sohismovements': 3748, 'soitiswith': 3749, 'soldiers': 3750, 'solely': 3751, 'some': 3752, 'someone': 3753, 'something': 3754, 'sometimes': 3755, 'somewhat': 3756, 'somust': 3757, 'somymethod': 3758, 'soon': 3759, 'sotend': 3760, 'sothat': 3761, 'sothe': 3762, 'sotheir': 3763, 'sothere': 3764, 'sothis': 3765, 'soul': 3766, 'soyou': 3767, 'soyour': 3768, 'space': 3769, 'spaces': 3770, 'spe-': 3771, 'speak': 3772, 'speaking': 3773, 'spear': 3774, 'spearmen': 3775, 'spears': 3776, 'specialise': 3777, 'spends': 3778, 'spent': 3779, 'spirit': 3780, 'spirited': 3781, 'spiritual': 3782, 'spoke': 3783, 'spread': 3784, 'spring': 3785, 'springing': 3786, 'springs': 3787, 'square-on': 3788, 'stab': 3789, 'stabbing': 3790, 'stag-': 3791, 'stance': 3792, 'stand': 3793, 'standard': 3794, 'start': 3795, 'starts': 3796, 'stay': 3797, 'steady': 3798, 'step': 3799, 'steps': 3800, 'stick': 3801, 'stickiness': 3802, 'still': 3803, 'stony': 3804, 'stop': 3805, 'stor-': 3806, 'story': 3807, 'straight': 3808, 'straightaway': 3809, 'strategies': 3810, 'strategist': 3811, 'strategists': 3812, 'strategy': 3813, 'strategys': 3814, 'strength': 3815, 'stretch': 3816, 'stretched': 3817, 'stretching': 3818, 'strike': 3819, 'striking': 3820, 'strive': 3821, 'strong': 3822, 'stronger': 3823, 'strongest': 3824, 'strongly': 3825, 'student': 3826, 'studied': 3827, 'study': 3828, 'studying': 3829, 'style': 3830, 'subjects': 3831, 'subordinates': 3832, 'subtitled': 3833, 'succeed': 3834, 'successful': 3835, 'such': 3836, 'sud-': 3837, 'suddenly': 3838, 'suffice': 3839, 'sufficient': 3840, 'sufficiently': 3841, 'suggested': 3842, 'suitable': 3843, 'superficially': 3844, 'suppress': 3845, 'suppressing': 3846, 'sure': 3847, 'surely': 3848, 'surface': 3849, 'surprise': 3850, 'swampy': 3851, 'sweep': 3852, 'sword': 3853, 'sword-fen-': 3854, 'sword-fencers': 3855, 'sword-fencing': 3856, 'sword-fighting': 3857, 'swordpoint': 3858, 'swords': 3859, 'swordsmanship': 3860, 'swordsmen': 3861, 'syllable': 3862, 'sūtra': 3863, 'tables': 3864, 'tachi': 3865, 'tack': 3866, 'tacking': 3867, 'tactics': 3868, 'tain': 3869, 'tained': 3870, 'take': 3871, 'takes': 3872, 'taking': 3873, 'talking': 3874, 'tangled': 3875, 'taste': 3876, 'taught': 3877, 'tea': 3878, 'tea-': 3879, 'teach': 3880, 'teacher': 3881, 'teaching': 3882, 'technique': 3883, 'techniques': 3884, 'tee-': 3885, 'tee-dum': 3886, 'tempering': 3887, 'temples': 3888, 'ten': 3889, 'ten-thousand-a-side': 3890, 'tend': 3891, 'tendays': 3892, 'tendencies': 3893, 'tenmen': 3894, 'tenor': 3895, 'tens': 3896, 'tense': 3897, 'tenseness': 3898, 'tent': 3899, 'tenth': 3900, 'tenthou-': 3901, 'tenthousand': 3902, 'terchanging': 3903, 'term': 3904, 'terrify': 3905, 'testing': 3906, 'tests': 3907, 'text': 3908, 'than': 3909, 'that': 3910, 'the': 3911, 'the6thcentury': 3912, 'theBuddha': 3913, 'theFire': 3914, 'theJapanese': 3915, 'theKamiza': 3916, 'theLeft': 3917, 'theLower': 3918, 'theMiddle': 3919, 'theTao': 3920, 'theTen': 3921, 'theUpper': 3922, 'theVoid': 3923, 'theWater': 3924, 'theWay': 3925, 'theWays': 3926, 'theWind': 3927, 'theabilities': 3928, 'theability': 3929, 'theadvantage': 3930, 'theages': 3931, 'theapplic-': 3932, 'theapplication': 3933, 'thearchitectural': 3934, 'thearmies': 3935, 'theattacking': 3936, 'theatti-': 3937, 'thebackground': 3938, 'thebad': 3939, 'thebattle': 3940, 'thebenefit': 3941, 'thebest': 3942, 'thebiggest': 3943, 'thebloom': 3944, 'thebody': 3945, 'thebook': 3946, 'thebow': 3947, 'thebuilding': 3948, 'thebuttocks': 3949, 'thecapital': 3950, 'thecarpenter': 3951, 'thechance': 3952, 'thecombat': 3953, 'thecommander': 3954, 'thecompanion': 3955, 'theconnection': 3956, 'thecontents': 3957, 'thecontest': 3958, 'thecorrect': 3959, 'thecountry': 3960, 'thecraft': 3961, 'thecut': 3962, 'thedeep': 3963, 'thedeepest': 3964, 'thedefensive': 3965, 'thedepths': 3966, 'thedetails': 3967, 'thedirect': 3968, 'thedirection': 3969, 'thedisciple': 3970, 'thedistance': 3971, 'theelbows': 3972, 'theen-': 3973, 'theenemies': 3974, 'theenemy': 3975, 'theentrance': 3976, 'theessence': 3977, 'theex-': 3978, 'theeyes': 3979, 'theface': 3980, 'thefast': 3981, 'thefavour': 3982, 'thefeeling': 3983, 'thefeet': 3984, 'thefield': 3985, 'thefight': 3986, 'thefinished': 3987, 'thefirebehind': 3988, 'thefirebesmall': 3989, 'thefirst': 3990, 'thefive': 3991, 'theflank': 3992, 'theflower': 3993, 'thefluctuation': 3994, 'thefolding': 3995, 'thefootwork': 3996, 'theford': 3997, 'theforeman': 3998, 'thegaze': 3999, 'thegeneral': 4000, 'theguardians': 4001, 'thegun': 4002, 'thehalberd': 4003, 'thehand': 4004, 'thehands': 4005, 'thehat': 4006, 'thehead': 4007, 'thehuman': 4008, 'theimmortality': 4009, 'theimport-': 4010, 'theimportance': 4011, 'theimpression': 4012, 'theinapplicable': 4013, 'theinitiative': 4014, 'theinterior': 4015, 'their': 4016, 'theissue': 4017, 'thejustman': 4018, 'theknees': 4019, 'thelarge': 4020, 'thelead': 4021, 'thelength': 4022, 'theline': 4023, 'thelong': 4024, 'thelongsword': 4025, 'thelovemaking': 4026, 'thelower': 4027, 'them': 4028, 'themany': 4029, 'themeaning': 4030, 'themeans': 4031, 'themiddle': 4032, 'themilitary': 4033, 'themountains': 4034, 'themusic': 4035, 'then': 4036, 'thename': 4037, 'thence': 4038, 'thenutand': 4039, 'thenuthasbecome': 4040, 'theopponent': 4041, 'theopportunity': 4042, 'theorder': 4043, 'theorist': 4044, 'theory': 4045, 'theother': 4046, 'theoutset': 4047, 'thepath': 4048, 'thepeople': 4049, 'theperilous': 4050, 'theperspectival': 4051, 'theplace': 4052, 'theplans': 4053, 'thepoint': 4054, 'theprin-': 4055, 'theprinciple': 4056, 'theprinciples': 4057, 'theprogress': 4058, 'theranks': 4059, 'there': 4060, 'thereafter': 4061, 'thereason': 4062, 'therelevant': 4063, 'therole': 4064, 'theroute': 4065, 'theruler': 4066, 'therules': 4067, 'thesacred': 4068, 'thesame': 4069, 'theschools': 4070, 'these': 4071, 'thesea': 4072, 'theseaatastrait': 4073, 'thesecular': 4074, 'theshallowest': 4075, 'theshape': 4076, 'theshort': 4077, 'theshoulders': 4078, 'thesituation': 4079, 'thesmallest': 4080, 'thespace': 4081, 'thespear': 4082, 'thespeed': 4083, 'thespirit': 4084, 'thespiritual': 4085, 'thestakes': 4086, 'thestart': 4087, 'thestory': 4088, 'thestrategies': 4089, 'thestrategy': 4090, 'thestrength': 4091, 'thestyle': 4092, 'thesubjective': 4093, 'thesun': 4094, 'thesuperior': 4095, 'thesupreme': 4096, 'thesword': 4097, 'theterm': 4098, 'thethings': 4099, 'thethree': 4100, 'thethresholds': 4101, 'thetim-': 4102, 'thetime': 4103, 'thetimes': 4104, 'thetiming': 4105, 'thetips': 4106, 'thetradi-': 4107, 'thetradition': 4108, 'thetraining': 4109, 'thetroops': 4110, 'thetrue': 4111, 'thetwofold': 4112, 'theunjust': 4113, 'theunsatisfactory': 4114, 'theuseofTaoist': 4115, 'thevalue': 4116, 'theviewpoint': 4117, 'thevirtue': 4118, 'thevirtues': 4119, 'thevoice': 4120, 'thewarrior': 4121, 'theway': 4122, 'theweapon': 4123, 'thewhole': 4124, 'thewisdom': 4125, 'thework': 4126, 'theworld': 4127, 'they': 4128, 'theyears': 4129, 'thflower': 4130, 'thing': 4131, 'things': 4132, 'think': 4133, 'thinking': 4134, 'thinks': 4135, 'thirteen': 4136, 'thirty': 4137, 'this': 4138, 'thor-': 4139, 'thoroughly': 4140, 'those': 4141, 'though': 4142, 'thought': 4143, 'thoughtlessly': 4144, 'thousand': 4145, 'thousand-mile': 4146, 'thread': 4147, 'three': 4148, 'thresholds': 4149, 'thriving': 4150, 'through': 4151, 'throughout': 4152, 'throw': 4153, 'thrust': 4154, 'thrusting': 4155, 'thumb': 4156, 'thus': 4157, 'thwarted': 4158, 'tially': 4159, 'tical': 4160, 'tiger': 4161, 'tight': 4162, 'tillnight': 4163, 'tim-': 4164, 'timber': 4165, 'time': 4166, 'times': 4167, 'timing': 4168, 'timings': 4169, 'tination': 4170, 'ting': 4171, 'tion': 4172, 'tional': 4173, 'tions': 4174, 'tired': 4175, 'titude': 4176, 'tleman': 4177, 'to': 4178, 'to-': 4179, 'toHeidegger': 4180, 'toKwannon': 4181, 'toNandi': 4182, 'toTomonobu': 4183, 'toWestern': 4184, 'toaPhilosophy': 4185, 'toachieve': 4186, 'toactually': 4187, 'toadestructive': 4188, 'toadvance': 4189, 'toap-': 4190, 'toappraise': 4191, 'toappreciate': 4192, 'toapproach': 4193, 'toarrest': 4194, 'toat-': 4195, 'toattack': 4196, 'toattain': 4197, 'toawkward': 4198, 'tobe': 4199, 'tobeable': 4200, 'tobeat': 4201, 'tobecome': 4202, 'tobeinthe': 4203, 'tobeledabout': 4204, 'tobepassed': 4205, 'tobepiled': 4206, 'tobeswayed': 4207, 'tobethe': 4208, 'toblink': 4209, 'toboth': 4210, 'tobring': 4211, 'tocause': 4212, 'tochange': 4213, 'tochanging': 4214, 'tochase': 4215, 'toclose': 4216, 'tocollapse': 4217, 'tocome': 4218, 'tocomprehend': 4219, 'toconfuse': 4220, 'toconsider': 4221, 'tocontrol': 4222, 'tocorrelate': 4223, 'tocounter-cut': 4224, 'tocountering': 4225, 'tocrush': 4226, 'tocut': 4227, 'tocutanenemy': 4228, 'tocutatall': 4229, 'tocuthim': 4230, 'tocutquickly': 4231, 'tocuttheenemy': 4232, 'tocutting': 4233, 'today': 4234, 'todefeat': 4235, 'todescribe': 4236, 'todie': 4237, 'todiscern': 4238, 'todiscover': 4239, 'todisturb': 4240, 'todoit': 4241, 'todraw': 4242, 'toes': 4243, 'toestablish': 4244, 'toeveryday': 4245, 'toexplain': 4246, 'toexplaining': 4247, 'toface': 4248, 'tofalling': 4249, 'tofinish': 4250, 'tofloat': 4251, 'toflourishing': 4252, 'tofollow': 4253, 'tofreely': 4254, 'tofully': 4255, 'together': 4256, 'togodeeper': 4257, 'tograpple': 4258, 'togrips': 4259, 'tohand': 4260, 'tohasten': 4261, 'tohave': 4262, 'toheaven': 4263, 'tohelp': 4264, 'tohiscondition': 4265, 'tohit': 4266, 'tohitinthetiming': 4267, 'tohold': 4268, 'tojump': 4269, 'toknock': 4270, 'toknow': 4271, 'tolarge': 4272, 'tolarge-scale': 4273, 'tolast': 4274, 'tolayhisplans': 4275, 'tolead': 4276, 'tolearn': 4277, 'tolike': 4278, 'tolook': 4279, 'tomaintain': 4280, 'tomake': 4281, 'toman': 4282, 'tomaster': 4283, 'tome': 4284, 'tomorrow': 4285, 'tomove': 4286, 'tomyhaving': 4287, 'tonature': 4288, 'too': 4289, 'tools': 4290, 'toone': 4291, 'tooquickly': 4292, 'tooslowly': 4293, 'toparry': 4294, 'topay': 4295, 'toperceive': 4296, 'topic': 4297, 'topics': 4298, 'toplan': 4299, 'topoint': 4300, 'topredict': 4301, 'toprovince': 4302, 'toput': 4303, 'toraise': 4304, 'tore-': 4305, 'toreal': 4306, 'torealize': 4307, 'torecognize': 4308, 'torecord': 4309, 'torecover': 4310, 'torenew': 4311, 'torepeat': 4312, 'toright': 4313, 'torush': 4314, 'tosacred': 4315, 'tosaythat': 4316, 'toscold': 4317, 'toseedistant': 4318, 'tosell': 4319, 'toshoot': 4320, 'toshow': 4321, 'toside': 4322, 'toslash': 4323, 'tosomething': 4324, 'tostart': 4325, 'tostrike': 4326, 'tostrive': 4327, 'tosword-fencing': 4328, 'totake': 4329, 'tothe': 4330, 'totheWay': 4331, 'totheWestern': 4332, 'tothebow': 4333, 'totheen-': 4334, 'totheenemy': 4335, 'tothefive': 4336, 'totheir': 4337, 'tothelong': 4338, 'tothepupil': 4339, 'totheright': 4340, 'tothesituation': 4341, 'tothespear': 4342, 'tothetips': 4343, 'tothetrue': 4344, 'totheuse': 4345, 'tothewis-': 4346, 'tothink': 4347, 'tothis': 4348, 'tothrust': 4349, 'totime': 4350, 'totraining': 4351, 'totreat': 4352, 'totrytocut': 4353, 'totwenty': 4354, 'touch': 4355, 'touching': 4356, 'toun-': 4357, 'tounderstand': 4358, 'tounderstanding': 4359, 'tousethefive': 4360, 'tousethese': 4361, 'tousetomake': 4362, 'tousetwo': 4363, 'toutterly': 4364, 'towards': 4365, 'towatch': 4366, 'towhether': 4367, 'towield': 4368, 'towielding': 4369, 'towin': 4370, 'towithdraw': 4371, 'towithin': 4372, 'toyour': 4373, 'tra-': 4374, 'trace': 4375, 'tradition': 4376, 'traditions': 4377, 'train': 4378, 'trained': 4379, 'training': 4380, 'translations': 4381, 'transmission': 4382, 'trapped': 4383, 'traterrestrial': 4384, 'traveling': 4385, 'tread': 4386, 'treading': 4387, 'treatise': 4388, 'tree': 4389, 'tribution': 4390, 'trickle': 4391, 'tried': 4392, 'tries': 4393, 'trifles': 4394, 'trod': 4395, 'trooper': 4396, 'troopers': 4397, 'troops': 4398, 'troy': 4399, 'true': 4400, 'trustworthy': 4401, 'truth': 4402, 'trying': 4403, 'trythis': 4404, 'tryto': 4405, 'trytobeat': 4406, 'trytocutquickly': 4407, 'trytohityour': 4408, 'trytokeep': 4409, 'trytowield': 4410, 'tude': 4411, 'tudes': 4412, 'turn': 4413, 'tury': 4414, 'twelve': 4415, 'twenty': 4416, 'twenty-eight': 4417, 'twenty-one': 4418, 'twice': 4419, 'two': 4420, 'twofold': 4421, 'ular': 4422, 'un-': 4423, 'un-knotted': 4424, 'unawares': 4425, 'uncertain': 4426, 'unchanging': 4427, 'unconstricted': 4428, 'und': 4429, 'undecided': 4430, 'under': 4431, 'understand': 4432, 'understanding': 4433, 'understands': 4434, 'undesirable': 4435, 'undisturbed': 4436, 'undrawn': 4437, 'unexpected': 4438, 'unguarded': 4439, 'unreasonable': 4440, 'unsatisfactory': 4441, 'unsettling': 4442, 'unsuccessfully': 4443, 'until': 4444, 'up': 4445, 'up-': 4446, 'up-itisman': 4447, 'upanattitude': 4448, 'upand': 4449, 'uparear': 4450, 'upasword': 4451, 'upfrom': 4452, 'upoftwo': 4453, 'upon': 4454, 'uptheattack': 4455, 'uptheenemies': 4456, 'upto': 4457, 'uptoheavy': 4458, 'upyour': 4459, 'usage': 4460, 'usand': 4461, 'use': 4462, 'useashorter': 4463, 'useboth': 4464, 'used': 4465, 'useequipment': 4466, 'useful': 4467, 'useless': 4468, 'usenowadays': 4469, 'useof': 4470, 'useofthecompanion': 4471, 'useofyour': 4472, 'users': 4473, 'uses': 4474, 'usetheadvantage': 4475, 'usethis': 4476, 'using': 4477, 'usually': 4478, 'utterance': 4479, 'utterances': 4480, 'utterly': 4481, 'valid': 4482, 'valleys': 4483, 'value': 4484, 'values': 4485, 'vantageous': 4486, 'varied': 4487, 'various': 4488, 'venient': 4489, 'verandas': 4490, 'vergence': 4491, 'very': 4492, 'victories': 4493, 'victory': 4494, 'view': 4495, 'viewpoint': 4496, 'vigour': 4497, 'vious': 4498, 'virtue': 4499, 'virtues': 4500, 'visual': 4501, 'voice': 4502, 'void': 4503, 'von': 4504, 'vour': 4505, 'voyage': 4506, 'wait': 4507, 'waiting': 4508, 'walk': 4509, 'walking': 4510, 'want': 4511, 'wants': 4512, 'ward': 4513, 'wards': 4514, 'warning': 4515, 'warrior': 4516, 'warriors': 4517, 'was': 4518, 'water': 4519, 'waver': 4520, 'waves': 4521, 'way': 4522, 'ways': 4523, 'we': 4524, 'weak': 4525, 'weaken': 4526, 'weakly': 4527, 'weakness': 4528, 'weapon': 4529, 'weaponry': 4530, 'weapons': 4531, 'wearedeadlocked': 4532, 'wearefighting': 4533, 'webecome': 4534, 'wecan': 4535, 'wecanattain': 4536, 'wecanconfuse': 4537, 'wecandes-': 4538, 'wecannot': 4539, 'wecanuseourtroops': 4540, 'wecanwield': 4541, 'wecanwin': 4542, 'wecutwith': 4543, 'wedeploy': 4544, 'wedges': 4545, 'wedging': 4546, 'week': 4547, 'wefind': 4548, 'wehave': 4549, 'weighing': 4550, 'weknock': 4551, 'well': 4552, 'welook': 4553, 'wemake': 4554, 'wemove': 4555, 'wemust': 4556, 'weneed': 4557, 'were': 4558, 'weseearts': 4559, 'weseethat': 4560, 'weshout': 4561, 'wethink': 4562, 'weusually': 4563, 'what': 4564, 'whatever': 4565, 'when': 4566, 'whenever': 4567, 'where': 4568, 'whereas': 4569, 'whether': 4570, 'which': 4571, 'while': 4572, 'who': 4573, 'whole': 4574, 'wide': 4575, 'widely': 4576, 'wield': 4577, 'will': 4578, 'win': 4579, 'wind': 4580, 'winding': 4581, 'wine': 4582, 'winning': 4583, 'wins': 4584, 'wisdom': 4585, 'wishes': 4586, 'with': 4587, 'withdrawing': 4588, 'withdraws': 4589, 'within': 4590, 'without': 4591, 'women': 4592, 'won': 4593, 'woods': 4594, 'word': 4595, 'words': 4596, 'work': 4597, 'works': 4598, 'world': 4599, 'worldly': 4600, 'worry': 4601, 'worrying': 4602, 'would': 4603, 'write': 4604, 'writing': 4605, 'written': 4606, 'wrong': 4607, 'wrongs': 4608, 'yards': 4609, 'yawning': 4610, 'year': 4611, 'years': 4612, 'yet': 4613, 'yetanother': 4614, 'yetdeeper': 4615, 'yetnot': 4616, 'yetunbiased': 4617, 'yetundefeated': 4618, 'yetyou': 4619, 'yoga': 4620, 'you': 4621, 'young': 4622, 'your': 4623, 'yourself': 4624, 'yout': 4625, 'youth': 4626, '—although': 4627, '—byOkakura': 4628}\n"
          ]
        }
      ]
    },
    {
      "cell_type": "markdown",
      "source": [
        "now we have vocab with associated unique integer . But later we need a function which will convert these numbers back into words or respective tokens"
      ],
      "metadata": {
        "id": "43sKipSi1Ywx"
      }
    },
    {
      "cell_type": "markdown",
      "source": [
        "So let's create a class for this"
      ],
      "metadata": {
        "id": "YYdUEzPB182d"
      }
    },
    {
      "cell_type": "code",
      "source": [
        "class SimpleTokenizer1:\n",
        "  def __init__(self,vocab):\n",
        "    self.str_to_int = vocab  #wil be used for encoding\n",
        "    self.int_to_str = {id:token for token,id in vocab.items()}  #will be used for decoding\n",
        "\n",
        "  def encode(self, text):\n",
        "    preprocessed = re.split(r'([,.?;:_!\"()\\'] | --|\\s)',text)\n",
        "\n",
        "    preprocessed = [item.strip() for item in preprocessed if item.strip()]\n",
        "    ids = [self.str_to_int[s] for s in preprocessed]\n",
        "    return ids\n",
        "\n",
        "  def decode(self,ids):\n",
        "    text = \" \".join([self.int_to_str[i] for i in ids])\n",
        "    text = re.sub(r'\\s+([,.?!\"()\\'])', r'\\1', text)\n",
        "    return text\n",
        "\n"
      ],
      "metadata": {
        "id": "C2Ywaqgh18kF"
      },
      "execution_count": null,
      "outputs": []
    },
    {
      "cell_type": "code",
      "source": [
        "tokenizer = SimpleTokenizer1(vocab)\n",
        "\n",
        "test_text = \"\"\"The Book of Five Rings\n",
        "Miyamoto, Musashi\"\"\"\n",
        "ids = tokenizer.encode(test_text)\n",
        "print(ids)\n"
      ],
      "metadata": {
        "colab": {
          "base_uri": "https://localhost:8080/"
        },
        "id": "mrJwPNgFqTXw",
        "outputId": "8330c9a1-4b3b-4983-d8c9-57a3a62e793c"
      },
      "execution_count": null,
      "outputs": [
        {
          "output_type": "stream",
          "name": "stdout",
          "text": [
            "[668, 158, 2992, 256, 579, 489, 6, 494]\n"
          ]
        }
      ]
    },
    {
      "cell_type": "code",
      "source": [
        "tokenizer.decode(ids)"
      ],
      "metadata": {
        "colab": {
          "base_uri": "https://localhost:8080/",
          "height": 35
        },
        "id": "ouVjJNo42xl7",
        "outputId": "383f165d-68b5-457e-e05e-5c514b8ff1c6"
      },
      "execution_count": null,
      "outputs": [
        {
          "output_type": "execute_result",
          "data": {
            "text/plain": [
              "'The Book of Five Rings Miyamoto, Musashi'"
            ],
            "application/vnd.google.colaboratory.intrinsic+json": {
              "type": "string"
            }
          },
          "metadata": {},
          "execution_count": 56
        }
      ]
    },
    {
      "cell_type": "markdown",
      "source": [
        "Our encoding and decoding is working fine but what if we get any word which is not present in our training data we'll get error so we need a large and diverse training data but still we can get any word which is not present in training data"
      ],
      "metadata": {
        "id": "M3iYCWl292CH"
      }
    },
    {
      "cell_type": "markdown",
      "source": [
        "# Adding Special Context Tokens"
      ],
      "metadata": {
        "id": "VbK81cgR-HfT"
      }
    },
    {
      "cell_type": "markdown",
      "source": [
        "So we will modiy our SImpleEncoder function to handle unkown words which were not present in training data\n"
      ],
      "metadata": {
        "id": "KwRR-Axl-Pz3"
      }
    },
    {
      "cell_type": "markdown",
      "source": [
        "<|unk|> and <|endoftext|> these two will be last two tokens so they will be assigned largest id     ex: last word of vocab is king->700 sp <|unk|>->702,<|endoftext|>->701"
      ],
      "metadata": {
        "id": "PgO8-Gom-0xy"
      }
    },
    {
      "cell_type": "markdown",
      "source": [
        "**so if we get any unkown text it'll be assigned |unk|**"
      ],
      "metadata": {
        "id": "N4lOrALqAexE"
      }
    },
    {
      "cell_type": "markdown",
      "source": [
        "|endoftext| will be used after a document is completed.    ex- while training gpt multiple books were used so after a book all data was encoded . this |endoftext| is added so there is no relation between previous book and next book"
      ],
      "metadata": {
        "id": "zHr1IT8cCdds"
      }
    },
    {
      "cell_type": "markdown",
      "source": [
        "Now we'll add these two token into our tokenizer"
      ],
      "metadata": {
        "id": "mxYcs9LrC4Vq"
      }
    },
    {
      "cell_type": "code",
      "source": [
        "all_tokens = sorted(list(set(preprocessed_data)))\n",
        "all_tokens.extend([\"<|endoftext|>\",\"<|unk|>\"])\n",
        "\n",
        "vocab = {token: id for id,token in enumerate(all_tokens)}"
      ],
      "metadata": {
        "id": "mn_JTE8l8F9r"
      },
      "execution_count": null,
      "outputs": []
    },
    {
      "cell_type": "code",
      "source": [
        "len(vocab.items())"
      ],
      "metadata": {
        "colab": {
          "base_uri": "https://localhost:8080/"
        },
        "id": "xEBJpGnhDWNQ",
        "outputId": "1be0fe0d-3a15-4b75-9ef6-d54276b3ba13"
      },
      "execution_count": null,
      "outputs": [
        {
          "output_type": "execute_result",
          "data": {
            "text/plain": [
              "4631"
            ]
          },
          "metadata": {},
          "execution_count": 60
        }
      ]
    },
    {
      "cell_type": "markdown",
      "source": [
        "**Let's implement version 2**"
      ],
      "metadata": {
        "id": "FjnL5BYCD2wR"
      }
    },
    {
      "cell_type": "code",
      "source": [
        "class SimpleTokenizer2:\n",
        "  def __init__(self,vocab):\n",
        "    self.str_to_int = vocab  #wil be used for encoding\n",
        "    self.int_to_str = {id:token for token,id in vocab.items()}  #will be used for decoding\n",
        "\n",
        "  def encode(self, text):\n",
        "    preprocessed = re.split(r'([,.?;:_!\"()\\'] | --|\\s)',text)\n",
        "\n",
        "    preprocessed = [item.strip() for item in preprocessed if item.strip()]\n",
        "    preprocessed = [item if item in self.str_to_int else \"<|unk|>\" for item in preprocessed]\n",
        "    ids = [self.str_to_int[s] for s in preprocessed]\n",
        "    return ids\n",
        "\n",
        "  def decode(self,ids):\n",
        "    text = \" \".join([self.int_to_str[i] for i in ids])\n",
        "    text = re.sub(r'\\s+([,.?!\"()\\'])', r'\\1', text)\n",
        "    return text\n",
        "\n"
      ],
      "metadata": {
        "id": "U_B3YAtRDbL8"
      },
      "execution_count": null,
      "outputs": []
    },
    {
      "cell_type": "code",
      "source": [
        "tokenizer2 = SimpleTokenizer2(vocab)\n",
        "text1 = \"Habu Dabu,do you like tea?\"\n",
        "text2 = \"The Book of Five Rings\"\n",
        "\n",
        "text_final = \"<|endoftext|>\".join((text1,text2))\n",
        "print(text_final)"
      ],
      "metadata": {
        "colab": {
          "base_uri": "https://localhost:8080/"
        },
        "id": "H_UElp9qEM0D",
        "outputId": "23c7a540-d7f9-4ff0-eafc-72b6c1c9145a"
      },
      "execution_count": null,
      "outputs": [
        {
          "output_type": "stream",
          "name": "stdout",
          "text": [
            "Habu Dabu,do you like tea?<|endoftext|>The Book of Five Rings\n"
          ]
        }
      ]
    },
    {
      "cell_type": "code",
      "source": [
        "tokenizer2.encode(text_final)"
      ],
      "metadata": {
        "colab": {
          "base_uri": "https://localhost:8080/"
        },
        "id": "fhrJ-_R9FCmU",
        "outputId": "fcb41393-fe2b-4081-e766-7d29f74c9c2c"
      },
      "execution_count": null,
      "outputs": [
        {
          "output_type": "execute_result",
          "data": {
            "text/plain": [
              "[4630, 4630, 4621, 2746, 4630, 158, 2992, 256, 579]"
            ]
          },
          "metadata": {},
          "execution_count": 69
        }
      ]
    },
    {
      "cell_type": "code",
      "source": [
        "tokenizer2.decode(tokenizer2.encode(text_final))"
      ],
      "metadata": {
        "colab": {
          "base_uri": "https://localhost:8080/",
          "height": 35
        },
        "id": "z6rZgOKKFGyF",
        "outputId": "490a59f7-eff1-4b38-a871-ae1e9401a92a"
      },
      "execution_count": null,
      "outputs": [
        {
          "output_type": "execute_result",
          "data": {
            "text/plain": [
              "'<|unk|> <|unk|> you like <|unk|> Book of Five Rings'"
            ],
            "application/vnd.google.colaboratory.intrinsic+json": {
              "type": "string"
            }
          },
          "metadata": {},
          "execution_count": 70
        }
      ]
    },
    {
      "cell_type": "markdown",
      "source": [
        "we have |unk|,||endoftext| after these two we have some more special tokens    [BOS](Begining of sequence)-It marks the sart of a text.\n",
        "[EOS](end of sequence) - Similar to |endoftext| it's used to when two unrealted text are combined.\n",
        "\n",
        "[PAD]-Used to make the length of texts equal basic whi padding wala kaam"
      ],
      "metadata": {
        "id": "mJGOJZrpGx3h"
      }
    },
    {
      "cell_type": "markdown",
      "source": [
        "Now we are able to handle the unkown text we are not getting any error"
      ],
      "metadata": {
        "id": "BEs4jj_nGs7U"
      }
    },
    {
      "cell_type": "markdown",
      "source": [
        "--Gpt tokenizer don't use any of these special tokens t only used    \"|endoftext|\" token"
      ],
      "metadata": {
        "id": "7VUCePqJJmqB"
      }
    },
    {
      "cell_type": "markdown",
      "source": [
        "--Gpt don't use |unk| to handle oov words instead it uses ***bye pair encoding***     (breaks word into subwords)"
      ],
      "metadata": {
        "id": "gvR1hBFLJzE7"
      }
    },
    {
      "cell_type": "code",
      "source": [],
      "metadata": {
        "id": "pfBIgz2xGAIn"
      },
      "execution_count": null,
      "outputs": []
    },
    {
      "cell_type": "markdown",
      "source": [
        "Now implementing complete tokenizer like used for gpt is hard and will consume time so we'lll use the same tokenizer used by openai for gpt"
      ],
      "metadata": {
        "id": "Gm31qmPFjI8G"
      }
    },
    {
      "cell_type": "markdown",
      "source": [
        "We have now complete understanding of tokenizer so we can use prebuilt one"
      ],
      "metadata": {
        "id": "hxvrFrljjZKv"
      }
    },
    {
      "cell_type": "code",
      "source": [
        "!pip install tiktoken"
      ],
      "metadata": {
        "colab": {
          "base_uri": "https://localhost:8080/"
        },
        "id": "dB-5OEuljVh7",
        "outputId": "d15cdfed-ca74-4d9d-d5e9-d73aa8a742b8"
      },
      "execution_count": null,
      "outputs": [
        {
          "output_type": "stream",
          "name": "stdout",
          "text": [
            "Collecting tiktoken\n",
            "  Downloading tiktoken-0.8.0-cp310-cp310-manylinux_2_17_x86_64.manylinux2014_x86_64.whl.metadata (6.6 kB)\n",
            "Requirement already satisfied: regex>=2022.1.18 in /usr/local/lib/python3.10/dist-packages (from tiktoken) (2024.9.11)\n",
            "Requirement already satisfied: requests>=2.26.0 in /usr/local/lib/python3.10/dist-packages (from tiktoken) (2.32.3)\n",
            "Requirement already satisfied: charset-normalizer<4,>=2 in /usr/local/lib/python3.10/dist-packages (from requests>=2.26.0->tiktoken) (3.4.0)\n",
            "Requirement already satisfied: idna<4,>=2.5 in /usr/local/lib/python3.10/dist-packages (from requests>=2.26.0->tiktoken) (3.10)\n",
            "Requirement already satisfied: urllib3<3,>=1.21.1 in /usr/local/lib/python3.10/dist-packages (from requests>=2.26.0->tiktoken) (2.2.3)\n",
            "Requirement already satisfied: certifi>=2017.4.17 in /usr/local/lib/python3.10/dist-packages (from requests>=2.26.0->tiktoken) (2024.8.30)\n",
            "Downloading tiktoken-0.8.0-cp310-cp310-manylinux_2_17_x86_64.manylinux2014_x86_64.whl (1.2 MB)\n",
            "\u001b[2K   \u001b[90m━━━━━━━━━━━━━━━━━━━━━━━━━━━━━━━━━━━━━━━━\u001b[0m \u001b[32m1.2/1.2 MB\u001b[0m \u001b[31m20.3 MB/s\u001b[0m eta \u001b[36m0:00:00\u001b[0m\n",
            "\u001b[?25hInstalling collected packages: tiktoken\n",
            "Successfully installed tiktoken-0.8.0\n"
          ]
        }
      ]
    },
    {
      "cell_type": "code",
      "source": [
        "import tiktoken\n",
        "tokenizer = tiktoken.get_encoding(\"gpt2\")"
      ],
      "metadata": {
        "id": "NFmSqQkDjf2D"
      },
      "execution_count": null,
      "outputs": []
    },
    {
      "cell_type": "markdown",
      "source": [
        "It'll be similar to our Simpletokenizer2 we had implemented"
      ],
      "metadata": {
        "id": "hy-1UHwBjqtE"
      }
    },
    {
      "cell_type": "code",
      "source": [
        "text1 = {\n",
        "    \"text\": \"Habu Dabu, do you like tea? <|enoftext|> Miyamoto Musashi (c. 1584–June 13 (Japanese calendar: May 19), 1645). My name is Prabhakar.\"\n",
        "}\n",
        "\n",
        "integers = tokenizer.encode(text1['text'], allowed_special={\"<|endoftext|>\"})\n",
        "print(integers)\n"
      ],
      "metadata": {
        "colab": {
          "base_uri": "https://localhost:8080/"
        },
        "id": "nOUnIBfnjo-0",
        "outputId": "5636c311-cf07-484a-8c45-e7e485378c46"
      },
      "execution_count": null,
      "outputs": [
        {
          "output_type": "stream",
          "name": "stdout",
          "text": [
            "[39, 397, 84, 360, 397, 84, 11, 466, 345, 588, 8887, 30, 1279, 91, 268, 1659, 5239, 91, 29, 29464, 25384, 2629, 12144, 357, 66, 13, 1315, 5705, 1906, 15749, 1511, 357, 25324, 11845, 25, 1737, 678, 828, 1467, 2231, 737, 2011, 1438, 318, 1736, 397, 43573, 283, 13]\n"
          ]
        }
      ]
    },
    {
      "cell_type": "code",
      "source": [
        "strings = tokenizer.decode(integers)\n",
        "print(strings)"
      ],
      "metadata": {
        "colab": {
          "base_uri": "https://localhost:8080/"
        },
        "id": "i460HDDOkf2C",
        "outputId": "1edf94ad-6890-45d7-d1a4-41ff0ad688c7"
      },
      "execution_count": null,
      "outputs": [
        {
          "output_type": "stream",
          "name": "stdout",
          "text": [
            "Habu Dabu, do you like tea? <|enoftext|> Miyamoto Musashi (c. 1584–June 13 (Japanese calendar: May 19), 1645). My name is Prabhakar.\n"
          ]
        }
      ]
    },
    {
      "cell_type": "markdown",
      "source": [
        "**Observations**   Bpe reduces tokens count around 50k and it also handles oov by bring words to subwords and character level"
      ],
      "metadata": {
        "id": "nuxA_29YmmMn"
      }
    },
    {
      "cell_type": "code",
      "source": [
        "fun_try = tokenizer.encode(\"Kya be bhutnike\")\n",
        "print(fun_try)\n",
        "strs = tokenizer.decode(fun_try)\n",
        "print(strs)\n",
        "\n",
        "#working fine on any ranodm text"
      ],
      "metadata": {
        "colab": {
          "base_uri": "https://localhost:8080/"
        },
        "id": "0nax_B6kmm7-",
        "outputId": "74f076cf-6c24-4b32-eb02-8713b0220352"
      },
      "execution_count": null,
      "outputs": [
        {
          "output_type": "stream",
          "name": "stdout",
          "text": [
            "[42, 3972, 307, 275, 71, 315, 77, 522]\n",
            "Kya be bhutnike\n"
          ]
        }
      ]
    },
    {
      "cell_type": "code",
      "source": [],
      "metadata": {
        "id": "URTBcfldmVFw"
      },
      "execution_count": null,
      "outputs": []
    },
    {
      "cell_type": "markdown",
      "source": [
        "# **Input Output Pairs**"
      ],
      "metadata": {
        "id": "im3vKlQZnpeX"
      }
    },
    {
      "cell_type": "markdown",
      "source": [
        "It's same like in next word prediction we use previous word to predict next ord,in next iteration starting two word will be used to predict 3rd word like this goes till last word. Similar to stock price prediction data"
      ],
      "metadata": {
        "id": "EH2bqvq6ptiG"
      }
    },
    {
      "cell_type": "markdown",
      "source": [
        "basically starting word ko lenge next predict krenege baki ko mask kr denge, next iteration mai starting 2 word lenge or 3rd predict krenge ,next iteration mai 3 words lenge or 4th predict krenge or krte jyege.             this technique is called self supervised learning ,auto regressive learning,unsupervised learning"
      ],
      "metadata": {
        "id": "mEXZ8jZ5qOzw"
      }
    },
    {
      "cell_type": "markdown",
      "source": [
        "# Creating Input-output pairs"
      ],
      "metadata": {
        "id": "ymdb1ucprKAU"
      }
    },
    {
      "cell_type": "markdown",
      "source": [
        "will create data laoder which will use sliding window appraoch"
      ],
      "metadata": {
        "id": "gxdmssVerOGY"
      }
    },
    {
      "cell_type": "code",
      "source": [
        "enc_text = tokenizer.encode(text)\n",
        "print(len(enc_text))\n",
        "print(len(text))\n",
        "\n",
        "#we have applied byte pair encoding to text data now it's in subwords and characters"
      ],
      "metadata": {
        "colab": {
          "base_uri": "https://localhost:8080/"
        },
        "id": "YeMuw9XbntUf",
        "outputId": "f903f007-5d7b-4534-c146-9853efe2243f"
      },
      "execution_count": null,
      "outputs": [
        {
          "output_type": "stream",
          "name": "stdout",
          "text": [
            "24021\n",
            "91238\n"
          ]
        }
      ]
    },
    {
      "cell_type": "markdown",
      "source": [
        "context size = sliding window size = no of words used to predict next word"
      ],
      "metadata": {
        "id": "BbFC5pujsdyF"
      }
    },
    {
      "cell_type": "code",
      "source": [
        "context_size = 6   #input len,means model is trained to look at a sequence of 6 words to predict next word in sequence.\n",
        "#The input  x is first six tokens [1,2,3,4,5,6] and target y is next 6 tokens [2,3,4,5,6,7]\n",
        "\n",
        "\n",
        "X = enc_text[:context_size]\n",
        "Y = enc_text[1:context_size+1]\n",
        "print(X)\n",
        "print(Y)"
      ],
      "metadata": {
        "colab": {
          "base_uri": "https://localhost:8080/"
        },
        "id": "iHW5P7NfrGPs",
        "outputId": "00cabf08-11ec-44b9-fb53-87d90ef4cee7"
      },
      "execution_count": null,
      "outputs": [
        {
          "output_type": "stream",
          "name": "stdout",
          "text": [
            "[464, 4897, 286, 10579, 26028, 198]\n",
            "[4897, 286, 10579, 26028, 198, 44]\n"
          ]
        }
      ]
    },
    {
      "cell_type": "code",
      "source": [
        "for i in range(1,context_size+1):\n",
        "  context = enc_text[:i]\n",
        "  desired_text =enc_text[i]\n",
        "  print(context,\"------->\",desired_text)"
      ],
      "metadata": {
        "colab": {
          "base_uri": "https://localhost:8080/"
        },
        "id": "h2O77L1DtfJ3",
        "outputId": "4c4e3a46-9567-4fca-d7c3-e3c0310a13f9"
      },
      "execution_count": null,
      "outputs": [
        {
          "output_type": "stream",
          "name": "stdout",
          "text": [
            "[464] -------> 4897\n",
            "[464, 4897] -------> 286\n",
            "[464, 4897, 286] -------> 10579\n",
            "[464, 4897, 286, 10579] -------> 26028\n",
            "[464, 4897, 286, 10579, 26028] -------> 198\n",
            "[464, 4897, 286, 10579, 26028, 198] -------> 44\n"
          ]
        }
      ]
    },
    {
      "cell_type": "markdown",
      "source": [
        "**In llms one input-ouput pair have predictions equal to context size,like in regression and classification one input and target have one prediction**     ex 6 context size so 6 predictions"
      ],
      "metadata": {
        "id": "8qPfsUoIuwdh"
      }
    },
    {
      "cell_type": "code",
      "source": [
        "for i in range(1,context_size+1):\n",
        "  context = enc_text[:i]\n",
        "  desired_text =enc_text[i]\n",
        "  print(tokenizer.decode(context),\"------->\",tokenizer.decode([desired_text]))"
      ],
      "metadata": {
        "colab": {
          "base_uri": "https://localhost:8080/"
        },
        "id": "Q6FqjlKEuSiB",
        "outputId": "d1424064-57bd-40ae-8d09-37da15a0bc62"
      },
      "execution_count": null,
      "outputs": [
        {
          "output_type": "stream",
          "name": "stdout",
          "text": [
            "The ------->  Book\n",
            "The Book ------->  of\n",
            "The Book of ------->  Five\n",
            "The Book of Five ------->  Rings\n",
            "The Book of Five Rings -------> \n",
            "\n",
            "The Book of Five Rings\n",
            " -------> M\n"
          ]
        }
      ]
    },
    {
      "cell_type": "markdown",
      "source": [
        "Now we have a basic input output paris generator but we want a structured way or methods so we can compute the tokenization parallely on gpu or cpu"
      ],
      "metadata": {
        "id": "4VAuh4x-vy3y"
      }
    },
    {
      "cell_type": "markdown",
      "source": [
        "We'll implement a efficient data laoder that takes input and targets as pytorch tensors,which is n0dimentional arrays .we can do parallel processing"
      ],
      "metadata": {
        "id": "5F2aMz3-wEri"
      }
    },
    {
      "cell_type": "markdown",
      "source": [
        "Here we want only 2 tensors one is input tensor containing text that llm will use a input to predict and tensor two which is target"
      ],
      "metadata": {
        "id": "LGQfXRL_wXvb"
      }
    },
    {
      "cell_type": "markdown",
      "source": [
        "**Implmenting a Data Loader**"
      ],
      "metadata": {
        "id": "QfJ4Em3g0JD_"
      }
    },
    {
      "cell_type": "markdown",
      "source": [
        "For efficient data loader implementation we'll use Pytorch built in Dataset and Dataloader classes"
      ],
      "metadata": {
        "id": "8gZ4v5Ux0STs"
      }
    },
    {
      "cell_type": "code",
      "source": [
        "#step1: Toekenizer entire text\n",
        "#step2:Use sliding window appraoch to chunk the book into overlapping sequences of max_length\n",
        "#step3:Return total number of rows in dataset\n",
        "#step4:Return a single row from dataset"
      ],
      "metadata": {
        "id": "CJpM-aKDwC_y"
      },
      "execution_count": null,
      "outputs": []
    },
    {
      "cell_type": "code",
      "source": [],
      "metadata": {
        "id": "yls5zKvpvQu9"
      },
      "execution_count": null,
      "outputs": []
    },
    {
      "cell_type": "code",
      "source": [
        "import torch\n",
        "from torch.utils.data import Dataset, DataLoader\n",
        "\n",
        "class GPTDataset1(Dataset):\n",
        "    def __init__(self, txt, tokenizer, max_length, stride):\n",
        "        self.input_ids = []\n",
        "        self.target_ids = []\n",
        "\n",
        "        # Tokenize the entire text\n",
        "        token_ids = tokenizer.encode(txt, allowed_special={\"<|endoftext|>\"})\n",
        "\n",
        "        # Use sliding window to chunk the book into overlapping sequences of max_length\n",
        "        for i in range(0, len(token_ids) - max_length, stride):\n",
        "            input_chunk = token_ids[i:i + max_length]\n",
        "            target_chunk = token_ids[i+1:i + max_length + 1]\n",
        "            self.input_ids.append(torch.tensor(input_chunk))\n",
        "            self.target_ids.append(torch.tensor(target_chunk))\n",
        "\n",
        "    def __len__(self):\n",
        "        return len(self.input_ids)\n",
        "\n",
        "    def __getitem__(self, idx):\n",
        "        return self.input_ids[idx], self.target_ids[idx]\n"
      ],
      "metadata": {
        "id": "JS0JDcKA04eN"
      },
      "execution_count": null,
      "outputs": []
    },
    {
      "cell_type": "markdown",
      "source": [
        "now we'll create Dataloader which wil use GPTDataset1 to load the inputs in baches via pytoch Dataloader"
      ],
      "metadata": {
        "id": "z3W0_Qso3_ly"
      }
    },
    {
      "cell_type": "markdown",
      "source": [
        "s1:initialize the tokenizer            \n",
        "s2:create Dataset                 \n",
        "s3:drop_last = True drops the last batch if it is shorter than the specified batch_size to prevent loss spikes during training                     \n",
        "s4:no. of cpu processes to use for preprocessing"
      ],
      "metadata": {
        "id": "q22pJQPO4RIe"
      }
    },
    {
      "cell_type": "code",
      "source": [
        "import tiktoken\n",
        "from torch.utils.data import DataLoader\n",
        "\n",
        "def create_dataloader_v1(txt, batch_size=4, max_length=256, stride=128, shuffle=True, drop_last=True, num_workers=0):\n",
        "    # Initialize tokenizer\n",
        "    tokenizer = tiktoken.get_encoding(\"gpt2\")\n",
        "\n",
        "    # Create dataset\n",
        "    dataset = GPTDataset1(txt, tokenizer, max_length, stride)\n",
        "\n",
        "    # Create dataloader\n",
        "    dataloader = DataLoader(\n",
        "        dataset,\n",
        "        batch_size=batch_size,\n",
        "        shuffle=shuffle,\n",
        "        drop_last=drop_last,\n",
        "        num_workers=num_workers\n",
        "    )\n",
        "\n",
        "    return dataloader\n"
      ],
      "metadata": {
        "id": "XnhhbJmm4OgO"
      },
      "execution_count": null,
      "outputs": []
    },
    {
      "cell_type": "markdown",
      "source": [
        "Let's test these"
      ],
      "metadata": {
        "id": "p8xD0A9v6aTF"
      }
    },
    {
      "cell_type": "code",
      "source": [
        "dataloader = create_dataloader_v1(text,batch_size=1,max_length=4,stride=1,shuffle=False)\n",
        "data_iter = iter(dataloader)\n",
        "first_batch = next(data_iter)\n",
        "print(first_batch)\n",
        "sec_batch = next(data_iter)\n",
        "print(sec_batch)"
      ],
      "metadata": {
        "colab": {
          "base_uri": "https://localhost:8080/"
        },
        "id": "2C-fMPHq6beG",
        "outputId": "b248c9bd-f6c8-4aa0-8280-e6d20194638e"
      },
      "execution_count": null,
      "outputs": [
        {
          "output_type": "stream",
          "name": "stdout",
          "text": [
            "[tensor([[  464,  4897,   286, 10579]]), tensor([[ 4897,   286, 10579, 26028]])]\n",
            "[tensor([[ 4897,   286, 10579, 26028]]), tensor([[  286, 10579, 26028,   198]])]\n"
          ]
        }
      ]
    },
    {
      "cell_type": "markdown",
      "source": [
        "working fine first batch contains two tensors 1.input tenosr 2. output tensors"
      ],
      "metadata": {
        "id": "9E0PH5nk6_BG"
      }
    },
    {
      "cell_type": "markdown",
      "source": [
        "low stride - more overalp of words- overfitting"
      ],
      "metadata": {
        "id": "2NQYuimq-smV"
      }
    },
    {
      "cell_type": "markdown",
      "source": [
        "Creating Token Embeddings with examples"
      ],
      "metadata": {
        "id": "bfZdUM4TzzkB"
      }
    },
    {
      "cell_type": "markdown",
      "source": [
        "quick  fox   is   in   the   house  4  0  3  2  5  1  , for keeping it simple we have took 6 words only and if size 3"
      ],
      "metadata": {
        "id": "bKULjHabe0g3"
      }
    },
    {
      "cell_type": "code",
      "source": [
        "input_ids = torch.tensor([2,3,5,1])\n",
        "vocab_size = 6\n",
        "output_dim = 3\n",
        "\n",
        "torch.manual_seed(123)\n",
        "embedding_layer = torch.nn.Embedding(vocab_size,output_dim)\n"
      ],
      "metadata": {
        "id": "Bei--2UM6wQK"
      },
      "execution_count": null,
      "outputs": []
    },
    {
      "cell_type": "code",
      "source": [
        "print(embedding_layer.weight)   #this matrix is lookup table (lookup table is nothing we can pass the index and get the vector )"
      ],
      "metadata": {
        "colab": {
          "base_uri": "https://localhost:8080/"
        },
        "id": "Y-ybv8dL7Zbi",
        "outputId": "e3a04ebb-4267-4ed3-8120-e1aeaee8ca78"
      },
      "execution_count": null,
      "outputs": [
        {
          "output_type": "stream",
          "name": "stdout",
          "text": [
            "Parameter containing:\n",
            "tensor([[ 0.3374, -0.1778, -0.1690],\n",
            "        [ 0.9178,  1.5810,  1.3010],\n",
            "        [ 1.2753, -0.2010, -0.1606],\n",
            "        [-0.4015,  0.9666, -1.1481],\n",
            "        [-1.1589,  0.3255, -0.6315],\n",
            "        [-2.8400, -0.7849, -1.4096]], requires_grad=True)\n"
          ]
        }
      ]
    },
    {
      "cell_type": "code",
      "source": [
        "print(embedding_layer(torch.tensor([3])))"
      ],
      "metadata": {
        "colab": {
          "base_uri": "https://localhost:8080/"
        },
        "id": "RP3I6yFS-Lft",
        "outputId": "cd775f31-d76b-4305-cdbe-77ee32c2e59c"
      },
      "execution_count": null,
      "outputs": [
        {
          "output_type": "stream",
          "name": "stdout",
          "text": [
            "tensor([[-0.4015,  0.9666, -1.1481]], grad_fn=<EmbeddingBackward0>)\n"
          ]
        }
      ]
    },
    {
      "cell_type": "code",
      "source": [
        "vocab_size = 50257\n",
        "output_dim = 256\n",
        "token_embedding_layer = torch.nn.Embedding(vocab_size,output_dim)"
      ],
      "metadata": {
        "id": "jkJscPlMgGYA"
      },
      "execution_count": null,
      "outputs": []
    },
    {
      "cell_type": "code",
      "source": [
        "max_length = 4  #contex_size\n",
        "dataloader = create_dataloader_v1(text,batch_size=8,max_length=max_length,stride=1,shuffle=False)\n",
        "data_iter = iter(dataloader)\n",
        "inputs,targets = next(data_iter)\n",
        "print(targets)\n",
        "print(\"Input shape:\",inputs.shape)"
      ],
      "metadata": {
        "colab": {
          "base_uri": "https://localhost:8080/"
        },
        "id": "h8azAIqi45RZ",
        "outputId": "93060bbf-643f-4b14-dac6-74e24bba7ccb"
      },
      "execution_count": null,
      "outputs": [
        {
          "output_type": "stream",
          "name": "stdout",
          "text": [
            "tensor([[ 4897,   286, 10579, 26028],\n",
            "        [  286, 10579, 26028,   198],\n",
            "        [10579, 26028,   198,    44],\n",
            "        [26028,   198,    44,  7745],\n",
            "        [  198,    44,  7745, 25384],\n",
            "        [   44,  7745, 25384,    11],\n",
            "        [ 7745, 25384,    11,  2629],\n",
            "        [25384,    11,  2629, 12144]])\n",
            "Input shape: torch.Size([8, 4])\n"
          ]
        }
      ]
    },
    {
      "cell_type": "markdown",
      "source": [
        "we have tensor of size 8*4 dim,meaning data batch consists of 8 text samples with 4 tokens each\n"
      ],
      "metadata": {
        "id": "aRuLTHA66bhk"
      }
    },
    {
      "cell_type": "markdown",
      "source": [
        "Let's now use embedding layer to embed these token ids into 256-dimensional vectors"
      ],
      "metadata": {
        "id": "KxLzuGzjCkll"
      }
    },
    {
      "cell_type": "code",
      "source": [
        "token_embeddings = token_embedding_layer(inputs)\n",
        "print(token_embeddings.shape)\n",
        "\n",
        "# sentence_embeddings = pooling_layer(token_embeddings)\n",
        "# print(sentence_embeddings.shape"
      ],
      "metadata": {
        "colab": {
          "base_uri": "https://localhost:8080/"
        },
        "id": "sq7e6bo16CFH",
        "outputId": "48e88c8a-98e1-4c85-e18f-8ba1929c8cab"
      },
      "execution_count": null,
      "outputs": [
        {
          "output_type": "stream",
          "name": "stdout",
          "text": [
            "torch.Size([8, 4, 256])\n"
          ]
        }
      ]
    },
    {
      "cell_type": "markdown",
      "source": [
        "Now for gpt's absolute embedding appraoch,we need to create another embedding layer that has same dimension"
      ],
      "metadata": {
        "id": "_awzfqJ9DWf2"
      }
    },
    {
      "cell_type": "code",
      "source": [
        "context_length = max_length\n",
        "pos_embedding_layer = torch.nn.Embedding(context_length,output_dim)"
      ],
      "metadata": {
        "id": "CDQeoR_1C7md"
      },
      "execution_count": null,
      "outputs": []
    },
    {
      "cell_type": "markdown",
      "source": [
        "Creating  postional embedding vectors 4*256 becuase our context_size is 4"
      ],
      "metadata": {
        "id": "kkb4QUdREG6V"
      }
    },
    {
      "cell_type": "code",
      "source": [
        "pos_embedding_layer = pos_embedding_layer(torch.arange(max_length))\n",
        "print(pos_embedding_layer.shape)"
      ],
      "metadata": {
        "colab": {
          "base_uri": "https://localhost:8080/"
        },
        "id": "cm8LDuPiENg6",
        "outputId": "e651d907-06a6-410a-cb4e-b78f93c2c1eb"
      },
      "execution_count": null,
      "outputs": [
        {
          "output_type": "stream",
          "name": "stdout",
          "text": [
            "torch.Size([4, 256])\n"
          ]
        }
      ]
    },
    {
      "cell_type": "markdown",
      "source": [
        "# **Attention Mechnaism**"
      ],
      "metadata": {
        "id": "v8tFdyQGcSp4"
      }
    },
    {
      "cell_type": "markdown",
      "source": [
        "Implementing a simplified attention mechanism,will use 3 dimensional vector for this"
      ],
      "metadata": {
        "id": "FT9ZWHo7cXTt"
      }
    },
    {
      "cell_type": "code",
      "source": [
        "inputs = torch.tensor(\n",
        "    [[0.43,0.15,0.89], #Your (X^1)\n",
        "     [0.55,0.87,0.66], #journey(x^2)\n",
        "     [0.57,0.85,0.64], #starts (X^3)\n",
        "     [0.22,0.58,0.33], #with (X^5)\n",
        "     [0.05,0.80,0.55] #step (X^6)\n",
        "\n",
        "\n",
        "    ]\n",
        ")"
      ],
      "metadata": {
        "id": "sk_xYcEEER_d"
      },
      "execution_count": null,
      "outputs": []
    },
    {
      "cell_type": "code",
      "source": [
        "import matplotlib.pyplot as plt\n",
        "from  mpl_toolkits import Axes3D\n",
        "\n",
        "words = [\"Your\",\"journey\",\"starts\",\"with\",\"one\",\"step\"]\n"
      ],
      "metadata": {
        "id": "B7UPlCR3dkpo"
      },
      "execution_count": null,
      "outputs": []
    },
    {
      "cell_type": "code",
      "source": [
        "query = inputs[1]  #2nd input token is query(journey)\n",
        "\n",
        "\n",
        "attn_scores_2 = torch.empty(inputs.shape[0])\n",
        "for i,x_i in enumerate(inputs):\n",
        "  attn_scores_2[i] = torch.dot(x_i,query)  #dot produc to find similarity between query and the embedding vectors or other words\n",
        "\n",
        "print(attn_scores_2)"
      ],
      "metadata": {
        "colab": {
          "base_uri": "https://localhost:8080/"
        },
        "id": "WraIeDpkgsPO",
        "outputId": "84184cd4-19af-4b1a-ecd0-87887685d411"
      },
      "execution_count": null,
      "outputs": [
        {
          "output_type": "stream",
          "name": "stdout",
          "text": [
            "tensor([0.9544, 1.4950, 1.4754, 0.8434, 1.0865])\n"
          ]
        }
      ]
    },
    {
      "cell_type": "markdown",
      "source": [
        "now normalize the attention scores to make them fall in a range and their weights sum up to 1. 2nd llm work better if it's in a range 0-1 because normalization helps to reach optimal state fast"
      ],
      "metadata": {
        "id": "Lwjy7BoJh23i"
      }
    },
    {
      "cell_type": "code",
      "source": [
        "attn_weights_2_tmp = attn_scores_2/attn_scores_2.sum()\n",
        "\n",
        "print(\"Attention weights:\",attn_weights_2_tmp)\n",
        "print(\"Sum:\",attn_weights_2_tmp.sum())"
      ],
      "metadata": {
        "colab": {
          "base_uri": "https://localhost:8080/"
        },
        "id": "oWxSb-4HhCk0",
        "outputId": "0b9f7034-fd98-4af1-e183-cdac30f19504"
      },
      "execution_count": null,
      "outputs": [
        {
          "output_type": "stream",
          "name": "stdout",
          "text": [
            "Attention weights: tensor([0.1630, 0.2554, 0.2520, 0.1441, 0.1856])\n",
            "Sum: tensor(1.)\n"
          ]
        }
      ]
    },
    {
      "cell_type": "markdown",
      "source": [
        "Above i ahve implemented a simple normalization but it's recommended to use softmax for normalization because it's gives values values which are favourable for gradient process."
      ],
      "metadata": {
        "id": "9AfodYpkjmmw"
      }
    },
    {
      "cell_type": "code",
      "source": [
        "def softmax_naive(X):\n",
        "  return torch.exp(X)/torch.exp(X).sum(dim=0)\n",
        "\n",
        "attn_weights_2_navie = softmax_naive(attn_scores_2)\n",
        "# print(\"Attention weights:\",attn_scores_2)1\n",
        "\n",
        "print(\"Normalized attention weights:\",attn_weights_2_navie)\n",
        "print(\"Sum:\",attn_weights_2_navie.sum())"
      ],
      "metadata": {
        "colab": {
          "base_uri": "https://localhost:8080/"
        },
        "id": "t5Z9QotiinXI",
        "outputId": "d73c5332-837e-4396-946a-6bfc658c7ca9"
      },
      "execution_count": null,
      "outputs": [
        {
          "output_type": "stream",
          "name": "stdout",
          "text": [
            "Normalized attention weights: tensor([0.1554, 0.2667, 0.2616, 0.1390, 0.1773])\n",
            "Sum: tensor(1.)\n"
          ]
        }
      ]
    },
    {
      "cell_type": "markdown",
      "source": [
        "But there is problem with this navie softmax implementation it'll face problem of overflow when dealing with large number and it'll face problem of underflow when dealing with small number"
      ],
      "metadata": {
        "id": "1we80Hypk07i"
      }
    },
    {
      "cell_type": "code",
      "source": [
        "attn_weights_2 = torch.softmax(attn_scores_2,dim=0)\n",
        "print(\"Attention weights:\",attn_weights_2)\n",
        "\n",
        "print(\"Sum:\",attn_weights_2.sum())\n"
      ],
      "metadata": {
        "colab": {
          "base_uri": "https://localhost:8080/"
        },
        "id": "rpykHWkhkW77",
        "outputId": "d7f2f446-ec3a-4d1a-ec37-1ae2a8d87a5f"
      },
      "execution_count": null,
      "outputs": [
        {
          "output_type": "stream",
          "name": "stdout",
          "text": [
            "Attention weights: tensor([0.1554, 0.2667, 0.2616, 0.1390, 0.1773])\n",
            "Sum: tensor(1.)\n"
          ]
        }
      ]
    },
    {
      "cell_type": "code",
      "source": [
        "query = inputs[1] #2nd input token\n",
        "\n",
        "context_vec_2 = torch.zeros(query.shape)\n",
        "for i,x_i in enumerate(inputs):\n",
        "  context_vec_2 += attn_weights_2[i]*x_i\n",
        "\n",
        "print(context_vec_2)"
      ],
      "metadata": {
        "colab": {
          "base_uri": "https://localhost:8080/"
        },
        "id": "33v4oYb3lQ-A",
        "outputId": "6d7fa9f1-0257-41c3-fa20-1f3c67bb3d7d"
      },
      "execution_count": null,
      "outputs": [
        {
          "output_type": "stream",
          "name": "stdout",
          "text": [
            "tensor([0.4021, 0.7002, 0.6251])\n"
          ]
        }
      ]
    },
    {
      "cell_type": "markdown",
      "source": [
        "till now we have computed attention weight for journey 2nd(1 index) token we can extend this and compute attention for all inputs"
      ],
      "metadata": {
        "id": "bIwrTSGTnWAD"
      }
    },
    {
      "cell_type": "code",
      "source": [
        "attn_scores = torch.empty(6,6)\n",
        "\n",
        "for i,x_i in enumerate(inputs):\n",
        "  for j,x_j in enumerate(inputs):\n",
        "    attn_scores[i,j] = torch.dot(x_i,x_j)\n",
        "\n",
        "print(attn_scores)"
      ],
      "metadata": {
        "colab": {
          "base_uri": "https://localhost:8080/"
        },
        "id": "y69jxhY6nKPM",
        "outputId": "1f0eb41f-1720-48dd-8be5-33e082cc16b3"
      },
      "execution_count": null,
      "outputs": [
        {
          "output_type": "stream",
          "name": "stdout",
          "text": [
            "tensor([[9.9950e-01, 9.5440e-01, 9.4220e-01, 4.7530e-01, 6.3100e-01, 8.5403e+20],\n",
            "        [9.5440e-01, 1.4950e+00, 1.4754e+00, 8.4340e-01, 1.0865e+00, 1.6427e-07],\n",
            "        [9.4220e-01, 1.4754e+00, 1.4570e+00, 8.2960e-01, 1.0605e+00, 6.1949e-04],\n",
            "        [4.7530e-01, 8.4340e-01, 8.2960e-01, 4.9370e-01, 6.5650e-01, 4.5447e+30],\n",
            "        [6.3100e-01, 1.0865e+00, 1.0605e+00, 6.5650e-01, 9.4500e-01, 1.9284e+31],\n",
            "        [3.2314e-18, 1.1963e+22, 2.1069e-07, 1.0074e-11, 2.1888e+23, 4.1725e-08]])\n"
          ]
        }
      ]
    },
    {
      "cell_type": "markdown",
      "source": [
        "Getting correct result but 2 for loops are comptationally expensive so'll use another appraoch using linear lagebra"
      ],
      "metadata": {
        "id": "EL4TxP-8o6WW"
      }
    },
    {
      "cell_type": "markdown",
      "source": [
        "we used for loops which are slower ,we can get the same result by matrix multiplicaiton"
      ],
      "metadata": {
        "id": "194YgTQCpHYH"
      }
    },
    {
      "cell_type": "code",
      "source": [
        "attn_scores = inputs @ inputs.T    #@ for matrix multiplication\n",
        "print(attn_scores)"
      ],
      "metadata": {
        "colab": {
          "base_uri": "https://localhost:8080/"
        },
        "id": "ZKd44jvnop3X",
        "outputId": "d916aaff-daf4-44e9-ab81-d00d97259f8b"
      },
      "execution_count": null,
      "outputs": [
        {
          "output_type": "stream",
          "name": "stdout",
          "text": [
            "tensor([[0.9995, 0.9544, 0.9422, 0.4753, 0.6310],\n",
            "        [0.9544, 1.4950, 1.4754, 0.8434, 1.0865],\n",
            "        [0.9422, 1.4754, 1.4570, 0.8296, 1.0605],\n",
            "        [0.4753, 0.8434, 0.8296, 0.4937, 0.6565],\n",
            "        [0.6310, 1.0865, 1.0605, 0.6565, 0.9450]])\n"
          ]
        }
      ]
    },
    {
      "cell_type": "code",
      "source": [
        "attn_weights = torch.softmax(attn_scores,dim=-1)\n",
        "print(attn_weights)"
      ],
      "metadata": {
        "colab": {
          "base_uri": "https://localhost:8080/"
        },
        "id": "qNip5qhApUoN",
        "outputId": "634e88fc-6878-4e25-bc45-900b5021017a"
      },
      "execution_count": null,
      "outputs": [
        {
          "output_type": "stream",
          "name": "stdout",
          "text": [
            "tensor([[0.2390, 0.2285, 0.2257, 0.1415, 0.1653],\n",
            "        [0.1554, 0.2667, 0.2616, 0.1390, 0.1773],\n",
            "        [0.1563, 0.2664, 0.2616, 0.1397, 0.1760],\n",
            "        [0.1643, 0.2374, 0.2341, 0.1673, 0.1969],\n",
            "        [0.1537, 0.2423, 0.2361, 0.1576, 0.2103]])\n"
          ]
        }
      ]
    },
    {
      "cell_type": "markdown",
      "source": [
        "dim=-1 ,we are instructing softmax function to apply normalization along the last dimension of the attn_scores"
      ],
      "metadata": {
        "id": "z8Bs11S1qvR7"
      }
    },
    {
      "cell_type": "markdown",
      "source": [
        "so let's calculate final context_vector instead of multiplying then adding the attn_weights and query ,we can get this result just by matrix multiplication"
      ],
      "metadata": {
        "id": "MNTCXSmurbLI"
      }
    },
    {
      "cell_type": "code",
      "source": [
        "all_context_vecs = attn_weights @ inputs\n",
        "print(all_context_vecs)"
      ],
      "metadata": {
        "colab": {
          "base_uri": "https://localhost:8080/"
        },
        "id": "PLdmtgS6qkNU",
        "outputId": "d53861f4-f48c-454e-e855-2e88192f9482"
      },
      "execution_count": null,
      "outputs": [
        {
          "output_type": "stream",
          "name": "stdout",
          "text": [
            "tensor([[0.3965, 0.6408, 0.6456],\n",
            "        [0.4021, 0.7002, 0.6251],\n",
            "        [0.4024, 0.6994, 0.6253],\n",
            "        [0.3813, 0.6847, 0.6162],\n",
            "        [0.3791, 0.6942, 0.6155]])\n"
          ]
        }
      ]
    },
    {
      "cell_type": "markdown",
      "source": [
        "We can find attention weights using this appraoch and can capture some context but still we can't understand and capture all context without trainable weights"
      ],
      "metadata": {
        "id": "igDERTnMsZEZ"
      }
    },
    {
      "cell_type": "markdown",
      "source": [
        "ex- The cat sat on the mat vecause it was warm      without Trainable weights: it'll not pay that much attnetion to mat and warm because both are not realated but it's not true we should focus on both\n",
        "\n",
        "\n",
        "With Trainable weights: model can learn \"warm\" should pay more attention to \"mat\" even if \"mat\" is not semantically similar to \"warm\""
      ],
      "metadata": {
        "id": "Yyj7wBT5srsh"
      }
    },
    {
      "cell_type": "markdown",
      "source": [
        "In short without trainable weights it'll focus only on words related to query,and will leave others and will lost long-term dependency."
      ],
      "metadata": {
        "id": "jE7VnxPethRx"
      }
    },
    {
      "cell_type": "markdown",
      "source": [
        "# Implementing Self Attention With Trainable Weights"
      ],
      "metadata": {
        "id": "CrPwnKhWr7yZ"
      }
    },
    {
      "cell_type": "code",
      "source": [
        "import torch\n",
        "inputs = torch.tensor(\n",
        "    [[0.43,0.15,0.89], #Your (X^1)\n",
        "     [0.55,0.87,0.66], #journey(x^2)\n",
        "     [0.57,0.85,0.64], #starts (X^3)\n",
        "     [0.22,0.58,0.33], #with (X^4)\n",
        "     [0.05,0.80,0.55] #step (X^5)\n",
        "\n",
        "\n",
        "    ]\n",
        ")"
      ],
      "metadata": {
        "id": "2TTYeYzGrvUX"
      },
      "execution_count": 1,
      "outputs": []
    },
    {
      "cell_type": "markdown",
      "source": [
        "A second input element      #B the input Embedding size,d=3    #C The output embedding size ,d_out=2"
      ],
      "metadata": {
        "id": "G17ur5JBsSkZ"
      }
    },
    {
      "cell_type": "code",
      "source": [
        "X_2 = inputs[1]  #A\n",
        "d_in = inputs.shape[1] #B  #here dIn is of same dim of input tensor for multiplication of metrics\n",
        "d_out = 2   #C"
      ],
      "metadata": {
        "id": "CSUMMo6QsIvd"
      },
      "execution_count": 2,
      "outputs": []
    },
    {
      "cell_type": "markdown",
      "source": [
        "In got models input and output dimentions are same but here we are using diffeerent input-outputu dim to better understand"
      ],
      "metadata": {
        "id": "dK1HzzPUswK3"
      }
    },
    {
      "cell_type": "markdown",
      "source": [
        "Let's initalize weight metrics Wq,Wk,Wv"
      ],
      "metadata": {
        "id": "drYhAT2qtF-z"
      }
    },
    {
      "cell_type": "code",
      "source": [
        "W_quer = torch.nn.Parameter(torch.rand(d_in,d_out),requires_grad=False)\n",
        "W_key = torch.nn.Parameter(torch.rand(d_in,d_out),requires_grad=False)\n",
        "W_val = torch.nn.Parameter(torch.rand(d_in,d_out),requires_grad=False)"
      ],
      "metadata": {
        "id": "8JK8bypbsoIx"
      },
      "execution_count": 3,
      "outputs": []
    },
    {
      "cell_type": "code",
      "source": [
        "print(W_quer)\n",
        "print(W_key)\n",
        "print(W_val)"
      ],
      "metadata": {
        "colab": {
          "base_uri": "https://localhost:8080/"
        },
        "id": "5Zc7xcu5uAp5",
        "outputId": "de11be7f-a508-49cd-a3d0-e8fa6b6f255d"
      },
      "execution_count": 4,
      "outputs": [
        {
          "output_type": "stream",
          "name": "stdout",
          "text": [
            "Parameter containing:\n",
            "tensor([[0.9089, 0.4462],\n",
            "        [0.3106, 0.7836],\n",
            "        [0.0770, 0.3783]])\n",
            "Parameter containing:\n",
            "tensor([[0.1432, 0.4438],\n",
            "        [0.1797, 0.1969],\n",
            "        [0.3622, 0.8838]])\n",
            "Parameter containing:\n",
            "tensor([[0.0536, 0.6529],\n",
            "        [0.9413, 0.9484],\n",
            "        [0.1727, 0.1237]])\n"
          ]
        }
      ]
    },
    {
      "cell_type": "markdown",
      "source": [
        "Let's compute query,key and value  for 2nd input vector"
      ],
      "metadata": {
        "id": "deEl7CpmvI97"
      }
    },
    {
      "cell_type": "code",
      "source": [
        "query_2 = X_2 @ W_quer\n",
        "key_2 = X_2 @ W_key\n",
        "value_2 = X_2 @W_val\n",
        "\n",
        "print(query_2)\n",
        "print(key_2)\n",
        "print(value_2)"
      ],
      "metadata": {
        "colab": {
          "base_uri": "https://localhost:8080/"
        },
        "id": "vGuKGqWbuB_U",
        "outputId": "e52e7148-4732-44a7-9f18-0412a9a0b246"
      },
      "execution_count": 5,
      "outputs": [
        {
          "output_type": "stream",
          "name": "stdout",
          "text": [
            "tensor([0.8210, 1.1768])\n",
            "tensor([0.4742, 0.9987])\n",
            "tensor([0.9624, 1.2658])\n"
          ]
        }
      ]
    },
    {
      "cell_type": "markdown",
      "source": [
        "Let's calculate all key and values for all input via matrix multiplication"
      ],
      "metadata": {
        "id": "0Bjerozlv9as"
      }
    },
    {
      "cell_type": "code",
      "source": [
        "keys = inputs @W_key\n",
        "values = inputs @ W_val\n",
        "queries = inputs @ W_quer\n",
        "\n",
        "print(\"keys shape:\",keys.shape)\n",
        "print(\"values\",values.shape)\n",
        "print(\"queries\",queries.shape)\n"
      ],
      "metadata": {
        "colab": {
          "base_uri": "https://localhost:8080/"
        },
        "id": "uqjnsY9HviuJ",
        "outputId": "1fee464e-7987-4483-f82d-57b23f31d4ea"
      },
      "execution_count": 6,
      "outputs": [
        {
          "output_type": "stream",
          "name": "stdout",
          "text": [
            "keys shape: torch.Size([5, 2])\n",
            "values torch.Size([5, 2])\n",
            "queries torch.Size([5, 2])\n"
          ]
        }
      ]
    },
    {
      "cell_type": "markdown",
      "source": [
        "I have successfully rjected 6 input tokens from a 3d into a 2d embedding space"
      ],
      "metadata": {
        "id": "ubOt-1awweIn"
      }
    },
    {
      "cell_type": "markdown",
      "source": [
        "Calculate attention scores for query 2"
      ],
      "metadata": {
        "id": "QHUgRXARxu8F"
      }
    },
    {
      "cell_type": "code",
      "source": [
        "attn_scores_2 = query_2 @keys.T\n",
        "print(attn_scores_2)"
      ],
      "metadata": {
        "colab": {
          "base_uri": "https://localhost:8080/"
        },
        "id": "LhacHf-AwSW4",
        "outputId": "735bbbaa-bcfa-4f69-86d1-9f34ae2a0207"
      },
      "execution_count": 7,
      "outputs": [
        {
          "output_type": "stream",
          "name": "stdout",
          "text": [
            "tensor([1.5224, 1.5646, 1.5430, 0.8021, 1.0710])\n"
          ]
        }
      ]
    },
    {
      "cell_type": "markdown",
      "source": [
        "calculate attention scores for all input tokens"
      ],
      "metadata": {
        "id": "Cldw1RkyzKxq"
      }
    },
    {
      "cell_type": "code",
      "source": [
        "attn_scores = queries @keys.T"
      ],
      "metadata": {
        "id": "gOPl3QNrzIeT"
      },
      "execution_count": 8,
      "outputs": []
    },
    {
      "cell_type": "code",
      "source": [
        "print(attn_scores)"
      ],
      "metadata": {
        "id": "qtaOsEHZzXHh",
        "outputId": "df313d55-8389-40da-b66e-112920b87c6e",
        "colab": {
          "base_uri": "https://localhost:8080/"
        }
      },
      "execution_count": 9,
      "outputs": [
        {
          "output_type": "stream",
          "name": "stdout",
          "text": [
            "tensor([[0.8585, 0.8851, 0.8729, 0.4544, 0.6073],\n",
            "        [1.5224, 1.5646, 1.5430, 0.8021, 1.0710],\n",
            "        [1.5123, 1.5552, 1.5338, 0.7975, 1.0651],\n",
            "        [0.8489, 0.8689, 0.8570, 0.4446, 0.5931],\n",
            "        [1.0014, 1.0156, 1.0020, 0.5175, 0.6885]])\n"
          ]
        }
      ]
    },
    {
      "cell_type": "markdown",
      "source": [
        "attention weight is nothing just normalized attention scores,earlier we were normalizing it by using softmax function but we'll divide scores by square root of embd dim keys"
      ],
      "metadata": {
        "id": "2fq0ZoCOHG0i"
      }
    },
    {
      "cell_type": "code",
      "source": [
        "d_k = keys.shape[-1]\n",
        "attn_weights_2  = torch.softmax(attn_scores_2/d_k**0.5,dim = -1)\n",
        "print(attn_weights_2)\n",
        "print(d_k)"
      ],
      "metadata": {
        "id": "ViS3bNcmzY4a",
        "colab": {
          "base_uri": "https://localhost:8080/"
        },
        "outputId": "1bd383bb-18ad-4783-bb1e-0ff654ce81c1"
      },
      "execution_count": 11,
      "outputs": [
        {
          "output_type": "stream",
          "name": "stdout",
          "text": [
            "tensor([0.2287, 0.2356, 0.2321, 0.1374, 0.1662])\n",
            "2\n"
          ]
        }
      ]
    },
    {
      "cell_type": "markdown",
      "source": [
        "why we are doing square root of values let's understand with example below"
      ],
      "metadata": {
        "id": "BDY_BTTEIO94"
      }
    },
    {
      "cell_type": "code",
      "source": [
        "tensor = torch.tensor([0.1,-0.2,0.3,-0.2,0.5])\n",
        "softmax_result = torch.softmax(tensor,dim=-1)\n",
        "print(\"Softmax without scaing:\",softmax_result)\n",
        "\n",
        "\n",
        "#multiply tensor by  8 and then apply softmax\n",
        "scaled_tensor = tensor*8\n",
        "softmax_scaled_result = torch.softmax(scaled_tensor,dim=-1)\n",
        "print(\"Softmax after scaling (tensor*8):\",softmax_scaled_result)"
      ],
      "metadata": {
        "colab": {
          "base_uri": "https://localhost:8080/"
        },
        "id": "odPFmJuiHtwp",
        "outputId": "a9c687bc-5856-4197-bef4-55d5413c70b6"
      },
      "execution_count": 15,
      "outputs": [
        {
          "output_type": "stream",
          "name": "stdout",
          "text": [
            "Softmax without scaing: tensor([0.1925, 0.1426, 0.2351, 0.1426, 0.2872])\n",
            "Softmax after scaling (tensor*16): tensor([0.0326, 0.0030, 0.1615, 0.0030, 0.8000])\n"
          ]
        }
      ]
    },
    {
      "cell_type": "markdown",
      "source": [
        "we can see the max value get's the highest score after normalizing as we can see the 0.28 became 0.8 while oterhs are too low infact some are 15 times less so it's no good"
      ],
      "metadata": {
        "id": "xpE26qoiJSFG"
      }
    },
    {
      "cell_type": "markdown",
      "source": [
        "So dot preoduct between query and key becomes too large(example *8) the atention scores results in a very sharp softmax distribtion ,making model overly confident in one particular \"key\".SUch sharp disrtibution can make learning unstable"
      ],
      "metadata": {
        "id": "WMqfvylEJ2ce"
      }
    },
    {
      "cell_type": "code",
      "source": [
        "re root not"
      ],
      "metadata": {
        "id": "rMUPhnn8Ka4r"
      },
      "execution_count": null,
      "outputs": []
    },
    {
      "cell_type": "markdown",
      "source": [
        "**Why square root not just dimension** bbecause dot preoduct of Q and K increases variance because mulitplying two random number increases vairance. And the increase in variance grows with dimensions\n",
        "\n",
        "\n",
        "Diving by square root keeps variace close to 1"
      ],
      "metadata": {
        "id": "VtNtQcUXKZoA"
      }
    },
    {
      "cell_type": "code",
      "source": [
        "import numpy as np\n",
        "\n",
        "def compute_variance(dim,num_trials=1000):\n",
        "  dot_products = []\n",
        "  scaled_dot_products = []\n",
        "\n",
        "  for _ in range(num_trials):\n",
        "    q=np.random.randn(dim)\n",
        "    k=np.random.randn(dim)\n",
        "\n",
        "    #compute dot product\n",
        "    dot_product = np.dot(q,k)\n",
        "    dot_products.append(dot_product)\n",
        "\n",
        "    #scale dot product by sqrt(dim)\n",
        "    scaled_dot_product = dot_product/np.sqrt(dim)\n",
        "    scaled_dot_products.append(scaled_dot_product)\n",
        "\n",
        "  variance = np.var(dot_products)\n",
        "  scaled_variance = np.var(scaled_dot_products)\n",
        "\n",
        "  return variance,scaled_variance\n",
        "\n",
        "\n",
        "#For dim 5\n",
        "variance_before_5 ,variance_after_5 = compute_variance(5)\n",
        "print(f\"Variance before scaling: {variance_before_5}\")\n",
        "print(f\"Variance after scaling: {variance_after_5}\")\n",
        "\n",
        "\n",
        "\n",
        "#For dim 5\n",
        "variance_before_30 ,variance_after_30 = compute_variance(30)\n",
        "print(f\"Variance before scaling: {variance_before_30}\")\n",
        "print(f\"Variance after scaling: {variance_after_30}\")"
      ],
      "metadata": {
        "colab": {
          "base_uri": "https://localhost:8080/"
        },
        "id": "INPvlpwUJCXg",
        "outputId": "4afa9363-1f63-4aca-cef3-bbf6fd8b6f50"
      },
      "execution_count": 18,
      "outputs": [
        {
          "output_type": "stream",
          "name": "stdout",
          "text": [
            "Variance before scaling: 4.93239625379989\n",
            "Variance after scaling: 0.9864792507599779\n",
            "Variance before scaling: 27.899841693462722\n",
            "Variance after scaling: 0.929994723115424\n"
          ]
        }
      ]
    },
    {
      "cell_type": "markdown",
      "source": [
        "we can observe as dim increase variance increase but if we divide it with square root of dim it's always between 0-1"
      ],
      "metadata": {
        "id": "evIDp49RMdlt"
      }
    },
    {
      "cell_type": "markdown",
      "source": [
        "Now compute context vector"
      ],
      "metadata": {
        "id": "y_PZ9fz-N6lV"
      }
    },
    {
      "cell_type": "code",
      "source": [
        "context_vec_2 = attn_weights_2 @ values    #context vector for journey\n",
        "print(context_vec_2)"
      ],
      "metadata": {
        "colab": {
          "base_uri": "https://localhost:8080/"
        },
        "id": "XvtpGKvKMIDO",
        "outputId": "cee32e52-318d-429d-ff2b-6c4133c300ae"
      },
      "execution_count": 19,
      "outputs": [
        {
          "output_type": "stream",
          "name": "stdout",
          "text": [
            "tensor([0.7437, 0.9557])\n"
          ]
        }
      ]
    },
    {
      "cell_type": "markdown",
      "source": [
        "Let's implement compact self attention python class"
      ],
      "metadata": {
        "id": "E6zZW5lKOStL"
      }
    },
    {
      "cell_type": "markdown",
      "source": [
        "s1: multiply input with weight,key and value to get weight_key,weight_value,weight_query metrics\n",
        "\n",
        "\n",
        "s2: multiply queries with keys's transpose to get attention scores\n",
        "\n",
        "\n",
        "s3:scaled the attention scores by dividing it with square root of key's dimension than took softmax of it\n",
        "\n",
        "\n",
        "s4: multiply the attention weights withv alue metrics to get the context vector"
      ],
      "metadata": {
        "id": "5B79zIOdPSj4"
      }
    },
    {
      "cell_type": "code",
      "source": [
        "import torch.nn as nn\n",
        "\n",
        "class SelfAttention_v1(nn.Module):\n",
        "\n",
        "  def __init__(self,d_in,d_out):\n",
        "    super().__init__()\n",
        "    self.W_query = nn.Parameter(torch.rand(d_in,d_out))\n",
        "    self.W_key = nn.Parameter(torch.rand(d_in,d_out))\n",
        "    self.W_value = nn.Parameter(torch.rand(d_in,d_out))\n",
        "\n",
        "  def forward(self,X):\n",
        "    keys = X @ self.W_key\n",
        "    values = X @ self.W_value\n",
        "    queries = X @ self.W_query\n",
        "\n",
        "    attn_scores = queries @ keys.T\n",
        "    attn_weights = torch.softmax(attn_scores/keys.shape[-1]**0.5,dim = -1)\n",
        "\n",
        "    context_vec = attn_weights @ values\n",
        "    return context_vec"
      ],
      "metadata": {
        "id": "s3p_t5dTODOj"
      },
      "execution_count": 20,
      "outputs": []
    },
    {
      "cell_type": "markdown",
      "source": [
        "we have inherited pytorch's nn.module to get all functionalities for model layer creation and management"
      ],
      "metadata": {
        "id": "Y68mgYZNRdPq"
      }
    },
    {
      "cell_type": "code",
      "source": [
        "sa_v1 = SelfAttention_v1(d_in,d_out)\n",
        "print(sa_v1(inputs))"
      ],
      "metadata": {
        "colab": {
          "base_uri": "https://localhost:8080/"
        },
        "id": "2O6p4QmTRKmn",
        "outputId": "673d46c3-191b-479f-b14e-03a2030a2de7"
      },
      "execution_count": 22,
      "outputs": [
        {
          "output_type": "stream",
          "name": "stdout",
          "text": [
            "tensor([[0.9120, 0.9843],\n",
            "        [0.9215, 0.9910],\n",
            "        [0.9207, 0.9905],\n",
            "        [0.8847, 0.9668],\n",
            "        [0.8958, 0.9730]], grad_fn=<MmBackward0>)\n"
          ]
        }
      ]
    },
    {
      "cell_type": "markdown",
      "source": [
        "got context vector for our input"
      ],
      "metadata": {
        "id": "QTMUpGE3VrCz"
      }
    },
    {
      "cell_type": "markdown",
      "source": [
        "Let's improve this selfattention class by using pytorch's nn.Linear layers ,which effectively perform matrix multiplication when bias units are disabled"
      ],
      "metadata": {
        "id": "u8NYCozXV70e"
      }
    },
    {
      "cell_type": "markdown",
      "source": [
        "nn.layer has optimized weight initialization scheme"
      ],
      "metadata": {
        "id": "9FLX13q0WVMx"
      }
    },
    {
      "cell_type": "markdown",
      "source": [
        "# **nn.Linear layer automatically initializes its weights using a variant of Xavier/Glorot initialization (specifically designed for layers with activations like ReLU)**"
      ],
      "metadata": {
        "id": "OCBS3q0VYHqY"
      }
    },
    {
      "cell_type": "code",
      "source": [
        "import torch.nn as nn\n",
        "\n",
        "class SelfAttention_v2(nn.Module):\n",
        "\n",
        "  def __init__(self,d_in,d_out,qkv_bias =False):\n",
        "    super().__init__()\n",
        "    self.W_query = nn.Linear(d_in,d_out,bias = qkv_bias)\n",
        "    self.W_key = nn.Linear(d_in,d_out,bias = qkv_bias)\n",
        "    self.W_value = nn.Linear(d_in,d_out,bias = qkv_bias)\n",
        "\n",
        "  def forward(self,X):\n",
        "    keys = self.W_key(X)\n",
        "    values = self.W_value(X)\n",
        "    queries =  self.W_query(X)\n",
        "\n",
        "    attn_scores = queries @ keys.T\n",
        "    attn_weights = torch.softmax(attn_scores/keys.shape[-1]**0.5,dim = -1)\n",
        "\n",
        "    context_vec = attn_weights @ values\n",
        "    return context_vec"
      ],
      "metadata": {
        "id": "BEe7uadBUtQ-"
      },
      "execution_count": 1,
      "outputs": []
    },
    {
      "cell_type": "code",
      "source": [
        "sa_v2 = SelfAttention_v2(d_in,d_out)\n",
        "print(sa_v2(inputs))"
      ],
      "metadata": {
        "colab": {
          "base_uri": "https://localhost:8080/",
          "height": 158
        },
        "id": "j2a8M9VcWokd",
        "outputId": "50ece3c0-5958-4f00-995e-36838c282743"
      },
      "execution_count": 2,
      "outputs": [
        {
          "output_type": "error",
          "ename": "NameError",
          "evalue": "name 'd_in' is not defined",
          "traceback": [
            "\u001b[0;31m---------------------------------------------------------------------------\u001b[0m",
            "\u001b[0;31mNameError\u001b[0m                                 Traceback (most recent call last)",
            "\u001b[0;32m<ipython-input-2-016dc9d03e2a>\u001b[0m in \u001b[0;36m<cell line: 1>\u001b[0;34m()\u001b[0m\n\u001b[0;32m----> 1\u001b[0;31m \u001b[0msa_v2\u001b[0m \u001b[0;34m=\u001b[0m \u001b[0mSelfAttention_v2\u001b[0m\u001b[0;34m(\u001b[0m\u001b[0md_in\u001b[0m\u001b[0;34m,\u001b[0m\u001b[0md_out\u001b[0m\u001b[0;34m)\u001b[0m\u001b[0;34m\u001b[0m\u001b[0;34m\u001b[0m\u001b[0m\n\u001b[0m\u001b[1;32m      2\u001b[0m \u001b[0mprint\u001b[0m\u001b[0;34m(\u001b[0m\u001b[0msa_v2\u001b[0m\u001b[0;34m(\u001b[0m\u001b[0minputs\u001b[0m\u001b[0;34m)\u001b[0m\u001b[0;34m)\u001b[0m\u001b[0;34m\u001b[0m\u001b[0;34m\u001b[0m\u001b[0m\n",
            "\u001b[0;31mNameError\u001b[0m: name 'd_in' is not defined"
          ]
        }
      ]
    },
    {
      "cell_type": "markdown",
      "source": [
        "resue selfattention_v2"
      ],
      "metadata": {
        "id": "9LEoJviMrDQG"
      }
    },
    {
      "cell_type": "code",
      "source": [
        "queries = sa_v2.W_query(inputs)\n",
        "keys = sa_v2.W_key(inputs)\n",
        "attn_scores = queries @ keys.T\n",
        "attn_weights = torch.softmax(attn_scores/keys.shape[-1]**0.5,dim = 1)\n",
        "print(attn_weights)"
      ],
      "metadata": {
        "id": "GMOJQGTDXJpX"
      },
      "execution_count": null,
      "outputs": []
    },
    {
      "cell_type": "markdown",
      "source": [
        "we'll use  pytorch tril function to create lower triangle for attention we'll use mask metric and multiply it with our attnetion scores"
      ],
      "metadata": {
        "id": "Rkh5iQq0tkFn"
      }
    },
    {
      "cell_type": "code",
      "source": [
        "context_length = attn_scores.shape[0]\n",
        "mask_simple = torch.tril(torch.ones(context_length,context_length))\n",
        "print(mask_simple)"
      ],
      "metadata": {
        "id": "YJ4XsIxltBdY"
      },
      "execution_count": null,
      "outputs": []
    },
    {
      "cell_type": "code",
      "source": [
        "masked_simple = attn_weights*mask_simple\n",
        "print(masked_simple)"
      ],
      "metadata": {
        "id": "j7T09afOtRvL"
      },
      "execution_count": null,
      "outputs": []
    },
    {
      "cell_type": "markdown",
      "source": [
        "now these weights need to be normalized so they sum upto 1"
      ],
      "metadata": {
        "id": "QkhxvaVau89d"
      }
    },
    {
      "cell_type": "code",
      "source": [
        "row_sums = masked_simple.sum(dim = 1,keepdim = True)\n",
        "masked_simple_norm = masked_simple/row_sums\n",
        "print(masked_simple_norm)"
      ],
      "metadata": {
        "id": "h94WpWw0uxIJ"
      },
      "execution_count": null,
      "outputs": []
    },
    {
      "cell_type": "markdown",
      "source": [
        "normailization is done but there is a problem of data leakage becuase we applied softmax earlier and it takes sum of all tokens so it already affected our attention socres so there is data leakage and no benefit of masking the further tokens"
      ],
      "metadata": {
        "id": "UukUlKZevtR-"
      }
    },
    {
      "cell_type": "code",
      "source": [
        "print(attn_scores)"
      ],
      "metadata": {
        "id": "_Rj7l5EDvScg"
      },
      "execution_count": null,
      "outputs": []
    },
    {
      "cell_type": "code",
      "source": [
        "mask = torch.triu(torch.ones(context_length,context_length),diagonal =1)\n",
        "masked = attn_scores.masked_fill(mask.bool(),-torch.inf)\n",
        "\n",
        "print(masked)"
      ],
      "metadata": {
        "id": "i_f-640J1XDt"
      },
      "execution_count": null,
      "outputs": []
    },
    {
      "cell_type": "code",
      "source": [
        "attn_weights = torch.softmax(masked/keys.shape[-1]**0.5,dim = 1)\n",
        "print(attn_weights)"
      ],
      "metadata": {
        "id": "HwgNJ8Fc2TLq"
      },
      "execution_count": null,
      "outputs": []
    },
    {
      "cell_type": "markdown",
      "source": [
        "everything done successfully no data leakage"
      ],
      "metadata": {
        "id": "9Ip4_hmx4GjW"
      }
    },
    {
      "cell_type": "markdown",
      "source": [
        "just need to apply dorpout also   \n",
        "\n",
        "2 ways to apply dropou\n",
        "1. after calculating attentin scores(most common way)\n",
        "2. after applying attention weights to value vectors"
      ],
      "metadata": {
        "id": "Y0U_afAy4WF_"
      }
    },
    {
      "cell_type": "code",
      "source": [
        "dropout = torch.nn.Dropout(0.5)\n",
        "example = torch.ones(6,6)\n",
        "\n",
        "print(\"No dorpout :\",example)\n",
        "print(\"Dropout: \",dropout(example))"
      ],
      "metadata": {
        "id": "LW3_F-6E3h5o"
      },
      "execution_count": null,
      "outputs": []
    },
    {
      "cell_type": "markdown",
      "source": [
        "half(50%) are dorp out so to compensate for reduction in active elements the remained values are doubled"
      ],
      "metadata": {
        "id": "6yD3oc_751Ed"
      }
    },
    {
      "cell_type": "markdown",
      "source": [
        "dropout in cnn and rnn ann is different in those neaurons are deactivated and the values are not scaled"
      ],
      "metadata": {
        "id": "OcqlLA4C7HLt"
      }
    },
    {
      "cell_type": "code",
      "source": [
        "class CausalAttention(nn.Module):\n",
        "  def __init__(self,d_in,d_out,context_length,dropout,qkv_bias = False):\n",
        "    super().__init__()\n",
        "    self.d_out = d_out\n",
        "    self.W_query = nn.Linear(d_in,d_out,bias = qkv_bias)\n",
        "    self.W_key = nn.Linear(d_in,d_out,bias = qkv_bias)\n",
        "    self.W_value = nn.Linear(d_in,d_out,bias = qkv_bias)\n",
        "    self.dropout = nn.Dropout(dropout)\n",
        "    self.register_buffer(\"mask\",torch.triu(torch.ones(context_length,context_length),diagonal = 1))\n",
        "\n",
        "  def forward(self,X):\n",
        "    b,num_tokens ,d_in = X.shape\n",
        "    keys  = self.W_key(X)\n",
        "    queries = self.W_query(X)\n",
        "    values = self.W_value(X)\n",
        "\n",
        "    attn_scores = queries @ keys.transpose(1,2)\n",
        "    attn_scores = attn_scores.masked_fill(self.mask.bool()[:num_tokens,:num_tokens],-torch.inf)   # :num_token\n",
        "    attn_weights = torch.softmax(attn_scores/keys.shape[-1]**0.5,dim = -1)\n",
        "\n",
        "    attn_weights = self.dropout(attn_weights)\n",
        "\n",
        "    context_vec = attn_weights @ values\n",
        "    return context_vec\n"
      ],
      "metadata": {
        "id": "IIs2S07a5Z5T"
      },
      "execution_count": 4,
      "outputs": []
    },
    {
      "cell_type": "markdown",
      "source": [],
      "metadata": {
        "id": "aK5tr0Xk-m4d"
      }
    },
    {
      "cell_type": "code",
      "source": [
        "batch = torch.stack((inputs,inputs),dim = 0)\n",
        "print(batch.shape)"
      ],
      "metadata": {
        "id": "2uXftCwV-noO"
      },
      "execution_count": null,
      "outputs": []
    },
    {
      "cell_type": "code",
      "source": [
        "print(d_out,d_in,batch.shape[1])"
      ],
      "metadata": {
        "id": "OpNL8Mwj-BIo"
      },
      "execution_count": null,
      "outputs": []
    },
    {
      "cell_type": "code",
      "source": [
        "context_length = batch.shape[1]\n",
        "ca = CausalAttention(d_in,d_out,context_length ,0.0)\n",
        "context_vec = ca(batch)\n",
        "print(\"Context_vecs.shape:\",context_vec.shape)"
      ],
      "metadata": {
        "id": "52-FvM_K-tBm"
      },
      "execution_count": null,
      "outputs": []
    },
    {
      "cell_type": "markdown",
      "source": [
        "# **Extending SIngle Head Attention To Multi-Head Attention**"
      ],
      "metadata": {
        "id": "IZhzLTe8EBr9"
      }
    },
    {
      "cell_type": "markdown",
      "source": [
        "implementing multi-head attention involves creating multiple instances of self-attnetion mechanism,each with their own weights combining their outputs"
      ],
      "metadata": {
        "id": "2gKobYaXEP6l"
      }
    },
    {
      "cell_type": "markdown",
      "source": [
        "In code we can achieve this by implementing simple MultiheadAttentionWrapper class that stacks multiple instances of our previous CausalAttentionModule:"
      ],
      "metadata": {
        "id": "W_2FxoR6EgOv"
      }
    },
    {
      "cell_type": "code",
      "source": [
        "import torch\n",
        "import torch.nn as nn\n",
        "\n",
        "class MultiHeadAttentionWrapper(nn.Module):\n",
        "    def __init__(self, d_in, d_out, context_length, dropout,num_heads, qkv_bias=False):\n",
        "        super().__init__()\n",
        "        self.heads = nn.ModuleList(\n",
        "            [CausalAttention(d_in, d_out, context_length, dropout, qkv_bias) for _ in range(num_heads)]\n",
        "        )\n",
        "\n",
        "    def forward(self, X):\n",
        "        return torch.cat([h(X) for h in self.heads], dim=-1)\n"
      ],
      "metadata": {
        "id": "xObJipbo_K5V"
      },
      "execution_count": 1,
      "outputs": []
    },
    {
      "cell_type": "code",
      "source": [
        "import torch\n",
        "inputs = torch.tensor(\n",
        "    [[0.43,0.15,0.89], #Your (X^1)\n",
        "     [0.55,0.87,0.66], #journey(x^2)\n",
        "     [0.57,0.85,0.64], #starts (X^3)\n",
        "     [0.22,0.58,0.33], #with (X^4)\n",
        "     [0.77,0.25,.10],  #one (X^5)\n",
        "     [0.05,0.80,0.55] #step (X^6)\n",
        "\n",
        "\n",
        "    ]\n",
        ")\n",
        "batch = torch.stack((inputs,inputs),dim = 0)\n",
        "print(batch.shape)"
      ],
      "metadata": {
        "colab": {
          "base_uri": "https://localhost:8080/"
        },
        "id": "roSX6sa-FwZz",
        "outputId": "2b7f04d5-a985-421e-d0b2-6f3640622596"
      },
      "execution_count": 2,
      "outputs": [
        {
          "output_type": "stream",
          "name": "stdout",
          "text": [
            "torch.Size([2, 6, 3])\n"
          ]
        }
      ]
    },
    {
      "cell_type": "code",
      "source": [
        "context_length = batch.shape[1]\n",
        "d_in ,d_out =3,2\n",
        "mha = MultiHeadAttentionWrapper(d_in,d_out,context_length,0,num_heads=2)\n",
        "context_vec = mha(batch)\n",
        "print(context_vec)\n",
        "print(\"Context_vecs.shape\",context_vec.shape)"
      ],
      "metadata": {
        "colab": {
          "base_uri": "https://localhost:8080/"
        },
        "id": "9YblCVHyGFLw",
        "outputId": "659ba136-945d-429b-ba0d-118282c4b5f1"
      },
      "execution_count": 5,
      "outputs": [
        {
          "output_type": "stream",
          "name": "stdout",
          "text": [
            "tensor([[[ 0.0132, -0.2648,  0.2740, -0.4249],\n",
            "         [-0.1484, -0.2138,  0.3073, -0.5088],\n",
            "         [-0.1939, -0.1927,  0.3172, -0.5316],\n",
            "         [-0.1965, -0.1726,  0.2879, -0.4977],\n",
            "         [-0.1581, -0.1004,  0.2509, -0.3895],\n",
            "         [-0.1874, -0.1318,  0.2578, -0.4365]],\n",
            "\n",
            "        [[ 0.0132, -0.2648,  0.2740, -0.4249],\n",
            "         [-0.1484, -0.2138,  0.3073, -0.5088],\n",
            "         [-0.1939, -0.1927,  0.3172, -0.5316],\n",
            "         [-0.1965, -0.1726,  0.2879, -0.4977],\n",
            "         [-0.1581, -0.1004,  0.2509, -0.3895],\n",
            "         [-0.1874, -0.1318,  0.2578, -0.4365]]], grad_fn=<CatBackward0>)\n",
            "Context_vecs.shape torch.Size([2, 6, 4])\n"
          ]
        }
      ]
    },
    {
      "cell_type": "markdown",
      "source": [
        "First dim of context vector is 2 since we have two input texts and second dim refers to 6 tokens in each input. The 3rd dim refers to  dimension bevause we had d_out(output dim =2) and 2 heads so 2*2=4"
      ],
      "metadata": {
        "id": "d4fvBMs4H_6x"
      }
    },
    {
      "cell_type": "code",
      "source": [
        "class MultiHeadAttention(nn.Module):\n",
        "  def __init__(self,d_in,d_out,context_length,dropout,num_heads,qkv_bias =False):\n",
        "    super().__init__()\n",
        "    assert (d_out%num_heads==0),\\\n",
        "      \"d_out must be divisibe by num_heads\"\n",
        "\n",
        "    self.d_out = d_out\n",
        "    self.num_heads = num_heads\n",
        "    self.head_dim = d_out//num_heads    #reduce projection dim to match desired output dim\n",
        "\n",
        "    self.W_query = nn.Linear(d_in,d_out,bias =qkv_bias)\n",
        "    self.W_key = nn.Linear(d_in,d_out,bias =qkv_bias)\n",
        "    self.W_value = nn.Linear(d_in,d_out,bias = qkv_bias)\n",
        "    self.out_proj = nn.Linear(d_out,d_out)    #Linear layer to combine head outputs\n",
        "    self.dropout = nn.Dropout(dropout)\n",
        "    self.register_buffer(\"mask\",torch.triu(torch.ones(context_length,context_length),diagonal = 1))   #register is used to transfer computation to cpu or gpu which is best\n",
        "\n",
        "  def forward(self,X):\n",
        "    b,num_tokens ,d_in = X.shape\n",
        "\n",
        "    keys  = self.W_key(X)   #shape: (batch ,num_tokens,id_out)\n",
        "    queries = self.W_query(X)\n",
        "    values = self.W_value(X)\n",
        "\n",
        "    #there is no head_dim so we need to create 4th dim for head\n",
        "    #unroll last dimension of keys,queries and values to include num_heads and head_dim\n",
        "    #head_dim = d_out/num_heads =6/2 = 3\n",
        "    #(batch,num_tokens,d_out) -> (batch,num_tokens,num_heads,head_dim)\n",
        "    #(1,2,6) -> (1,3,2,3)\n",
        "    keys = keys.view(b,num_tokens,self.num_heads,self.head_dim)\n",
        "    queries = queries.view(b,num_tokens,self.num_heads,self.head_dim)\n",
        "    values = values.view(b,num_tokens,self.num_heads,self.head_dim)\n",
        "\n",
        "    #transpose to get shape (batch,num_heads,num_tokens,head_dim) ->(batch,num_heads,num_tokens,head_dim)\n",
        "    keys = keys.transpose(1,2)\n",
        "    queries = queries.transpose(1,2)\n",
        "    values = values.transpose(1,2)\n",
        "\n",
        "    #calculate scaled dot-product attention with causal mask\n",
        "    attn_scores = queries @ keys.transpose(2,3)\n",
        "\n",
        "    #orignal mask truncated to the number of tokens and converted to boolean\n",
        "    mask_bool = self.mask.bool()[:num_tokens,:num_tokens]\n",
        "\n",
        "    #use mask to fill attn scores\n",
        "    attn_scores.masked_fill(mask_bool,-torch.inf)\n",
        "    attn_weights = torch.softmax(attn_scores/self.head_dim**0.5,dim = -1)\n",
        "    attn_weights = self.dropout(attn_weights)\n",
        "\n",
        "    #shape:(b,num_tokens,num_ehads,head_dim)\n",
        "    context_vec = (attn_weights @values).transpose(1,2)\n",
        "\n",
        "    #combine heads,where self.d_out = self.num_heads *self.head_dim\n",
        "    context_vec = context_vec.contiguous().view(b,num_tokens,self.d_out)\n",
        "    context_vec = self.out_proj(context_vec) #optional projection\n",
        "\n",
        "    return context_vec\n"
      ],
      "metadata": {
        "id": "ycw9RbJbGlYv"
      },
      "execution_count": 6,
      "outputs": []
    },
    {
      "cell_type": "code",
      "source": [
        "#test his mha\n",
        "import torch\n",
        "\n",
        "\n",
        "inputs = torch.tensor(\n",
        "    [[0.43,0.15,0.89,0.55,0.87,0.66],\n",
        "     [0.57,0.85,0.64,0.22,0.58,0.33],\n",
        "     [0.77,0.25,0.10,0.05,0.80,0.55]]\n",
        ")\n",
        "\n",
        "batch = torch.stack((inputs,inputs),dim=0)\n",
        "print(batch.shape)\n",
        "\n",
        "batch_size ,context_length ,d_in = batch.shape\n",
        "\n",
        "d_out = 6\n",
        "\n",
        "mha = MultiHeadAttention(d_in,d_out,context_length,0,num_heads=2)\n",
        "context_vecs = mha(batch)\n",
        "\n",
        "print(context_vecs)\n",
        "print(\"Context_vecs.shape\",context_vecs.shape)"
      ],
      "metadata": {
        "colab": {
          "base_uri": "https://localhost:8080/"
        },
        "id": "20KjxmfgccNg",
        "outputId": "5f55527f-701a-49f4-ce0a-9d29940c5b1a"
      },
      "execution_count": 7,
      "outputs": [
        {
          "output_type": "stream",
          "name": "stdout",
          "text": [
            "torch.Size([2, 3, 6])\n",
            "tensor([[[-0.2734, -0.2139, -0.0916,  0.4742, -0.3268, -0.0979],\n",
            "         [-0.2725, -0.2143, -0.0922,  0.4737, -0.3265, -0.0992],\n",
            "         [-0.2742, -0.2132, -0.0918,  0.4752, -0.3260, -0.0984]],\n",
            "\n",
            "        [[-0.2734, -0.2139, -0.0916,  0.4742, -0.3268, -0.0979],\n",
            "         [-0.2725, -0.2143, -0.0922,  0.4737, -0.3265, -0.0992],\n",
            "         [-0.2742, -0.2132, -0.0918,  0.4752, -0.3260, -0.0984]]],\n",
            "       grad_fn=<ViewBackward0>)\n",
            "Context_vecs.shape torch.Size([2, 3, 6])\n"
          ]
        }
      ]
    },
    {
      "cell_type": "markdown",
      "source": [
        "Successfully implemented mha"
      ],
      "metadata": {
        "id": "f32QC1H_pntg"
      }
    },
    {
      "cell_type": "markdown",
      "source": [
        "# IMPLEMENTING A GPT MODEL FROM SCRATCH TO GENERATE TEXT"
      ],
      "metadata": {
        "id": "sb1csGc-prpB"
      }
    },
    {
      "cell_type": "code",
      "source": [
        "GPT_config_124 = {\n",
        "    \"vocab_size\":50257,\n",
        "    \"context_lengh\":1024,\n",
        "    \"emb_dim\":768,\n",
        "    \"n_heads\":12,\n",
        "    \"n_layers\":12,\n",
        "    \"drop_rate\":0.1,\n",
        "    \"qkv_bias\":False\n",
        "}"
      ],
      "metadata": {
        "id": "sFKeIbSSimsi"
      },
      "execution_count": 8,
      "outputs": []
    },
    {
      "cell_type": "markdown",
      "source": [
        "GPT ARCHITECTURE PART1:DUMMY GPT MODEL CLASS"
      ],
      "metadata": {
        "id": "ns43oqEJqJGd"
      }
    },
    {
      "cell_type": "markdown",
      "source": [
        "ST1: USE placeholder for transformerBlock\n",
        "st2: Use a placeholder for layernorm"
      ],
      "metadata": {
        "id": "syzLBC_iqQ9n"
      }
    },
    {
      "cell_type": "code",
      "source": [
        "import torch\n",
        "import torch.nn as nn\n",
        "\n",
        "class DummyGptModel(nn.Module):\n",
        "  def __init__(self,cfg ):\n",
        "    super().__init__()\n",
        "    self.tok_emb = nn.Embedding(cfg[\"vocab_size\"],cfg[\"emb_dim\"])\n",
        "    self.pos_emb = nn.Embedding(cfg[\"context_lengh\"],cfg[\"emb_dim\"])\n",
        "    self.drop_emb = nn.Dropout(cfg[\"drop_rate\"])\n",
        "\n",
        "\n",
        "    #use a placeholder for TransformerBlock\n",
        "    self.trf_blocks = nn.Sequential(*[DummyTransformerBlock(cfg) for _ in range(cfg[\"n_layers\"])])\n",
        "\n",
        "    #use a placeholder for LayerNorm\n",
        "    self.final_norm = DummyLayerNorm(cfg[\"emb_dim\"])\n",
        "    self.out_head = nn.Linear(\n",
        "        cfg[\"emb_dim\"],cfg[\"vocab_size\"],bias = False\n",
        "    )\n",
        "\n",
        "  def forward(self,in_idx):\n",
        "    batch_size ,seq_len = in_idx.shape\n",
        "    tok_embeds = self.tok_emb(in_idx)\n",
        "    pos_embeds = self.pos_emb(torch.arange(seq_len,device =in_idx.device))\n",
        "    X = tok_embeds +pos_embeds\n",
        "    X = self.drop_emb(X)\n",
        "    X = self.trf_blocks(X)\n",
        "    X = self.final_norm(X)\n",
        "    logits = self.out_head(X)\n",
        "    return logits\n",
        "\n",
        "class DummyTransformerBlock(nn.Module):\n",
        "  def __init__(self,cfg):\n",
        "    super().__init__()\n",
        "    #A simple placeholder\n",
        "\n",
        "\n",
        "  def forward(self,X):\n",
        "    return X\n",
        "\n",
        "class DummyLayerNorm(nn.Module):\n",
        "  def __init__(self,cfg):\n",
        "    super().__init__()\n",
        "\n",
        "  def forward(self,X):\n",
        "    return X"
      ],
      "metadata": {
        "id": "9BaTjoanqG91"
      },
      "execution_count": 9,
      "outputs": []
    },
    {
      "cell_type": "code",
      "source": [],
      "metadata": {
        "id": "jTE3bsE-qbH2"
      },
      "execution_count": 9,
      "outputs": []
    },
    {
      "cell_type": "code",
      "source": [
        "pip install tiktoken"
      ],
      "metadata": {
        "colab": {
          "base_uri": "https://localhost:8080/"
        },
        "id": "x7yxa2wD2rM7",
        "outputId": "00228fe7-bb56-473e-91e7-dee94df045d5"
      },
      "execution_count": 10,
      "outputs": [
        {
          "output_type": "stream",
          "name": "stdout",
          "text": [
            "Collecting tiktoken\n",
            "  Downloading tiktoken-0.8.0-cp310-cp310-manylinux_2_17_x86_64.manylinux2014_x86_64.whl.metadata (6.6 kB)\n",
            "Requirement already satisfied: regex>=2022.1.18 in /usr/local/lib/python3.10/dist-packages (from tiktoken) (2024.9.11)\n",
            "Requirement already satisfied: requests>=2.26.0 in /usr/local/lib/python3.10/dist-packages (from tiktoken) (2.32.3)\n",
            "Requirement already satisfied: charset-normalizer<4,>=2 in /usr/local/lib/python3.10/dist-packages (from requests>=2.26.0->tiktoken) (3.4.0)\n",
            "Requirement already satisfied: idna<4,>=2.5 in /usr/local/lib/python3.10/dist-packages (from requests>=2.26.0->tiktoken) (3.10)\n",
            "Requirement already satisfied: urllib3<3,>=1.21.1 in /usr/local/lib/python3.10/dist-packages (from requests>=2.26.0->tiktoken) (2.2.3)\n",
            "Requirement already satisfied: certifi>=2017.4.17 in /usr/local/lib/python3.10/dist-packages (from requests>=2.26.0->tiktoken) (2024.8.30)\n",
            "Downloading tiktoken-0.8.0-cp310-cp310-manylinux_2_17_x86_64.manylinux2014_x86_64.whl (1.2 MB)\n",
            "\u001b[?25l   \u001b[90m━━━━━━━━━━━━━━━━━━━━━━━━━━━━━━━━━━━━━━━━\u001b[0m \u001b[32m0.0/1.2 MB\u001b[0m \u001b[31m?\u001b[0m eta \u001b[36m-:--:--\u001b[0m\r\u001b[2K   \u001b[91m━━━━━━━━\u001b[0m\u001b[90m╺\u001b[0m\u001b[90m━━━━━━━━━━━━━━━━━━━━━━━━━━━━━━━\u001b[0m \u001b[32m0.2/1.2 MB\u001b[0m \u001b[31m6.8 MB/s\u001b[0m eta \u001b[36m0:00:01\u001b[0m\r\u001b[2K   \u001b[91m━━━━━━━━━━━━━━━━━━━━━━━━━━━━━━━━━━━━━━━\u001b[0m\u001b[91m╸\u001b[0m \u001b[32m1.2/1.2 MB\u001b[0m \u001b[31m19.4 MB/s\u001b[0m eta \u001b[36m0:00:01\u001b[0m\r\u001b[2K   \u001b[90m━━━━━━━━━━━━━━━━━━━━━━━━━━━━━━━━━━━━━━━━\u001b[0m \u001b[32m1.2/1.2 MB\u001b[0m \u001b[31m15.6 MB/s\u001b[0m eta \u001b[36m0:00:00\u001b[0m\n",
            "\u001b[?25hInstalling collected packages: tiktoken\n",
            "Successfully installed tiktoken-0.8.0\n"
          ]
        }
      ]
    },
    {
      "cell_type": "markdown",
      "source": [
        "**STEP1: TOKENIZATION**"
      ],
      "metadata": {
        "id": "7L1XNNuJ2EpX"
      }
    },
    {
      "cell_type": "code",
      "source": [
        "import torch\n",
        "import tiktoken\n",
        "tokenizer = tiktoken.get_encoding(\"gpt2\")\n",
        "\n",
        "batch = []\n",
        "txt1 = \"Every effort moves you\"\n",
        "txt2 = \"Every day holds a\"\n",
        "\n",
        "batch.append(torch.tensor(tokenizer.encode(txt1)))\n",
        "batch.append(torch.tensor(tokenizer.encode(txt2)))\n",
        "\n",
        "batch = torch.stack(batch)\n",
        "print(batch)"
      ],
      "metadata": {
        "colab": {
          "base_uri": "https://localhost:8080/"
        },
        "id": "AovNL5JJ2Iy4",
        "outputId": "0d882ec2-47d0-45ba-a3a9-a9e263b74e04"
      },
      "execution_count": 11,
      "outputs": [
        {
          "output_type": "stream",
          "name": "stdout",
          "text": [
            "tensor([[6109, 3626, 6100,  345],\n",
            "        [6109, 1110, 6622,  257]])\n"
          ]
        }
      ]
    },
    {
      "cell_type": "markdown",
      "source": [
        "**CREATE AN INSTANCE OF DUMMYGPTMODEL**"
      ],
      "metadata": {
        "id": "A7pJZEKS2wtT"
      }
    },
    {
      "cell_type": "markdown",
      "source": [],
      "metadata": {
        "id": "gGkH76ye3fWp"
      }
    },
    {
      "cell_type": "code",
      "source": [
        "model = DummyGptModel(GPT_config_124)\n",
        "logits = model(batch)\n",
        "print(\"Output shape:\",logits.shape)"
      ],
      "metadata": {
        "colab": {
          "base_uri": "https://localhost:8080/"
        },
        "id": "alet01oi2lX9",
        "outputId": "37e2e9f5-9386-4768-d043-7097700ee34e"
      },
      "execution_count": 12,
      "outputs": [
        {
          "output_type": "stream",
          "name": "stdout",
          "text": [
            "Output shape: torch.Size([2, 4, 50257])\n"
          ]
        }
      ]
    },
    {
      "cell_type": "markdown",
      "source": [
        "GPT ARCHITECTURE PART2: LAYER NORMALIZATION"
      ],
      "metadata": {
        "id": "XJWYoXc0QolJ"
      }
    },
    {
      "cell_type": "code",
      "source": [
        "import torch\n",
        "import torch.nn as nn\n",
        "\n",
        "# Example input batch\n",
        "batch_example = torch.randn(2, 5)\n",
        "\n",
        "# Define the sequential model with a Linear layer followed by a ReLU activation\n",
        "layer = nn.Sequential(\n",
        "    nn.Linear(5, 6),  # Linear layer\n",
        "    nn.ReLU()         # ReLU activation (correct usage)\n",
        ")\n",
        "# Pass the batch example through the model\n",
        "out = layer(batch_example)\n",
        "\n",
        "# Print the output\n",
        "print(out)\n"
      ],
      "metadata": {
        "colab": {
          "base_uri": "https://localhost:8080/"
        },
        "id": "mHjThKqU3D7V",
        "outputId": "526a3f39-fb84-491c-8901-7033267cc37f"
      },
      "execution_count": 13,
      "outputs": [
        {
          "output_type": "stream",
          "name": "stdout",
          "text": [
            "tensor([[0.0000, 0.9118, 0.0000, 0.0000, 0.6671, 0.0710],\n",
            "        [0.0000, 0.0000, 1.5023, 0.0000, 0.0000, 0.7273]],\n",
            "       grad_fn=<ReluBackward0>)\n"
          ]
        }
      ]
    },
    {
      "cell_type": "code",
      "source": [
        "mean = out.mean(dim = -1,keepdim = True)   #dim =-1 because we have do along columns\n",
        "var = out.var(dim = -1,keepdim = True)\n",
        "print(\"Mean:\",mean)\n",
        "print(\"Variance:\",var)"
      ],
      "metadata": {
        "colab": {
          "base_uri": "https://localhost:8080/"
        },
        "id": "ITi3SBVRQ6Md",
        "outputId": "e54b26ae-7cbb-49ae-edb9-b6860917b0e2"
      },
      "execution_count": 14,
      "outputs": [
        {
          "output_type": "stream",
          "name": "stdout",
          "text": [
            "Mean: tensor([[0.2750],\n",
            "        [0.3716]], grad_fn=<MeanBackward1>)\n",
            "Variance: tensor([[0.1656],\n",
            "        [0.3915]], grad_fn=<VarBackward0>)\n"
          ]
        }
      ]
    },
    {
      "cell_type": "code",
      "source": [
        "out_norm = (out-mean)/torch.sqrt(var)\n",
        "mean = out_norm.mean(dim = -1,keepdim = True)\n",
        "var = out_norm.var(dim = -1,keepdim= True)\n",
        "print(\"Normalized layer outputs:\\n\",out_norm)\n",
        "\n",
        "print(\"mean:\\n\",mean)\n",
        "print(\"Variance :\\n\",var)"
      ],
      "metadata": {
        "colab": {
          "base_uri": "https://localhost:8080/"
        },
        "id": "IlKsrFH0TbYt",
        "outputId": "3b7cf632-e423-4459-ccf4-ed2afa48873d"
      },
      "execution_count": 15,
      "outputs": [
        {
          "output_type": "stream",
          "name": "stdout",
          "text": [
            "Normalized layer outputs:\n",
            " tensor([[-0.6758,  1.5651, -0.6758, -0.6758,  0.9637, -0.5014],\n",
            "        [-0.5939, -0.5939,  1.8071, -0.5939, -0.5939,  0.5685]],\n",
            "       grad_fn=<DivBackward0>)\n",
            "mean:\n",
            " tensor([[-5.9605e-08],\n",
            "        [-9.9341e-09]], grad_fn=<MeanBackward1>)\n",
            "Variance :\n",
            " tensor([[1.0000],\n",
            "        [1.0000]], grad_fn=<VarBackward0>)\n"
          ]
        }
      ]
    },
    {
      "cell_type": "markdown",
      "source": [
        "We have implemented layernormalization now let's create a class for it"
      ],
      "metadata": {
        "id": "T34No5FdWh3Y"
      }
    },
    {
      "cell_type": "code",
      "source": [
        "class LayerNorm(nn.Module):\n",
        "  def __init__(self,emb_dim):\n",
        "    super().__init__()\n",
        "    self.eps = 1e-5\n",
        "    self.scale = nn.Parameter(torch.ones(emb_dim))\n",
        "    self.shift = nn.Parameter(torch.zeros(emb_dim))\n",
        "\n",
        "  def forward(self,X):\n",
        "    mean = X.mean(dim = -1,keepdim = True)\n",
        "    var = X.var(dim = -1,keepdim =True,unbiased = False)\n",
        "    norm_X = (X-mean)/torch.sqrt(var+self.eps)\n",
        "    return self.scale*norm_X + self.shift"
      ],
      "metadata": {
        "id": "Tdu-sXVdUoJl"
      },
      "execution_count": 16,
      "outputs": []
    },
    {
      "cell_type": "markdown",
      "source": [
        "epsiloion is added to avoid zero division error"
      ],
      "metadata": {
        "id": "UATbEduTdnF8"
      }
    },
    {
      "cell_type": "code",
      "source": [
        "ln = LayerNorm(emb_dim = 5)\n",
        "out_ln = ln(batch_example)\n",
        "mean = out_ln.mean(dim = -1,keepdim = True)\n",
        "var = out_ln.var(dim =-1,unbiased = False,keepdim = True)\n",
        "print(\"Mean:\\n\",mean)\n",
        "print(\"Variance:\\n\",var)"
      ],
      "metadata": {
        "colab": {
          "base_uri": "https://localhost:8080/"
        },
        "id": "T-vYSATZVQdS",
        "outputId": "db3f3174-22e0-44f0-d987-ab62b463e6f4"
      },
      "execution_count": 17,
      "outputs": [
        {
          "output_type": "stream",
          "name": "stdout",
          "text": [
            "Mean:\n",
            " tensor([[4.7684e-08],\n",
            "        [4.7684e-08]], grad_fn=<MeanBackward1>)\n",
            "Variance:\n",
            " tensor([[1.0000],\n",
            "        [1.0000]], grad_fn=<VarBackward0>)\n"
          ]
        }
      ]
    },
    {
      "cell_type": "markdown",
      "source": [
        "batch normalization -normalizes around batch\n",
        "\n",
        "\n",
        "layer normalization normalizes around -layer\n",
        "\n",
        "\n",
        "cnn-batch   rnn,transformer->layer norm"
      ],
      "metadata": {
        "id": "6rn6q3F_hZ87"
      }
    },
    {
      "cell_type": "markdown",
      "source": [
        "**For llms gelu and swiglu is used**"
      ],
      "metadata": {
        "id": "81cw94aFmjf8"
      }
    },
    {
      "cell_type": "code",
      "source": [
        "class GELU(nn.Module):\n",
        "  def __init__(self):\n",
        "    super().__init__()\n",
        "\n",
        "  def forward(self,X):\n",
        "    return 0.5*X*(1+torch.tanh(torch.sqrt(torch.tensor(2.0/torch.pi))*(X+0.044715*torch.pow(X,3))))"
      ],
      "metadata": {
        "id": "y4NXNWdgep51"
      },
      "execution_count": 18,
      "outputs": []
    },
    {
      "cell_type": "markdown",
      "source": [
        "Let's compare relu and gelu to see the difference between these"
      ],
      "metadata": {
        "id": "WDvOpwfxnbKA"
      }
    },
    {
      "cell_type": "code",
      "source": [
        "import matplotlib.pyplot as plt\n",
        "# Create GELU and ReLU instances\n",
        "gelu, relu = GELU(), nn.ReLU()\n",
        "\n",
        "# Generate input tensor\n",
        "X = torch.linspace(-3, 3, 100)\n",
        "\n",
        "# Apply activations\n",
        "y_gelu, y_relu = gelu(X), relu(X)\n",
        "\n",
        "# Plot both activations\n",
        "plt.figure(figsize=(6, 8))\n",
        "for i, (y, label, color) in enumerate([(y_gelu, \"GELU\", 'blue'), (y_relu, \"ReLU\", 'red')]):\n",
        "    plt.subplot(2, 1, i+1)\n",
        "    plt.plot(X.numpy(), y.numpy(), label=label, color=color)\n",
        "    plt.title(f\"{label} Activation Function\")\n",
        "    plt.xlabel(\"Input\")\n",
        "    plt.ylabel(\"Output\")\n",
        "    plt.grid(True)\n",
        "    plt.legend()\n",
        "\n",
        "plt.tight_layout()\n",
        "plt.show()"
      ],
      "metadata": {
        "colab": {
          "base_uri": "https://localhost:8080/",
          "height": 807
        },
        "id": "IdCSiQP9nZaa",
        "outputId": "c5f502f7-c22c-49f6-c67b-da8c58a8a5df"
      },
      "execution_count": 19,
      "outputs": [
        {
          "output_type": "display_data",
          "data": {
            "text/plain": [
              "<Figure size 600x800 with 2 Axes>"
            ],
            "image/png": "[encoded data removed]"
          },
          "metadata": {}
        }
      ]
    },
    {
      "cell_type": "markdown",
      "source": [
        "smooth cureve can lead to better optimization properties during training\n",
        "\n",
        "relu not differentiable at 0 ,but gelu is\n",
        "\n",
        "gelu is not zero for negative value"
      ],
      "metadata": {
        "id": "JyvINBVeoUZk"
      }
    },
    {
      "cell_type": "markdown",
      "source": [
        "role of feedforwad network- the self attetnion mechanism only see how much importance should be given to each word . and the dimensions are fix\n",
        "\n",
        "but when we add feedforward neural network more neurons are added\n",
        "\n",
        "so we had input dim of 768 and we are projecting the imput into 4 times larger dimension(4 neurons or feedforwad nn layer) it will help the transformer to explroe more in this 4 times bigger dimension"
      ],
      "metadata": {
        "id": "R6R6qYvbpu56"
      }
    },
    {
      "cell_type": "markdown",
      "source": [
        "# FeedForward n//n implemnt Part 3"
      ],
      "metadata": {
        "id": "9So8Rk_TsZ8K"
      }
    },
    {
      "cell_type": "code",
      "source": [
        "class FeedForward(nn.Module):\n",
        "  def __init__(self,cfg):\n",
        "    super().__init__()\n",
        "    self.layers = nn.Sequential(\n",
        "        nn.Linear(cfg[\"emb_dim\"],4*cfg[\"emb_dim\"]),  #expand dim to explore more\n",
        "        GELU(),    #activation\n",
        "        nn.Linear(4*cfg[\"emb_dim\"],cfg[\"emb_dim\"])    #contraction of dim to orginal dim of output\n",
        "    )\n",
        "\n",
        "  def forward(self,X):\n",
        "      return self.layers(X)"
      ],
      "metadata": {
        "id": "SUC91QSDoMfB"
      },
      "execution_count": 20,
      "outputs": []
    },
    {
      "cell_type": "code",
      "source": [
        "print(GPT_config_124[\"emb_dim\"])"
      ],
      "metadata": {
        "colab": {
          "base_uri": "https://localhost:8080/"
        },
        "id": "8LxhgQW8tAND",
        "outputId": "f289d52a-db27-42c7-dc89-e3b8f0904b30"
      },
      "execution_count": 21,
      "outputs": [
        {
          "output_type": "stream",
          "name": "stdout",
          "text": [
            "768\n"
          ]
        }
      ]
    },
    {
      "cell_type": "markdown",
      "source": [
        "Test ff nn\n"
      ],
      "metadata": {
        "id": "d4VfmwAPtzHJ"
      }
    },
    {
      "cell_type": "code",
      "source": [
        "ffn = FeedForward(GPT_config_124)\n",
        "X = torch.rand(2,4,768)\n",
        "out = ffn(X)\n",
        "print(out.shape)"
      ],
      "metadata": {
        "colab": {
          "base_uri": "https://localhost:8080/"
        },
        "id": "vbRatahZtCto",
        "outputId": "d2fc9eab-a6c3-4efe-d5a5-9dbbfa052d1a"
      },
      "execution_count": 22,
      "outputs": [
        {
          "output_type": "stream",
          "name": "stdout",
          "text": [
            "torch.Size([2, 4, 768])\n"
          ]
        }
      ]
    },
    {
      "cell_type": "markdown",
      "source": [
        "**SHORTCUT CONNECTIONS PART 4**"
      ],
      "metadata": {
        "id": "PZr-n9A712ly"
      }
    },
    {
      "cell_type": "code",
      "source": [
        "import torch\n",
        "import torch.nn as nn\n",
        "\n",
        "class ExampleDeepNeuralNetwork(nn.Module):\n",
        "    def __init__(self, layer_sizes, use_shortcut):\n",
        "        super().__init__()\n",
        "        self.use_shortcut = use_shortcut\n",
        "        self.layers = nn.ModuleList([\n",
        "            nn.Sequential(nn.Linear(layer_sizes[0], layer_sizes[1]), GELU()),\n",
        "            nn.Sequential(nn.Linear(layer_sizes[1], layer_sizes[1]), GELU()),\n",
        "            nn.Sequential(nn.Linear(layer_sizes[1], layer_sizes[2]), GELU()),\n",
        "            nn.Sequential(nn.Linear(layer_sizes[2], layer_sizes[3]), GELU()),\n",
        "            nn.Sequential(nn.Linear(layer_sizes[3], layer_sizes[4]), GELU())\n",
        "        ])\n",
        "\n",
        "    def forward(self, X):\n",
        "        for layer in self.layers:\n",
        "            layer_output = layer(X)\n",
        "\n",
        "            # Applying shortcut connection\n",
        "            if self.use_shortcut and X.shape == layer_output.shape:\n",
        "                X = X + layer_output\n",
        "            else:\n",
        "                X = layer_output\n",
        "\n",
        "        return X\n"
      ],
      "metadata": {
        "id": "-9aJvDT7t2No"
      },
      "execution_count": 23,
      "outputs": []
    },
    {
      "cell_type": "code",
      "source": [
        "layer_sizes = [3,3,3,3,3,1]\n",
        "sample_input = torch.tensor([[1.,0,-1]])\n",
        "model_without_shortcut = ExampleDeepNeuralNetwork(\n",
        "    layer_sizes ,use_shortcut = False\n",
        ")"
      ],
      "metadata": {
        "id": "v2XdSEox4Du8"
      },
      "execution_count": 24,
      "outputs": []
    },
    {
      "cell_type": "code",
      "source": [
        "\n",
        "\n",
        "def print_gradient(model, X):\n",
        "    output = model(X)\n",
        "    target = torch.tensor([[0.0]])\n",
        "\n",
        "    # Calculate loss based on how close the target is\n",
        "    loss_fn = nn.MSELoss()\n",
        "    loss = loss_fn(output, target)\n",
        "\n",
        "    # Backward pass to calculate the gradients\n",
        "    loss.backward()\n",
        "\n",
        "    # Print the gradients of the weights\n",
        "    for name, param in model.named_parameters():\n",
        "        if \"weight\" in name and param.grad is not None:\n",
        "            print(f\"{name} has gradient mean of {param.grad.abs().mean().item()}\")\n"
      ],
      "metadata": {
        "id": "L0iCg1Ep4zyv"
      },
      "execution_count": 25,
      "outputs": []
    },
    {
      "cell_type": "code",
      "source": [
        "print_gradient(model_without_shortcut,sample_input)"
      ],
      "metadata": {
        "colab": {
          "base_uri": "https://localhost:8080/"
        },
        "id": "pKA7qL0H7I1J",
        "outputId": "3846e4d2-1d2d-445a-da91-109a62a283a7"
      },
      "execution_count": 26,
      "outputs": [
        {
          "output_type": "stream",
          "name": "stdout",
          "text": [
            "layers.0.0.weight has gradient mean of 1.849435648182407e-05\n",
            "layers.1.0.weight has gradient mean of 3.1618601497029886e-05\n",
            "layers.2.0.weight has gradient mean of 0.00016230760957114398\n",
            "layers.3.0.weight has gradient mean of 0.0005445715505629778\n",
            "layers.4.0.weight has gradient mean of 0.0014962060377001762\n"
          ]
        },
        {
          "output_type": "stream",
          "name": "stderr",
          "text": [
            "/usr/local/lib/python3.10/dist-packages/torch/nn/modules/loss.py:608: UserWarning: Using a target size (torch.Size([1, 1])) that is different to the input size (torch.Size([1, 3])). This will likely lead to incorrect results due to broadcasting. Please ensure they have the same size.\n",
            "  return F.mse_loss(input, target, reduction=self.reduction)\n"
          ]
        }
      ]
    },
    {
      "cell_type": "markdown",
      "source": [
        "we can see the layer 0\n",
        " is facing vanishsing gradient problem"
      ],
      "metadata": {
        "id": "hjOoj5Va7wHs"
      }
    },
    {
      "cell_type": "code",
      "source": [
        "model_with_shortcut = ExampleDeepNeuralNetwork(\n",
        "    layer_sizes, use_shortcut = True\n",
        ")\n",
        "print_gradient(model_with_shortcut,sample_input)"
      ],
      "metadata": {
        "colab": {
          "base_uri": "https://localhost:8080/"
        },
        "id": "ye9If5wR7ZD0",
        "outputId": "15055aba-40cf-40f7-c0d4-2157a0c9d247"
      },
      "execution_count": 27,
      "outputs": [
        {
          "output_type": "stream",
          "name": "stdout",
          "text": [
            "layers.0.0.weight has gradient mean of 2.8950865268707275\n",
            "layers.1.0.weight has gradient mean of 3.535364866256714\n",
            "layers.2.0.weight has gradient mean of 2.278616189956665\n",
            "layers.3.0.weight has gradient mean of 1.619220495223999\n",
            "layers.4.0.weight has gradient mean of 1.509148359298706\n"
          ]
        }
      ]
    },
    {
      "cell_type": "markdown",
      "source": [
        "we can see we have added skipped connection not not facing vanishing gradient problem\n"
      ],
      "metadata": {
        "id": "66uxiq_N8ycG"
      }
    },
    {
      "cell_type": "code",
      "source": [],
      "metadata": {
        "id": "Dw6QDknV8wRO"
      },
      "execution_count": 27,
      "outputs": []
    },
    {
      "cell_type": "markdown",
      "source": [
        "CODE ENTIRE GPT2: PART 5"
      ],
      "metadata": {
        "id": "TdisuFNIBsTR"
      }
    },
    {
      "cell_type": "code",
      "source": [
        "GPT_CONFIG_124M = {\n",
        "    \"vocab_size\": 50257,    # Vocabulary size\n",
        "    \"context_length\": 1024, # Context length\n",
        "    \"emb_dim\": 768,         # Embedding dimension\n",
        "    \"n_heads\": 12,          # Number of attention heads\n",
        "    \"n_layers\": 12,         # Number of layers\n",
        "    \"drop_rate\": 0.1,       # Dropout rate\n",
        "    \"qkv_bias\": False       # Query-Key-Value bias\n",
        "}"
      ],
      "metadata": {
        "id": "Y3LFFtUhBvFm"
      },
      "execution_count": 28,
      "outputs": []
    },
    {
      "cell_type": "code",
      "source": [
        "class LayerNorm(nn.Module):\n",
        "  def __init__(self,emb_dim):\n",
        "    super().__init__()\n",
        "    self.eps = 1e-5\n",
        "    self.scale = nn.Parameter(torch.ones(emb_dim))\n",
        "    self.shift = nn.Parameter(torch.zeros(emb_dim))\n",
        "\n",
        "  def forward(self,X):\n",
        "    mean = X.mean(dim = -1,keepdim = True)\n",
        "    var = X.var(dim = -1,keepdim =True,unbiased = False)\n",
        "    norm_X = (X-mean)/torch.sqrt(var+self.eps)\n",
        "    return self.scale*norm_X + self.shift\n",
        "\n",
        "\n",
        "class GELU(nn.Module):\n",
        "  def __init__(self):\n",
        "    super().__init__()\n",
        "\n",
        "  def forward(self,X):\n",
        "    return 0.5*X*(1+torch.tanh(torch.sqrt(torch.tensor(2.0/torch.pi))*(X+0.044715*torch.pow(X,3))))\n",
        "\n",
        "\n",
        "class FeedForward(nn.Module):\n",
        "  def __init__(self,cfg):\n",
        "    super().__init__()\n",
        "    self.layers = nn.Sequential(\n",
        "        nn.Linear(cfg[\"emb_dim\"],4*cfg[\"emb_dim\"]),  #expand dim to explore more\n",
        "        GELU(),    #activation\n",
        "        nn.Linear(4*cfg[\"emb_dim\"],cfg[\"emb_dim\"])    #contraction of dim to orginal dim of output\n",
        "    )\n",
        "\n",
        "  def forward(self,X):\n",
        "      return self.layers(X)"
      ],
      "metadata": {
        "id": "fDZAt5zlCBt4"
      },
      "execution_count": 29,
      "outputs": []
    },
    {
      "cell_type": "markdown",
      "source": [
        "**Let's code transformer block**\n",
        "\n",
        "st1:shortcut connection   \n",
        "\n",
        "st2: shprtcut connection for feed forward block\n",
        "\n",
        "st3: add orignal input back\n"
      ],
      "metadata": {
        "id": "398XnvCUCOXO"
      }
    },
    {
      "cell_type": "code",
      "source": [
        "class TransformerBlock(nn.Module):\n",
        "    def __init__(self, cfg):\n",
        "        super().__init__()\n",
        "        self.att = MultiHeadAttention(\n",
        "            d_in=cfg[\"emb_dim\"],\n",
        "            d_out=cfg[\"emb_dim\"],\n",
        "            context_length=cfg[\"context_length\"],\n",
        "            num_heads=cfg[\"n_heads\"],\n",
        "            dropout=cfg[\"drop_rate\"],\n",
        "            qkv_bias=cfg[\"qkv_bias\"])\n",
        "        self.ff = FeedForward(cfg)\n",
        "        self.norm1 = LayerNorm(cfg[\"emb_dim\"])\n",
        "        self.norm2 = LayerNorm(cfg[\"emb_dim\"])\n",
        "        self.drop_shortcut = nn.Dropout(cfg[\"drop_rate\"])\n",
        "\n",
        "    def forward(self, x):\n",
        "        # Shortcut connection for attention block\n",
        "        shortcut = x\n",
        "        x = self.norm1(x)\n",
        "        x = self.att(x)  # Shape [batch_size, num_tokens, emb_size]\n",
        "        x = self.drop_shortcut(x)\n",
        "        x = x + shortcut  # Add the original input back\n",
        "\n",
        "        # Shortcut connection for feed forward block\n",
        "        shortcut = x\n",
        "        x = self.norm2(x)\n",
        "        x = self.ff(x)\n",
        "        x = self.drop_shortcut(x)\n",
        "        x = x + shortcut  # Add the original input back\n",
        "\n",
        "        return x"
      ],
      "metadata": {
        "id": "FFf0iJ3SCJcR"
      },
      "execution_count": 30,
      "outputs": []
    },
    {
      "cell_type": "code",
      "source": [
        "X = torch.rand(2,4,768)\n",
        "\n",
        "block = TransformerBlock(GPT_CONFIG_124M)\n",
        "out = block(X)\n",
        "print(\"input shape:\",X.shape)\n",
        "print(\"Output shape\",out.shape)"
      ],
      "metadata": {
        "colab": {
          "base_uri": "https://localhost:8080/"
        },
        "id": "Zfvaa8m3FC1f",
        "outputId": "d1592600-65f8-4ac3-aa7a-c3dd2ee58568"
      },
      "execution_count": 31,
      "outputs": [
        {
          "output_type": "stream",
          "name": "stdout",
          "text": [
            "input shape: torch.Size([2, 4, 768])\n",
            "Output shape torch.Size([2, 4, 768])\n"
          ]
        }
      ]
    },
    {
      "cell_type": "markdown",
      "source": [
        "Our **Transformer** block is workin completely fine we can see it's preserving the dimensions"
      ],
      "metadata": {
        "id": "EWMt9p3WH-6n"
      }
    },
    {
      "cell_type": "code",
      "source": [],
      "metadata": {
        "id": "3IcVxAyBFUJK"
      },
      "execution_count": 31,
      "outputs": []
    },
    {
      "cell_type": "markdown",
      "source": [
        "**Implement complete gpt2**"
      ],
      "metadata": {
        "id": "A_uS471qXqzx"
      }
    },
    {
      "cell_type": "code",
      "source": [
        "class GPTModel(nn.Module):\n",
        "    def __init__(self, cfg):\n",
        "        super().__init__()\n",
        "        self.tok_emb = nn.Embedding(cfg[\"vocab_size\"], cfg[\"emb_dim\"])\n",
        "        self.pos_emb = nn.Embedding(cfg[\"context_length\"], cfg[\"emb_dim\"])\n",
        "        self.drop_emb = nn.Dropout(cfg[\"drop_rate\"])\n",
        "\n",
        "        self.trf_blocks = nn.Sequential(\n",
        "            *[TransformerBlock(cfg) for _ in range(cfg[\"n_layers\"])])\n",
        "\n",
        "        self.final_norm = LayerNorm(cfg[\"emb_dim\"])\n",
        "        self.out_head = nn.Linear(\n",
        "            cfg[\"emb_dim\"], cfg[\"vocab_size\"], bias=False\n",
        "        )\n",
        "\n",
        "    def forward(self, in_idx):\n",
        "        batch_size, seq_len = in_idx.shape\n",
        "        tok_embeds = self.tok_emb(in_idx)\n",
        "        pos_embeds = self.pos_emb(torch.arange(seq_len, device=in_idx.device))\n",
        "        x = tok_embeds + pos_embeds  # Shape [batch_size, num_tokens, emb_size]\n",
        "        x = self.drop_emb(x)\n",
        "        x = self.trf_blocks(x)\n",
        "        x = self.final_norm(x)\n",
        "        logits = self.out_head(x)\n",
        "        return logits\n"
      ],
      "metadata": {
        "id": "UnxEIFfiXyRz"
      },
      "execution_count": 32,
      "outputs": []
    },
    {
      "cell_type": "code",
      "source": [
        "import tiktoken\n",
        "tokenizer = tiktoken.get_encoding(\"gpt2\")\n",
        "batch = []\n",
        "txt1 = \"Every effort moves you\"\n",
        "txt2 = \"Every day holds a\"\n",
        "batch.append(torch.tensor(tokenizer.encode(txt1)))\n",
        "batch.append(torch.tensor(tokenizer.encode(txt2)))\n",
        "batch = torch.stack(batch, dim=0)\n",
        "print(batch)"
      ],
      "metadata": {
        "colab": {
          "base_uri": "https://localhost:8080/"
        },
        "id": "wk-Ybw0zc8c1",
        "outputId": "0befc2d9-b7cc-4ac9-e87e-bfa39ddc5682"
      },
      "execution_count": 33,
      "outputs": [
        {
          "output_type": "stream",
          "name": "stdout",
          "text": [
            "tensor([[6109, 3626, 6100,  345],\n",
            "        [6109, 1110, 6622,  257]])\n"
          ]
        }
      ]
    },
    {
      "cell_type": "code",
      "source": [
        "torch.manual_seed(123)\n",
        "model = GPTModel(GPT_CONFIG_124M)\n",
        "out = model(batch)\n",
        "print(\"Input batch:\\n\", batch)\n",
        "print(\"\\nOutput shape:\", out.shape)\n",
        "print(out)"
      ],
      "metadata": {
        "colab": {
          "base_uri": "https://localhost:8080/"
        },
        "id": "Qgc1oYRVaV_F",
        "outputId": "966e523e-f288-4c11-9547-f4a751feff5e"
      },
      "execution_count": 34,
      "outputs": [
        {
          "output_type": "stream",
          "name": "stdout",
          "text": [
            "Input batch:\n",
            " tensor([[6109, 3626, 6100,  345],\n",
            "        [6109, 1110, 6622,  257]])\n",
            "\n",
            "Output shape: torch.Size([2, 4, 50257])\n",
            "tensor([[[-0.0072, -0.2137, -0.3467,  ..., -0.3240, -0.2338, -0.1070],\n",
            "         [ 0.7063, -0.7429, -0.6645,  ..., -0.6530, -0.1393, -0.2166],\n",
            "         [ 0.8226, -0.2982, -0.4547,  ...,  0.0913, -0.6949, -0.2091],\n",
            "         [-0.3933,  0.3074, -0.1343,  ...,  1.0464,  0.4620, -0.5298]],\n",
            "\n",
            "        [[ 0.1386, -0.4081, -0.1563,  ..., -0.0892, -0.0672, -0.0157],\n",
            "         [ 0.2353, -0.1177, -0.1307,  ...,  1.0729, -0.3517,  0.3905],\n",
            "         [ 0.7367,  0.3377, -0.4311,  ...,  0.8471,  0.2219, -0.2541],\n",
            "         [ 0.0166, -0.0721,  0.3451,  ...,  1.1352, -0.4069,  0.0309]]],\n",
            "       grad_fn=<UnsafeViewBackward0>)\n"
          ]
        }
      ]
    },
    {
      "cell_type": "code",
      "source": [
        "total_params = sum(p.numel() for p in model.parameters())\n",
        "print(f\"Total number of parameters: {total_params:,}\")"
      ],
      "metadata": {
        "colab": {
          "base_uri": "https://localhost:8080/"
        },
        "id": "7VYzhr7eatnX",
        "outputId": "43f966f8-dbb3-40c0-92db-87254f11f93c"
      },
      "execution_count": 35,
      "outputs": [
        {
          "output_type": "stream",
          "name": "stdout",
          "text": [
            "Total number of parameters: 163,009,536\n"
          ]
        }
      ]
    },
    {
      "cell_type": "markdown",
      "source": [
        "actual gpt2 had 124m parameters bt this is having more than 163m parameters it's becuse of weight tying let's understand it with code"
      ],
      "metadata": {
        "id": "1gdv7oHtiOje"
      }
    },
    {
      "cell_type": "code",
      "source": [
        "print(\"Token embedding layer shape:\", model.tok_emb.weight.shape)\n",
        "print(\"Output layer shape:\", model.out_head.weight.shape)"
      ],
      "metadata": {
        "colab": {
          "base_uri": "https://localhost:8080/"
        },
        "id": "4p1gD1_ph2kD",
        "outputId": "54663bfa-bda0-453a-fc47-d3113a5522f1"
      },
      "execution_count": 36,
      "outputs": [
        {
          "output_type": "stream",
          "name": "stdout",
          "text": [
            "Token embedding layer shape: torch.Size([50257, 768])\n",
            "Output layer shape: torch.Size([50257, 768])\n"
          ]
        }
      ]
    },
    {
      "cell_type": "markdown",
      "source": [
        "The token embedding and output layers are very large due to number of rows for the 50257 in the tokenizer's vocab, Let's remove the output layer parameter count from gpt-2 model count accoring to weight tying"
      ],
      "metadata": {
        "id": "nn4sw7AyjIIx"
      }
    },
    {
      "cell_type": "code",
      "source": [
        "total_params_gpt2 = total_params - sum(p.numel() for p in model.out_head.parameters())\n",
        "print(f\"Number of trainable parameters considering weight tying: {total_params_gpt2:,}\")"
      ],
      "metadata": {
        "colab": {
          "base_uri": "https://localhost:8080/"
        },
        "id": "bJ9k2Y5pit_1",
        "outputId": "45a8e79d-afd1-48ca-fd85-c912115c05f1"
      },
      "execution_count": 37,
      "outputs": [
        {
          "output_type": "stream",
          "name": "stdout",
          "text": [
            "Number of trainable parameters considering weight tying: 124,412,160\n"
          ]
        }
      ]
    },
    {
      "cell_type": "markdown",
      "source": [
        "weight tying reduces memory footprint and computational complexity and time of the model. But to get better training and result's it's better not to resue the parameters"
      ],
      "metadata": {
        "id": "je_KVmzyjpkN"
      }
    },
    {
      "cell_type": "markdown",
      "source": [
        "let's calculate memory req of 163 million parameters in ut GptModel object"
      ],
      "metadata": {
        "id": "Z1GCv1FPkBah"
      }
    },
    {
      "cell_type": "code",
      "source": [
        "total_size_bytes = total_params *4\n",
        "total_size_mb = total_size_bytes/(1024*1024)\n",
        "\n",
        "print(f\"Total size of model :,{total_size_mb:.2f} MB\")"
      ],
      "metadata": {
        "colab": {
          "base_uri": "https://localhost:8080/"
        },
        "id": "nfjJTNn9ja2T",
        "outputId": "a3292b27-b6aa-4bfd-f53c-58da2faa647d"
      },
      "execution_count": 38,
      "outputs": [
        {
          "output_type": "stream",
          "name": "stdout",
          "text": [
            "Total size of model :,621.83 MB\n"
          ]
        }
      ]
    },
    {
      "cell_type": "markdown",
      "source": [
        "GENERATE TEXT FROM OUTPUT TOKENS"
      ],
      "metadata": {
        "id": "7zfmor7VprDb"
      }
    },
    {
      "cell_type": "markdown",
      "source": [
        "<div class=\"alert alert-block alert-info\">\n",
        "\n",
        "Step 1: idx is a (batch, n_tokens) array of indices in the current context\n",
        "\n",
        "Step 2: Crop current context if it exceeds the supported context size E.g., if LLM supports only 5 tokens, and the\n",
        "context size is 10 then only the last 5 tokens are used as context\n",
        "\n",
        "Step 3: Focus only on the last time step, so that (batch, n_token, vocab_size) becomes (batch, vocab_size)\n",
        "\n",
        "Step 4: probas has shape (batch, vocab_size)\n",
        "\n",
        "Step 5: idx_next has shape (batch, 1)\n",
        "\n",
        "Step 6: Append sampled index to the running sequence, where idx has shape (batch, n_tokens+1)\n",
        "\n",
        "</div>"
      ],
      "metadata": {
        "id": "sJa9GAVVp1ML"
      }
    },
    {
      "cell_type": "code",
      "source": [
        "def generate_text_simple(model, idx,max_new_tokens,context_size):\n",
        "\n",
        "  for _ in range(max_new_tokens):\n",
        "\n",
        "    #crop current context if it exceeds the supported context size\n",
        "    idx_cond = idx[:,-context_size:]\n",
        "\n",
        "    #get the predictions\n",
        "    with torch.no_grad():\n",
        "      logits = model(idx_cond)   #batch ,n_tokens,vocab_size\n",
        "\n",
        "    #focus only on the last time step\n",
        "    logits = logits[:,-1,:]\n",
        "\n",
        "    #apply softmax to get probabilities\n",
        "    probas = torch.softmax(logits ,dim = -1)\n",
        "\n",
        "\n",
        "    #get the idx of the voab entry wit the highest probability value\n",
        "    idx_next = torch.argmax(probas,dim =-1,keepdim =True)\n",
        "\n",
        "    #append sampled index to runnning sequence\n",
        "    idx = torch.cat((idx,idx_next),dim = 1)\n",
        "\n",
        "  return idx"
      ],
      "metadata": {
        "id": "iJJn2fyWkjqA"
      },
      "execution_count": 39,
      "outputs": []
    },
    {
      "cell_type": "markdown",
      "source": [
        "Test our generate text simple"
      ],
      "metadata": {
        "id": "2bLoI_TAvG5D"
      }
    },
    {
      "cell_type": "code",
      "source": [
        "start_context = \"Hello, I am\"\n",
        "encoded = tokenizer.encode(start_context)\n",
        "print(\"encoded:\",encoded)\n",
        "encoded_tensor = torch.tensor(encoded).unsqueeze(0)\n",
        "print(\"encode_tensor.shape:\",encoded_tensor.shape)\n"
      ],
      "metadata": {
        "colab": {
          "base_uri": "https://localhost:8080/"
        },
        "id": "oZ1J4KvisOTC",
        "outputId": "5491a200-7797-4284-fc0c-b71f896f532c"
      },
      "execution_count": 40,
      "outputs": [
        {
          "output_type": "stream",
          "name": "stdout",
          "text": [
            "encoded: [15496, 11, 314, 716]\n",
            "encode_tensor.shape: torch.Size([1, 4])\n"
          ]
        }
      ]
    },
    {
      "cell_type": "code",
      "source": [
        "model.eval()\n",
        "\n",
        "out = generate_text_simple(\n",
        "    model = model,\n",
        "    idx =encoded_tensor,\n",
        "    max_new_tokens = 6,\n",
        "    context_size = GPT_CONFIG_124M[\"context_length\"]\n",
        ")\n",
        "print(\"Output:\",out)\n",
        "print(\"Output length:\",len(out[0]))"
      ],
      "metadata": {
        "colab": {
          "base_uri": "https://localhost:8080/"
        },
        "id": "LfK-nRvZvcBG",
        "outputId": "1ff3a1e8-fc44-4bca-c012-4ad5762435b5"
      },
      "execution_count": 41,
      "outputs": [
        {
          "output_type": "stream",
          "name": "stdout",
          "text": [
            "Output: tensor([[15496,    11,   314,   716, 27018,  7283, 46275, 41426, 33167, 33239]])\n",
            "Output length: 10\n"
          ]
        }
      ]
    },
    {
      "cell_type": "markdown",
      "source": [
        "we can see 6 new tokens have been added because of generate text function"
      ],
      "metadata": {
        "id": "lluqazHRwHq5"
      }
    },
    {
      "cell_type": "markdown",
      "source": [
        "Let's use .decoder method of tokenzer ,we can convert IDS back into text"
      ],
      "metadata": {
        "id": "RdMO6hj0wODH"
      }
    },
    {
      "cell_type": "code",
      "source": [
        "decoded_text = tokenizer.decode(out.squeeze(0).tolist())\n",
        "print(decoded_text)"
      ],
      "metadata": {
        "colab": {
          "base_uri": "https://localhost:8080/"
        },
        "id": "uevG3WtMv_Fj",
        "outputId": "65e5383e-df20-48af-c45b-6527fc023908"
      },
      "execution_count": 42,
      "outputs": [
        {
          "output_type": "stream",
          "name": "stdout",
          "text": [
            "Hello, I am Feature IT snowballProtect youngstersMu\n"
          ]
        }
      ]
    },
    {
      "cell_type": "markdown",
      "source": [
        "**result of model is not good because the weights are just random and it needs training now**"
      ],
      "metadata": {
        "id": "p7bJkJJVwlir"
      }
    },
    {
      "cell_type": "markdown",
      "source": [
        "# **using GPT to generate text**"
      ],
      "metadata": {
        "id": "D0_p583GzDZ0"
      }
    },
    {
      "cell_type": "code",
      "source": [
        "import torch\n",
        "\n",
        "GPT_CONFIG_124M = {\n",
        "    \"vocab_size\": 50257,    # Vocabulary size\n",
        "    \"context_length\": 256, # Context length\n",
        "    \"emb_dim\": 768,         # Embedding dimension\n",
        "    \"n_heads\": 12,          # Number of attention heads\n",
        "    \"n_layers\": 12,         # Number of layers\n",
        "    \"drop_rate\": 0.1,       # Dropout rate\n",
        "    \"qkv_bias\": False       # Query-Key-Value bias\n",
        "}\n",
        "\n",
        "\n",
        "model = GPTModel(GPT_CONFIG_124M)\n",
        "model.eval()"
      ],
      "metadata": {
        "colab": {
          "base_uri": "https://localhost:8080/"
        },
        "id": "4suENHwAweHb",
        "outputId": "48af00d8-7b02-4828-976e-591faff2ae1d"
      },
      "execution_count": 43,
      "outputs": [
        {
          "output_type": "execute_result",
          "data": {
            "text/plain": [
              "GPTModel(\n",
              "  (tok_emb): Embedding(50257, 768)\n",
              "  (pos_emb): Embedding(256, 768)\n",
              "  (drop_emb): Dropout(p=0.1, inplace=False)\n",
              "  (trf_blocks): Sequential(\n",
              "    (0): TransformerBlock(\n",
              "      (att): MultiHeadAttention(\n",
              "        (W_query): Linear(in_features=768, out_features=768, bias=False)\n",
              "        (W_key): Linear(in_features=768, out_features=768, bias=False)\n",
              "        (W_value): Linear(in_features=768, out_features=768, bias=False)\n",
              "        (out_proj): Linear(in_features=768, out_features=768, bias=True)\n",
              "        (dropout): Dropout(p=0.1, inplace=False)\n",
              "      )\n",
              "      (ff): FeedForward(\n",
              "        (layers): Sequential(\n",
              "          (0): Linear(in_features=768, out_features=3072, bias=True)\n",
              "          (1): GELU()\n",
              "          (2): Linear(in_features=3072, out_features=768, bias=True)\n",
              "        )\n",
              "      )\n",
              "      (norm1): LayerNorm()\n",
              "      (norm2): LayerNorm()\n",
              "      (drop_shortcut): Dropout(p=0.1, inplace=False)\n",
              "    )\n",
              "    (1): TransformerBlock(\n",
              "      (att): MultiHeadAttention(\n",
              "        (W_query): Linear(in_features=768, out_features=768, bias=False)\n",
              "        (W_key): Linear(in_features=768, out_features=768, bias=False)\n",
              "        (W_value): Linear(in_features=768, out_features=768, bias=False)\n",
              "        (out_proj): Linear(in_features=768, out_features=768, bias=True)\n",
              "        (dropout): Dropout(p=0.1, inplace=False)\n",
              "      )\n",
              "      (ff): FeedForward(\n",
              "        (layers): Sequential(\n",
              "          (0): Linear(in_features=768, out_features=3072, bias=True)\n",
              "          (1): GELU()\n",
              "          (2): Linear(in_features=3072, out_features=768, bias=True)\n",
              "        )\n",
              "      )\n",
              "      (norm1): LayerNorm()\n",
              "      (norm2): LayerNorm()\n",
              "      (drop_shortcut): Dropout(p=0.1, inplace=False)\n",
              "    )\n",
              "    (2): TransformerBlock(\n",
              "      (att): MultiHeadAttention(\n",
              "        (W_query): Linear(in_features=768, out_features=768, bias=False)\n",
              "        (W_key): Linear(in_features=768, out_features=768, bias=False)\n",
              "        (W_value): Linear(in_features=768, out_features=768, bias=False)\n",
              "        (out_proj): Linear(in_features=768, out_features=768, bias=True)\n",
              "        (dropout): Dropout(p=0.1, inplace=False)\n",
              "      )\n",
              "      (ff): FeedForward(\n",
              "        (layers): Sequential(\n",
              "          (0): Linear(in_features=768, out_features=3072, bias=True)\n",
              "          (1): GELU()\n",
              "          (2): Linear(in_features=3072, out_features=768, bias=True)\n",
              "        )\n",
              "      )\n",
              "      (norm1): LayerNorm()\n",
              "      (norm2): LayerNorm()\n",
              "      (drop_shortcut): Dropout(p=0.1, inplace=False)\n",
              "    )\n",
              "    (3): TransformerBlock(\n",
              "      (att): MultiHeadAttention(\n",
              "        (W_query): Linear(in_features=768, out_features=768, bias=False)\n",
              "        (W_key): Linear(in_features=768, out_features=768, bias=False)\n",
              "        (W_value): Linear(in_features=768, out_features=768, bias=False)\n",
              "        (out_proj): Linear(in_features=768, out_features=768, bias=True)\n",
              "        (dropout): Dropout(p=0.1, inplace=False)\n",
              "      )\n",
              "      (ff): FeedForward(\n",
              "        (layers): Sequential(\n",
              "          (0): Linear(in_features=768, out_features=3072, bias=True)\n",
              "          (1): GELU()\n",
              "          (2): Linear(in_features=3072, out_features=768, bias=True)\n",
              "        )\n",
              "      )\n",
              "      (norm1): LayerNorm()\n",
              "      (norm2): LayerNorm()\n",
              "      (drop_shortcut): Dropout(p=0.1, inplace=False)\n",
              "    )\n",
              "    (4): TransformerBlock(\n",
              "      (att): MultiHeadAttention(\n",
              "        (W_query): Linear(in_features=768, out_features=768, bias=False)\n",
              "        (W_key): Linear(in_features=768, out_features=768, bias=False)\n",
              "        (W_value): Linear(in_features=768, out_features=768, bias=False)\n",
              "        (out_proj): Linear(in_features=768, out_features=768, bias=True)\n",
              "        (dropout): Dropout(p=0.1, inplace=False)\n",
              "      )\n",
              "      (ff): FeedForward(\n",
              "        (layers): Sequential(\n",
              "          (0): Linear(in_features=768, out_features=3072, bias=True)\n",
              "          (1): GELU()\n",
              "          (2): Linear(in_features=3072, out_features=768, bias=True)\n",
              "        )\n",
              "      )\n",
              "      (norm1): LayerNorm()\n",
              "      (norm2): LayerNorm()\n",
              "      (drop_shortcut): Dropout(p=0.1, inplace=False)\n",
              "    )\n",
              "    (5): TransformerBlock(\n",
              "      (att): MultiHeadAttention(\n",
              "        (W_query): Linear(in_features=768, out_features=768, bias=False)\n",
              "        (W_key): Linear(in_features=768, out_features=768, bias=False)\n",
              "        (W_value): Linear(in_features=768, out_features=768, bias=False)\n",
              "        (out_proj): Linear(in_features=768, out_features=768, bias=True)\n",
              "        (dropout): Dropout(p=0.1, inplace=False)\n",
              "      )\n",
              "      (ff): FeedForward(\n",
              "        (layers): Sequential(\n",
              "          (0): Linear(in_features=768, out_features=3072, bias=True)\n",
              "          (1): GELU()\n",
              "          (2): Linear(in_features=3072, out_features=768, bias=True)\n",
              "        )\n",
              "      )\n",
              "      (norm1): LayerNorm()\n",
              "      (norm2): LayerNorm()\n",
              "      (drop_shortcut): Dropout(p=0.1, inplace=False)\n",
              "    )\n",
              "    (6): TransformerBlock(\n",
              "      (att): MultiHeadAttention(\n",
              "        (W_query): Linear(in_features=768, out_features=768, bias=False)\n",
              "        (W_key): Linear(in_features=768, out_features=768, bias=False)\n",
              "        (W_value): Linear(in_features=768, out_features=768, bias=False)\n",
              "        (out_proj): Linear(in_features=768, out_features=768, bias=True)\n",
              "        (dropout): Dropout(p=0.1, inplace=False)\n",
              "      )\n",
              "      (ff): FeedForward(\n",
              "        (layers): Sequential(\n",
              "          (0): Linear(in_features=768, out_features=3072, bias=True)\n",
              "          (1): GELU()\n",
              "          (2): Linear(in_features=3072, out_features=768, bias=True)\n",
              "        )\n",
              "      )\n",
              "      (norm1): LayerNorm()\n",
              "      (norm2): LayerNorm()\n",
              "      (drop_shortcut): Dropout(p=0.1, inplace=False)\n",
              "    )\n",
              "    (7): TransformerBlock(\n",
              "      (att): MultiHeadAttention(\n",
              "        (W_query): Linear(in_features=768, out_features=768, bias=False)\n",
              "        (W_key): Linear(in_features=768, out_features=768, bias=False)\n",
              "        (W_value): Linear(in_features=768, out_features=768, bias=False)\n",
              "        (out_proj): Linear(in_features=768, out_features=768, bias=True)\n",
              "        (dropout): Dropout(p=0.1, inplace=False)\n",
              "      )\n",
              "      (ff): FeedForward(\n",
              "        (layers): Sequential(\n",
              "          (0): Linear(in_features=768, out_features=3072, bias=True)\n",
              "          (1): GELU()\n",
              "          (2): Linear(in_features=3072, out_features=768, bias=True)\n",
              "        )\n",
              "      )\n",
              "      (norm1): LayerNorm()\n",
              "      (norm2): LayerNorm()\n",
              "      (drop_shortcut): Dropout(p=0.1, inplace=False)\n",
              "    )\n",
              "    (8): TransformerBlock(\n",
              "      (att): MultiHeadAttention(\n",
              "        (W_query): Linear(in_features=768, out_features=768, bias=False)\n",
              "        (W_key): Linear(in_features=768, out_features=768, bias=False)\n",
              "        (W_value): Linear(in_features=768, out_features=768, bias=False)\n",
              "        (out_proj): Linear(in_features=768, out_features=768, bias=True)\n",
              "        (dropout): Dropout(p=0.1, inplace=False)\n",
              "      )\n",
              "      (ff): FeedForward(\n",
              "        (layers): Sequential(\n",
              "          (0): Linear(in_features=768, out_features=3072, bias=True)\n",
              "          (1): GELU()\n",
              "          (2): Linear(in_features=3072, out_features=768, bias=True)\n",
              "        )\n",
              "      )\n",
              "      (norm1): LayerNorm()\n",
              "      (norm2): LayerNorm()\n",
              "      (drop_shortcut): Dropout(p=0.1, inplace=False)\n",
              "    )\n",
              "    (9): TransformerBlock(\n",
              "      (att): MultiHeadAttention(\n",
              "        (W_query): Linear(in_features=768, out_features=768, bias=False)\n",
              "        (W_key): Linear(in_features=768, out_features=768, bias=False)\n",
              "        (W_value): Linear(in_features=768, out_features=768, bias=False)\n",
              "        (out_proj): Linear(in_features=768, out_features=768, bias=True)\n",
              "        (dropout): Dropout(p=0.1, inplace=False)\n",
              "      )\n",
              "      (ff): FeedForward(\n",
              "        (layers): Sequential(\n",
              "          (0): Linear(in_features=768, out_features=3072, bias=True)\n",
              "          (1): GELU()\n",
              "          (2): Linear(in_features=3072, out_features=768, bias=True)\n",
              "        )\n",
              "      )\n",
              "      (norm1): LayerNorm()\n",
              "      (norm2): LayerNorm()\n",
              "      (drop_shortcut): Dropout(p=0.1, inplace=False)\n",
              "    )\n",
              "    (10): TransformerBlock(\n",
              "      (att): MultiHeadAttention(\n",
              "        (W_query): Linear(in_features=768, out_features=768, bias=False)\n",
              "        (W_key): Linear(in_features=768, out_features=768, bias=False)\n",
              "        (W_value): Linear(in_features=768, out_features=768, bias=False)\n",
              "        (out_proj): Linear(in_features=768, out_features=768, bias=True)\n",
              "        (dropout): Dropout(p=0.1, inplace=False)\n",
              "      )\n",
              "      (ff): FeedForward(\n",
              "        (layers): Sequential(\n",
              "          (0): Linear(in_features=768, out_features=3072, bias=True)\n",
              "          (1): GELU()\n",
              "          (2): Linear(in_features=3072, out_features=768, bias=True)\n",
              "        )\n",
              "      )\n",
              "      (norm1): LayerNorm()\n",
              "      (norm2): LayerNorm()\n",
              "      (drop_shortcut): Dropout(p=0.1, inplace=False)\n",
              "    )\n",
              "    (11): TransformerBlock(\n",
              "      (att): MultiHeadAttention(\n",
              "        (W_query): Linear(in_features=768, out_features=768, bias=False)\n",
              "        (W_key): Linear(in_features=768, out_features=768, bias=False)\n",
              "        (W_value): Linear(in_features=768, out_features=768, bias=False)\n",
              "        (out_proj): Linear(in_features=768, out_features=768, bias=True)\n",
              "        (dropout): Dropout(p=0.1, inplace=False)\n",
              "      )\n",
              "      (ff): FeedForward(\n",
              "        (layers): Sequential(\n",
              "          (0): Linear(in_features=768, out_features=3072, bias=True)\n",
              "          (1): GELU()\n",
              "          (2): Linear(in_features=3072, out_features=768, bias=True)\n",
              "        )\n",
              "      )\n",
              "      (norm1): LayerNorm()\n",
              "      (norm2): LayerNorm()\n",
              "      (drop_shortcut): Dropout(p=0.1, inplace=False)\n",
              "    )\n",
              "  )\n",
              "  (final_norm): LayerNorm()\n",
              "  (out_head): Linear(in_features=768, out_features=50257, bias=False)\n",
              ")"
            ]
          },
          "metadata": {},
          "execution_count": 43
        }
      ]
    },
    {
      "cell_type": "markdown",
      "source": [
        "we reduce context length only to 256 while orginal gpt-2 had 1024 tokens"
      ],
      "metadata": {
        "id": "2B_hMM5X4hem"
      }
    },
    {
      "cell_type": "code",
      "source": [
        "def text_to_token_ids(text,tokenizer):\n",
        "  encoded = tokenizer.encode(text,allowed_special = {\"<|endoftext|>\"})\n",
        "  encoded_tensor = torch.tensor(encoded).unsqueeze(0)\n",
        "\n",
        "  return encoded_tensor\n",
        "\n",
        "def token_ids_to_text(token_ids,tokenizer):\n",
        "  flat = token_ids.squeeze(0)\n",
        "  return tokenizer.decode(flat.tolist())\n",
        "\n",
        "start_context = \"Every effort moves you\"\n",
        "tokenizer = tiktoken.get_encoding(\"gpt2\")\n",
        "\n",
        "token_ids = generate_text_simple(\n",
        "    model = model,\n",
        "    idx  = text_to_token_ids(start_context,tokenizer),\n",
        "    max_new_tokens = 6,\n",
        "    context_size = GPT_CONFIG_124M[\"context_length\"]\n",
        ")\n",
        "\n",
        "print(\"Output text \\n\",token_ids_to_text(token_ids,tokenizer))"
      ],
      "metadata": {
        "colab": {
          "base_uri": "https://localhost:8080/"
        },
        "id": "_okqRCND4Vz5",
        "outputId": "60e952ff-5caa-447d-b332-1622a7c6c59b"
      },
      "execution_count": 44,
      "outputs": [
        {
          "output_type": "stream",
          "name": "stdout",
          "text": [
            "Output text \n",
            " Every effort moves youaunder STUD How Pwr respawn ONE\n"
          ]
        }
      ]
    },
    {
      "cell_type": "markdown",
      "source": [
        "Evertything working fine just need training becuase it's not giving good result"
      ],
      "metadata": {
        "id": "UJlFe9QR6ZyJ"
      }
    },
    {
      "cell_type": "markdown",
      "source": [
        "For model training we need loss function"
      ],
      "metadata": {
        "id": "tFbXayfB6fsw"
      }
    },
    {
      "cell_type": "code",
      "source": [
        "inputs = torch.tensor([[16833,3626,6100],    #[\"every effort moves\"]\n",
        "                       [40,1107,588]])       #[\"I really like\"]\n",
        "\n",
        "targets = torch.tensor([[3626,6100,345],    #[\"effort mvoes you\"]\n",
        "                        [1107,588,11311]])  #[\"really like choclate\"]\n"
      ],
      "metadata": {
        "id": "GM0OJI4i6Rr9"
      },
      "execution_count": 45,
      "outputs": []
    },
    {
      "cell_type": "code",
      "source": [
        "with torch.no_grad():\n",
        "  logits = model(inputs)\n",
        "\n",
        "probas = torch.softmax(logits ,dim = -1)    #probab of each token in vocab\n",
        "print(probas.shape)    #shape batch,num_token,vocab"
      ],
      "metadata": {
        "colab": {
          "base_uri": "https://localhost:8080/"
        },
        "id": "-UD7qp477BKO",
        "outputId": "bd1a0d1f-eb36-49d7-90b2-8ad89dbb3812"
      },
      "execution_count": 46,
      "outputs": [
        {
          "output_type": "stream",
          "name": "stdout",
          "text": [
            "torch.Size([2, 3, 50257])\n"
          ]
        }
      ]
    },
    {
      "cell_type": "markdown",
      "source": [],
      "metadata": {
        "id": "L-16PlnKICHJ"
      }
    },
    {
      "cell_type": "code",
      "source": [
        "token_ids = torch.argmax(probas,dim =-1,keepdim = True)\n",
        "print(\"Token IDs:\\n\",token_ids)"
      ],
      "metadata": {
        "colab": {
          "base_uri": "https://localhost:8080/"
        },
        "id": "GlqkbLXI7dgN",
        "outputId": "ec66f6f0-c76a-4bcd-8fc5-28083d5a587b"
      },
      "execution_count": 47,
      "outputs": [
        {
          "output_type": "stream",
          "name": "stdout",
          "text": [
            "Token IDs:\n",
            " tensor([[[45502],\n",
            "         [35535],\n",
            "         [16263]],\n",
            "\n",
            "        [[ 3693],\n",
            "         [38945],\n",
            "         [49908]]])\n"
          ]
        }
      ]
    },
    {
      "cell_type": "markdown",
      "source": [],
      "metadata": {
        "id": "Ts0kTVqGIbeD"
      }
    },
    {
      "cell_type": "markdown",
      "source": [
        "**DEcode token ides** and it's not preoducing good results, so to train we need to find how much wrong answer it's giving or far far it is from correct predictions"
      ],
      "metadata": {
        "id": "P4IiS1GBIW27"
      }
    },
    {
      "cell_type": "code",
      "source": [
        "print(f\"Targets batch 1:,{token_ids_to_text(targets[0],tokenizer)}\")\n",
        "print(f\"Outputs batch 1:,{token_ids_to_text(token_ids[0].flatten(),tokenizer)}\")"
      ],
      "metadata": {
        "id": "akLLFoAYISsk",
        "outputId": "bb94520b-1c05-4ef4-98af-0da7e8f03d60",
        "colab": {
          "base_uri": "https://localhost:8080/"
        }
      },
      "execution_count": 49,
      "outputs": [
        {
          "output_type": "stream",
          "name": "stdout",
          "text": [
            "Targets batch 1:, effort moves you\n",
            "Outputs batch 1:, Garage Foley Obviously\n"
          ]
        }
      ]
    },
    {
      "cell_type": "markdown",
      "source": [
        "****let's calculate cross entorpy****\n",
        "\n",
        "s1: logits\n",
        "\n",
        "s2:probabilities(will use sfotmax+argmax)\n",
        "\n",
        "s3:Target probabilites\n",
        "\n",
        "\n",
        "s4:log probabilities\n",
        "\n",
        "s5:Avg log probabiliti\n",
        "\n",
        "\n",
        "s6:negative avg log probab"
      ],
      "metadata": {
        "id": "Xh9vi6bnJJOV"
      }
    },
    {
      "cell_type": "code",
      "source": [
        "text_idx = 0\n",
        "target_probas_1 = probas[text_idx,[0,1,2],targets[text_idx]]\n",
        "print(\"Text 1:\",target_probas_1)\n",
        "\n",
        "text_idx =1\n",
        "target_probas_2 = probas[text_idx,[0,1,2],targets[text_idx]]\n",
        "\n",
        "print(\"Text 2:\",target_probas_2)"
      ],
      "metadata": {
        "id": "onYjTuZEI4Sz",
        "outputId": "edb00982-88d7-4604-861e-3b769006cfc3",
        "colab": {
          "base_uri": "https://localhost:8080/"
        }
      },
      "execution_count": 53,
      "outputs": [
        {
          "output_type": "stream",
          "name": "stdout",
          "text": [
            "Text 1: tensor([1.5088e-05, 2.7362e-05, 3.6141e-05])\n",
            "Text 2: tensor([2.4204e-05, 8.1310e-06, 1.8705e-05])\n"
          ]
        }
      ]
    },
    {
      "cell_type": "code",
      "source": [
        " #compute log of all tokens\n",
        "log_probas = torch.log(torch.cat((target_probas_1,target_probas_2)))\n",
        "print(log_probas)\n",
        "\n",
        "\n",
        "\n",
        "#ccompute avg. log probab\n",
        "avg_log_probas = torch.mean(log_probas)\n",
        "print(avg_log_probas)"
      ],
      "metadata": {
        "id": "a3Tkk-MHLc5y",
        "outputId": "cf487043-8524-4365-9958-7faff11da578",
        "colab": {
          "base_uri": "https://localhost:8080/"
        }
      },
      "execution_count": 55,
      "outputs": [
        {
          "output_type": "stream",
          "name": "stdout",
          "text": [
            "tensor([-11.1016, -10.5063, -10.2281, -10.6290, -11.7198, -10.8867])\n",
            "tensor(-10.8453)\n"
          ]
        }
      ]
    },
    {
      "cell_type": "code",
      "source": [
        "neg_avg_log_probas = avg_log_probas*1\n",
        "print(neg_avg_log_probas)"
      ],
      "metadata": {
        "id": "DhfMcA18MkAm",
        "outputId": "26c22a70-baee-4b1b-fd55-640288807cbc",
        "colab": {
          "base_uri": "https://localhost:8080/"
        }
      },
      "execution_count": 56,
      "outputs": [
        {
          "output_type": "stream",
          "name": "stdout",
          "text": [
            "tensor(-10.8453)\n"
          ]
        }
      ]
    },
    {
      "cell_type": "markdown",
      "source": [
        "succesfully implmeneted this,now we'll use pytorch cross entorypy"
      ],
      "metadata": {
        "id": "G7h_ukp_NHqU"
      }
    },
    {
      "cell_type": "code",
      "source": [
        "logits_flat = logits.flatten(0,1)\n",
        "target_flat = targets.flatten()\n",
        "\n",
        "print(\"Falttened logits:\",logits_flat.shape)\n",
        "print(\"Flattened logits:\",target_flat.shape)"
      ],
      "metadata": {
        "id": "UIQLI11fM7VS",
        "outputId": "b950cf96-590e-4937-b22b-5285c6d200f0",
        "colab": {
          "base_uri": "https://localhost:8080/"
        }
      },
      "execution_count": 60,
      "outputs": [
        {
          "output_type": "stream",
          "name": "stdout",
          "text": [
            "Falttened logits: torch.Size([6, 50257])\n",
            "Flattened logits: torch.Size([6])\n"
          ]
        }
      ]
    },
    {
      "cell_type": "code",
      "source": [
        "loss = torch.nn.functional.cross_entropy(logits_flat,target_flat)\n",
        "print(loss)"
      ],
      "metadata": {
        "id": "nYZq8FOlNgw8",
        "outputId": "8b800e3a-6415-4f21-b0e2-1cac97687491",
        "colab": {
          "base_uri": "https://localhost:8080/"
        }
      },
      "execution_count": 61,
      "outputs": [
        {
          "output_type": "stream",
          "name": "stdout",
          "text": [
            "tensor(10.8453)\n"
          ]
        }
      ]
    },
    {
      "cell_type": "markdown",
      "source": [
        "#**Perplexity** little modifcation of cross entory used in llms perplexity=exponent(cross_entorypy_loss)  \n",
        "\n",
        "so if our loss is 48725 means  we had total 50527 toekns now our llm have to pick token randomly from 48725 which is very bad if it's 2 then it's really good our model is accurate"
      ],
      "metadata": {
        "id": "frUDRUP4N46r"
      }
    },
    {
      "cell_type": "code",
      "source": [
        "perplexity = torch.exp(loss)\n",
        "print(perplexity)"
      ],
      "metadata": {
        "id": "edk7ehd9NqJk",
        "outputId": "661a9720-931c-410b-80a7-2cee2aa2cae6",
        "colab": {
          "base_uri": "https://localhost:8080/"
        }
      },
      "execution_count": 62,
      "outputs": [
        {
          "output_type": "stream",
          "name": "stdout",
          "text": [
            "tensor(51290.8789)\n"
          ]
        }
      ]
    },
    {
      "cell_type": "markdown",
      "source": [
        "# We'll use smaller dataset because it'll take time to train"
      ],
      "metadata": {
        "id": "IF8z7g4naaWG"
      }
    },
    {
      "cell_type": "code",
      "source": [
        "import os\n",
        "import urllib.request\n",
        "\n",
        "file_path = \"the-verdict.txt\"\n",
        "url = \"https://github.com/rasbt/LLMs-from-scratch/blob/main/ch02/01_main-chapter-code/the-verdict.txt\"\n",
        "\n",
        "\n",
        "if not os.path.exists(file_path):\n",
        "  with urllib.request.urlopen(url) as response:\n",
        "    text_data = response.read().decode(\"utf-8\")\n",
        "\n",
        "  with open(file_path,\"w\",encoding=\"utf-8\") as f:\n",
        "    f.write(text_data)\n",
        "else:\n",
        "  with open(file_path,\"r\",encoding=\"utf-8\") as f:\n",
        "    text_data = f.read()\n"
      ],
      "metadata": {
        "id": "A7PIlXcrO5Hh"
      },
      "execution_count": 63,
      "outputs": []
    },
    {
      "cell_type": "code",
      "source": [
        "print([text_data[:99]])"
      ],
      "metadata": {
        "id": "WSZJVqn2bOMe",
        "outputId": "e3d1c511-3e16-48e4-8ada-de83063e4144",
        "colab": {
          "base_uri": "https://localhost:8080/"
        }
      },
      "execution_count": 65,
      "outputs": [
        {
          "output_type": "stream",
          "name": "stdout",
          "text": [
            "['\\n\\n\\n\\n\\n\\n<!DOCTYPE html>\\n<html\\n  lang=\"en\"\\n  \\n  data-color-mode=\"auto\" data-light-theme=\"light\" data-d']\n"
          ]
        }
      ]
    },
    {
      "cell_type": "code",
      "source": [
        "text_data = \"\"\"I HAD always thought Jack Gisburn rather a cheap genius--though a good fellow enough--so it was no great surprise to me to hear that, in the height of his glory, he had dropped his painting, married a rich widow, and established himself in a villa on the Riviera. (Though I rather thought it would have been Rome or Florence.)\n",
        "\n",
        "\"The height of his glory\"--that was what the women called it. I can hear Mrs. Gideon Thwing--his last Chicago sitter--deploring his unaccountable abdication. \"Of course it's going to send the value of my picture 'way up; but I don't think of that, Mr. Rickham--the loss to Arrt is all I think of.\" The word, on Mrs. Thwing's lips, multiplied its _rs_ as though they were reflected in an endless vista of mirrors. And it was not only the Mrs. Thwings who mourned. Had not the exquisite Hermia Croft, at the last Grafton Gallery show, stopped me before Gisburn's \"Moon-dancers\" to say, with tears in her eyes: \"We shall not look upon its like again\"?\n",
        "\n",
        "Well!--even through the prism of Hermia's tears I felt able to face the fact with equanimity. Poor Jack Gisburn! The women had made him--it was fitting that they should mourn him. Among his own sex fewer regrets were heard, and in his own trade hardly a murmur. Professional jealousy? Perhaps. If it were, the honour of the craft was vindicated by little Claude Nutley, who, in all good faith, brought out in the Burlington a very handsome \"obituary\" on Jack--one of those showy articles stocked with random technicalities that I have heard (I won't say by whom) compared to Gisburn's painting. And so--his resolve being apparently irrevocable--the discussion gradually died out, and, as Mrs. Thwing had predicted, the price of \"Gisburns\" went up.\n",
        "\n",
        "It was not till three years later that, in the course of a few weeks' idling on the Riviera, it suddenly occurred to me to wonder why Gisburn had given up his painting. On reflection, it really was a tempting problem. To accuse his wife would have been too easy--his fair sitters had been denied the solace of saying that Mrs. Gisburn had \"dragged him down.\" For Mrs. Gisburn--as such--had not existed till nearly a year after Jack's resolve had been taken. It might be that he had married her--since he liked his ease--because he didn't want to go on painting; but it would have been hard to prove that he had given up his painting because he had married her.\n",
        "\n",
        "Of course, if she had not dragged him down, she had equally, as Miss Croft contended, failed to \"lift him up\"--she had not led him back to the easel. To put the brush into his hand again--what a vocation for a wife! But Mrs. Gisburn appeared to have disdained it--and I felt it might be interesting to find out why.\n",
        "\n",
        "The desultory life of the Riviera lends itself to such purely academic speculations; and having, on my way to Monte Carlo, caught a glimpse of Jack's balustraded terraces between the pines, I had myself borne thither the next day.\n",
        "\n",
        "I found the couple at tea beneath their palm-trees; and Mrs. Gisburn's welcome was so genial that, in the ensuing weeks, I claimed it frequently. It was not that my hostess was \"interesting\": on that point I could have given Miss Croft the fullest reassurance. It was just because she was _not_ interesting--if I may be pardoned the bull--that I found her so. For Jack, all his life, had been surrounded by interesting women: they had fostered his art, it had been reared in the hot-house of their adulation. And it was therefore instructive to note what effect the \"deadening atmosphere of mediocrity\" (I quote Miss Croft) was having on him.\n",
        "\n",
        "I have mentioned that Mrs. Gisburn was rich; and it was immediately perceptible that her husband was extracting from this circumstance a delicate but substantial satisfaction. It is, as a rule, the people who scorn money who get most out of it; and Jack's elegant disdain of his wife's big balance enabled him, with an appearance of perfect good-breeding, to transmute it into objects of art and luxury. To the latter, I must add, he remained relatively indifferent; but he was buying Renaissance bronzes and eighteenth-century pictures with a discrimination that bespoke the amplest resources.\n",
        "\n",
        "\"Money's only excuse is to put beauty into circulation,\" was one of the axioms he laid down across the Sevres and silver of an exquisitely appointed luncheon-table, when, on a later day, I had again run over from Monte Carlo; and Mrs. Gisburn, beaming on him, added for my enlightenment: \"Jack is so morbidly sensitive to every form of beauty.\"\n",
        "\n",
        "Poor Jack! It had always been his fate to have women say such things of him: the fact should be set down in extenuation. What struck me now was that, for the first time, he resented the tone. I had seen him, so often, basking under similar tributes--was it the conjugal note that robbed them of their savour? No--for, oddly enough, it became apparent that he was fond of Mrs. Gisburn--fond enough not to see her absurdity. It was his own absurdity he seemed to be wincing under--his own attitude as an object for garlands and incense.\n",
        "\n",
        "\"My dear, since I've chucked painting people don't say that stuff about me--they say it about Victor Grindle,\" was his only protest, as he rose from the table and strolled out onto the sunlit terrace.\n",
        "\n",
        "I glanced after him, struck by his last word. Victor Grindle was, in fact, becoming the man of the moment--as Jack himself, one might put it, had been the man of the hour. The younger artist was said to have formed himself at my friend's feet, and I wondered if a tinge of jealousy underlay the latter's mysterious abdication. But no--for it was not till after that event that the _rose Dubarry_ drawing-rooms had begun to display their \"Grindles.\"\n",
        "\n",
        "I turned to Mrs. Gisburn, who had lingered to give a lump of sugar to her spaniel in the dining-room.\n",
        "\n",
        "\"Why _has_ he chucked painting?\" I asked abruptly.\n",
        "\n",
        "She raised her eyebrows with a hint of good-humoured surprise.\n",
        "\n",
        "\"Oh, he doesn't _have_ to now, you know; and I want him to enjoy himself,\" she said quite simply.\n",
        "\n",
        "I looked about the spacious white-panelled room, with its _famille-verte_ vases repeating the tones of the pale damask curtains, and its eighteenth-century pastels in delicate faded frames.\n",
        "\n",
        "\"Has he chucked his pictures too? I haven't seen a single one in the house.\"\n",
        "\n",
        "A slight shade of constraint crossed Mrs. Gisburn's open countenance. \"It's his ridiculous modesty, you know. He says they're not fit to have about; he's sent them all away except one--my portrait--and that I have to keep upstairs.\"\n",
        "\n",
        "His ridiculous modesty--Jack's modesty about his pictures? My curiosity was growing like the bean-stalk. I said persuasively to my hostess: \"I must really see your portrait, you know.\"\n",
        "\n",
        "She glanced out almost timorously at the terrace where her husband, lounging in a hooded chair, had lit a cigar and drawn the Russian deerhound's head between his knees.\n",
        "\n",
        "\"Well, come while he's not looking,\" she said, with a laugh that tried to hide her nervousness; and I followed her between the marble Emperors of the hall, and up the wide stairs with terra-cotta nymphs poised among flowers at each landing.\n",
        "\n",
        "In the dimmest corner of her boudoir, amid a profusion of delicate and distinguished objects, hung one of the familiar oval canvases, in the inevitable garlanded frame. The mere outline of the frame called up all Gisburn's past!\n",
        "\n",
        "Mrs. Gisburn drew back the window-curtains, moved aside a _jardiniere_ full of pink azaleas, pushed an arm-chair away, and said: \"If you stand here you can just manage to see it. I had it over the mantel-piece, but he wouldn't let it stay.\"\n",
        "\n",
        "Yes--I could just manage to see it--the first portrait of Jack's I had ever had to strain my eyes over! Usually they had the place of honour--say the central panel in a pale yellow or _rose Dubarry_ drawing-room, or a monumental easel placed so that it took the light through curtains of old Venetian point. The more modest place became the picture better; yet, as my eyes grew accustomed to the half-light, all the characteristic qualities came out--all the hesitations disguised as audacities, the tricks of prestidigitation by which, with such consummate skill, he managed to divert attention from the real business of the picture to some pretty irrelevance of detail. Mrs. Gisburn, presenting a neutral surface to work on--forming, as it were, so inevitably the background of her own picture--had lent herself in an unusual degree to the display of this false virtuosity. The picture was one of Jack's \"strongest,\" as his admirers would have put it--it represented, on his part, a swelling of muscles, a congesting of veins, a balancing, straddling and straining, that reminded one of the circus-clown's ironic efforts to lift a feather. It met, in short, at every point the demand of lovely woman to be painted \"strongly\" because she was tired of being painted \"sweetly\"--and yet not to lose an atom of the sweetness.\n",
        "\n",
        "\"It's the last he painted, you know,\" Mrs. Gisburn said with pardonable pride. \"The last but one,\" she corrected herself--\"but the other doesn't count, because he destroyed it.\"\n",
        "\n",
        "\"Destroyed it?\" I was about to follow up this clue when I heard a footstep and saw Jack himself on the threshold.\n",
        "\n",
        "As he stood there, his hands in the pockets of his velveteen coat, the thin brown waves of hair pushed back from his white forehead, his lean sunburnt cheeks furrowed by a smile that lifted the tips of a self-confident moustache, I felt to what a degree he had the same quality as his pictures--the quality of looking cleverer than he was.\n",
        "\n",
        "His wife glanced at him deprecatingly, but his eyes travelled past her to the portrait.\n",
        "\n",
        "\"Mr. Rickham wanted to see it,\" she began, as if excusing herself. He shrugged his shoulders, still smiling.\n",
        "\n",
        "\"Oh, Rickham found me out long ago,\" he said lightly; then, passing his arm through mine: \"Come and see the rest of the house.\"\n",
        "\n",
        "He showed it to me with a kind of naive suburban pride: the bath-rooms, the speaking-tubes, the dress-closets, the trouser-presses--all the complex simplifications of the millionaire's domestic economy. And whenever my wonder paid the expected tribute he said, throwing out his chest a little: \"Yes, I really don't see how people manage to live without that.\"\n",
        "\n",
        "Well--it was just the end one might have foreseen for him. Only he was, through it all and in spite of it all--as he had been through, and in spite of, his pictures--so handsome, so charming, so disarming, that one longed to cry out: \"Be dissatisfied with your leisure!\" as once one had longed to say: \"Be dissatisfied with your work!\"\n",
        "\n",
        "But, with the cry on my lips, my diagnosis suffered an unexpected check.\n",
        "\n",
        "\"This is my own lair,\" he said, leading me into a dark plain room at the end of the florid vista. It was square and brown and leathery: no \"effects\"; no bric-a-brac, none of the air of posing for reproduction in a picture weekly--above all, no least sign of ever having been used as a studio.\n",
        "\n",
        "The fact brought home to me the absolute finality of Jack's break with his old life.\n",
        "\n",
        "\"Don't you ever dabble with paint any more?\" I asked, still looking about for a trace of such activity.\n",
        "\n",
        "\"Never,\" he said briefly.\n",
        "\n",
        "\"Or water-colour--or etching?\"\n",
        "\n",
        "His confident eyes grew dim, and his cheeks paled a little under their handsome sunburn.\n",
        "\n",
        "\"Never think of it, my dear fellow--any more than if I'd never touched a brush.\"\n",
        "\n",
        "And his tone told me in a flash that he never thought of anything else.\n",
        "\n",
        "I moved away, instinctively embarrassed by my unexpected discovery; and as I turned, my eye fell on a small picture above the mantel-piece--the only object breaking the plain oak panelling of the room.\n",
        "\n",
        "\"Oh, by Jove!\" I said.\n",
        "\n",
        "It was a sketch of a donkey--an old tired donkey, standing in the rain under a wall.\n",
        "\n",
        "\"By Jove--a Stroud!\" I cried.\n",
        "\n",
        "He was silent; but I felt him close behind me, breathing a little quickly.\n",
        "\n",
        "\"What a wonder! Made with a dozen lines--but on everlasting foundations. You lucky chap, where did you get it?\"\n",
        "\n",
        "He answered slowly: \"Mrs. Stroud gave it to me.\"\n",
        "\n",
        "\"Ah--I didn't know you even knew the Strouds. He was such an inflexible hermit.\"\n",
        "\n",
        "\"I didn't--till after. . . . She sent for me to paint him when he was dead.\"\n",
        "\n",
        "\"When he was dead? You?\"\n",
        "\n",
        "I must have let a little too much amazement escape through my surprise, for he answered with a deprecating laugh: \"Yes--she's an awful simpleton, you know, Mrs. Stroud. Her only idea was to have him done by a fashionable painter--ah, poor Stroud! She thought it the surest way of proclaiming his greatness--of forcing it on a purblind public. And at the moment I was _the_ fashionable painter.\"\n",
        "\n",
        "\"Ah, poor Stroud--as you say. Was _that_ his history?\"\n",
        "\n",
        "\"That was his history. She believed in him, gloried in him--or thought she did. But she couldn't bear not to have all the drawing-rooms with her. She couldn't bear the fact that, on varnishing days, one could always get near enough to see his pictures. Poor woman! She's just a fragment groping for other fragments. Stroud is the only whole I ever knew.\"\n",
        "\n",
        "\"You ever knew? But you just said--\"\n",
        "\n",
        "Gisburn had a curious smile in his eyes.\n",
        "\n",
        "\"Oh, I knew him, and he knew me--only it happened after he was dead.\"\n",
        "\n",
        "I dropped my voice instinctively. \"When she sent for you?\"\n",
        "\n",
        "\"Yes--quite insensible to the irony. She wanted him vindicated--and by me!\"\n",
        "\n",
        "He laughed again, and threw back his head to look up at the sketch of the donkey. \"There were days when I couldn't look at that thing--couldn't face it. But I forced myself to put it here; and now it's cured me--cured me. That's the reason why I don't dabble any more, my dear Rickham; or rather Stroud himself is the reason.\"\n",
        "\n",
        "For the first time my idle curiosity about my companion turned into a serious desire to understand him better.\n",
        "\n",
        "\"I wish you'd tell me how it happened,\" I said.\n",
        "\n",
        "He stood looking up at the sketch, and twirling between his fingers a cigarette he had forgotten to light. Suddenly he turned toward me.\n",
        "\n",
        "\"I'd rather like to tell you--because I've always suspected you of loathing my work.\"\n",
        "\n",
        "I made a deprecating gesture, which he negatived with a good-humoured shrug.\n",
        "\n",
        "\"Oh, I didn't care a straw when I believed in myself--and now it's an added tie between us!\"\n",
        "\n",
        "He laughed slightly, without bitterness, and pushed one of the deep arm-chairs forward. \"There: make yourself comfortable--and here are the cigars you like.\"\n",
        "\n",
        "He placed them at my elbow and continued to wander up and down the room, stopping now and then beneath the picture.\n",
        "\n",
        "\"How it happened? I can tell you in five minutes--and it didn't take much longer to happen. . . . I can remember now how surprised and pleased I was when I got Mrs. Stroud's note. Of course, deep down, I had always _felt_ there was no one like him--only I had gone with the stream, echoed the usual platitudes about him, till I half got to think he was a failure, one of the kind that are left behind. By Jove, and he _was_ left behind--because he had come to stay! The rest of us had to let ourselves be swept along or go under, but he was high above the current--on everlasting foundations, as you say.\n",
        "\n",
        "\"Well, I went off to the house in my most egregious mood--rather moved, Lord forgive me, at the pathos of poor Stroud's career of failure being crowned by the glory of my painting him! Of course I meant to do the picture for nothing--I told Mrs. Stroud so when she began to stammer something about her poverty. I remember getting off a prodigious phrase about the honour being _mine_--oh, I was princely, my dear Rickham! I was posing to myself like one of my own sitters.\n",
        "\n",
        "\"Then I was taken up and left alone with him. I had sent all my traps in advance, and I had only to set up the easel and get to work. He had been dead only twenty-four hours, and he died suddenly, of heart disease, so that there had been no preliminary work of destruction--his face was clear and untouched. I had met him once or twice, years before, and thought him insignificant and dingy. Now I saw that he was superb.\n",
        "\n",
        "\"I was glad at first, with a merely aesthetic satisfaction: glad to have my hand on such a 'subject.' Then his strange life-likeness began to affect me queerly--as I blocked the head in I felt as if he were watching me do it. The sensation was followed by the thought: if he _were_ watching me, what would he say to my way of working? My strokes began to go a little wild--I felt nervous and uncertain.\n",
        "\n",
        "\"Once, when I looked up, I seemed to see a smile behind his close grayish beard--as if he had the secret, and were amusing himself by holding it back from me. That exasperated me still more. The secret? Why, I had a secret worth twenty of his! I dashed at the canvas furiously, and tried some of my bravura tricks. But they failed me, they crumbled. I saw that he wasn't watching the showy bits--I couldn't distract his attention; he just kept his eyes on the hard passages between. Those were the ones I had always shirked, or covered up with some lying paint. And how he saw through my lies!\n",
        "\n",
        "\"I looked up again, and caught sight of that sketch of the donkey hanging on the wall near his bed. His wife told me afterward it was the last thing he had done--just a note taken with a shaking hand, when he was down in Devonshire recovering from a previous heart attack. Just a note! But it tells his whole history. There are years of patient scornful persistence in every line. A man who had swum with the current could never have learned that mighty up-stream stroke. . . .\n",
        "\n",
        "\"I turned back to my work, and went on groping and muddling; then I looked at the donkey again. I saw that, when Stroud laid in the first stroke, he knew just what the end would be. He had possessed his subject, absorbed it, recreated it. When had I done that with any of my things? They hadn't been born of me--I had just adopted them. . . .\n",
        "\n",
        "\"Hang it, Rickham, with that face watching me I couldn't do another stroke. The plain truth was, I didn't know where to put it--_I had never known_. Only, with my sitters and my public, a showy splash of colour covered up the fact--I just threw paint into their faces. . . . Well, paint was the one medium those dead eyes could see through--see straight to the tottering foundations underneath. Don't you know how, in talking a foreign language, even fluently, one says half the time not what one wants to but what one can? Well--that was the way I painted; and as he lay there and watched me, the thing they called my 'technique' collapsed like a house of cards. He didn't sneer, you understand, poor Stroud--he just lay there quietly watching, and on his lips, through the gray beard, I seemed to hear the question: 'Are you sure you know where you're coming out?'\n",
        "\n",
        "\"If I could have painted that face, with that question on it, I should have done a great thing. The next greatest thing was to see that I couldn't--and that grace was given me. But, oh, at that minute, Rickham, was there anything on earth I wouldn't have given to have Stroud alive before me, and to hear him say: 'It's not too late--I'll show you how'?\n",
        "\n",
        "\"It _was_ too late--it would have been, even if he'd been alive. I packed up my traps, and went down and told Mrs. Stroud. Of course I didn't tell her _that_--it would have been Greek to her. I simply said I couldn't paint him, that I was too moved. She rather liked the idea--she's so romantic! It was that that made her give me the donkey. But she was terribly upset at not getting the portrait--she did so want him 'done' by some one showy! At first I was afraid she wouldn't let me off--and at my wits' end I suggested Grindle. Yes, it was I who started Grindle: I told Mrs. Stroud he was the 'coming' man, and she told somebody else, and so it got to be true. . . . And he painted Stroud without wincing; and she hung the picture among her husband's things. . . .\"\n",
        "\n",
        "He flung himself down in the arm-chair near mine, laid back his head, and clasping his arms beneath it, looked up at the picture above the chimney-piece.\n",
        "\n",
        "\"I like to fancy that Stroud himself would have given it to me, if he'd been able to say what he thought that day.\"\n",
        "\n",
        "And, in answer to a question I put half-mechanically--\"Begin again?\" he flashed out. \"When the one thing that brings me anywhere near him is that I knew enough to leave off?\"\n",
        "\n",
        "He stood up and laid his hand on my shoulder with a laugh. \"Only the irony of it is that I _am_ still painting--since Grindle's doing it for me! The Strouds stand alone, and happen once--but there's no exterminating our kind of art.\"\"\""
      ],
      "metadata": {
        "id": "y-kX-yd9bXmM"
      },
      "execution_count": 68,
      "outputs": []
    },
    {
      "cell_type": "code",
      "source": [
        "text_data[:99]"
      ],
      "metadata": {
        "id": "aRCLDx5NcEAM",
        "outputId": "5f4980ad-1ee9-4037-8fae-4cb6e50d17c6",
        "colab": {
          "base_uri": "https://localhost:8080/",
          "height": 35
        }
      },
      "execution_count": 70,
      "outputs": [
        {
          "output_type": "execute_result",
          "data": {
            "text/plain": [
              "'I HAD always thought Jack Gisburn rather a cheap genius--though a good fellow enough--so it was no '"
            ],
            "application/vnd.google.colaboratory.intrinsic+json": {
              "type": "string"
            }
          },
          "metadata": {},
          "execution_count": 70
        }
      ]
    },
    {
      "cell_type": "code",
      "source": [
        "total_characters = len(text_data)\n",
        "total_tokens = len(tokenizer.encode(text_data))\n",
        "\n",
        "print(\"Characters :\",total_characters)\n",
        "print(\"Tokens :\",total_tokens)"
      ],
      "metadata": {
        "id": "r3qbEZ35cQXs",
        "outputId": "fde4768e-9b4d-43b3-9140-4b522d7e6e65",
        "colab": {
          "base_uri": "https://localhost:8080/"
        }
      },
      "execution_count": 71,
      "outputs": [
        {
          "output_type": "stream",
          "name": "stdout",
          "text": [
            "Characters : 20478\n",
            "Tokens : 5145\n"
          ]
        }
      ]
    },
    {
      "cell_type": "markdown",
      "source": [
        "#dataset is small but enough for learning"
      ],
      "metadata": {
        "id": "wfPVwlsrdvHX"
      }
    },
    {
      "cell_type": "code",
      "source": [],
      "metadata": {
        "id": "CUOeW_KMduC2"
      },
      "execution_count": null,
      "outputs": []
    },
    {
      "cell_type": "code",
      "source": [
        "import tiktoken\n",
        "\n",
        "def text_to_token_ids(text,tokenizer):\n",
        "  encoded = tokenizer.encode(text,allowed_special = {\"<|endoftext|>\"})\n",
        "  encoded_tensor = torch.tensor(encoded).unsqueeze(0)\n",
        "\n",
        "  return encoded_tensor\n",
        "\n",
        "\n",
        "def token_ids_to_text(token_ids,tokenizer):\n",
        "  flat = token_ids.squeeze(0)\n",
        "  return tokenizer.decode(flat.tolist())\n",
        "\n",
        "\n",
        "start_context = \"Every effort moves you\"\n",
        "\n",
        "tokenizer = tiktoken.get_encoding(\"gpt2\")\n",
        "\n",
        "token_ids = generate_text_simple(\n",
        "    model = model,\n",
        "    idx = text_to_token_ids(start_context,tokenizer),\n",
        "    max_new_tokens = 6,\n",
        "    context_size = GPT_CONFIG_124M[\"context_length\"]\n",
        ")\n",
        "\n",
        "print(\"Output text \\n\",token_ids_to_text(token_ids,tokenizer))\n",
        "\n"
      ],
      "metadata": {
        "id": "ub2xfFuOcqEe",
        "outputId": "9a17a0ce-ed9c-4539-e602-4c5612e7a19b",
        "colab": {
          "base_uri": "https://localhost:8080/"
        }
      },
      "execution_count": 73,
      "outputs": [
        {
          "output_type": "stream",
          "name": "stdout",
          "text": [
            "Output text \n",
            " Every effort moves youaunder STUD How Pwr respawn ONE\n"
          ]
        }
      ]
    },
    {
      "cell_type": "code",
      "source": [
        "from torch.utils.data import Dataset, DataLoader\n",
        "\n",
        "\n",
        "class GPTDatasetV1(Dataset):\n",
        "    def __init__(self, txt, tokenizer, max_length, stride):\n",
        "        self.input_ids = []\n",
        "        self.target_ids = []\n",
        "\n",
        "        # Tokenize the entire text\n",
        "        token_ids = tokenizer.encode(txt, allowed_special={\"<|endoftext|>\"})\n",
        "\n",
        "        # Use a sliding window to chunk the book into overlapping sequences of max_length\n",
        "        for i in range(0, len(token_ids) - max_length, stride):\n",
        "            input_chunk = token_ids[i:i + max_length]\n",
        "            target_chunk = token_ids[i + 1: i + max_length + 1]\n",
        "            self.input_ids.append(torch.tensor(input_chunk))\n",
        "            self.target_ids.append(torch.tensor(target_chunk))\n",
        "\n",
        "    def __len__(self):\n",
        "        return len(self.input_ids)\n",
        "\n",
        "    def __getitem__(self, idx):\n",
        "        return self.input_ids[idx], self.target_ids[idx]\n",
        "\n",
        "\n",
        "def create_dataloader_v1(txt, batch_size=4, max_length=256,\n",
        "                         stride=128, shuffle=True, drop_last=True,\n",
        "                         num_workers=0):\n",
        "\n",
        "    # Initialize the tokenizer\n",
        "    tokenizer = tiktoken.get_encoding(\"gpt2\")\n",
        "\n",
        "    # Create dataset\n",
        "    dataset = GPTDatasetV1(txt, tokenizer, max_length, stride)\n",
        "\n",
        "    # Create dataloader\n",
        "    dataloader = DataLoader(\n",
        "        dataset,\n",
        "        batch_size=batch_size,\n",
        "        shuffle=shuffle,\n",
        "        drop_last=drop_last,\n",
        "        num_workers=num_workers\n",
        "    )\n",
        "\n",
        "    return dataloader"
      ],
      "metadata": {
        "id": "70UB4flQdc8G"
      },
      "execution_count": 93,
      "outputs": []
    },
    {
      "cell_type": "code",
      "source": [
        "import torch\n",
        "\n",
        "GPT_CONFIG_124M = {\n",
        "    \"vocab_size\": 50257,    # Vocabulary size\n",
        "    \"context_length\": 256, # Context length\n",
        "    \"emb_dim\": 768,         # Embedding dimension\n",
        "    \"n_heads\": 12,          # Number of attention heads\n",
        "    \"n_layers\": 12,         # Number of layers\n",
        "    \"drop_rate\": 0.1,       # Dropout rate\n",
        "    \"qkv_bias\": False       # Query-Key-Value bias\n",
        "}\n",
        "\n",
        "\n"
      ],
      "metadata": {
        "id": "7DsJTVQwfeB2"
      },
      "execution_count": 94,
      "outputs": []
    },
    {
      "cell_type": "code",
      "source": [
        "# Train/validation ratio\n",
        "train_ratio = 0.90\n",
        "split_idx = int(train_ratio * len(text_data))\n",
        "train_data = text_data[:split_idx]\n",
        "val_data = text_data[split_idx:]\n",
        "\n",
        "\n",
        "\n",
        "\n",
        "train_loader = create_dataloader_v1(\n",
        "    train_data,\n",
        "    batch_size=2,\n",
        "    max_length=GPT_CONFIG_124M[\"context_length\"],\n",
        "    stride=GPT_CONFIG_124M[\"context_length\"],\n",
        "    drop_last=True,\n",
        "    shuffle=True,\n",
        "    num_workers=0\n",
        ")\n",
        "\n",
        "val_loader = create_dataloader_v1(\n",
        "    val_data,\n",
        "    batch_size=2,\n",
        "    max_length=GPT_CONFIG_124M[\"context_length\"],\n",
        "    stride=GPT_CONFIG_124M[\"context_length\"],\n",
        "    drop_last=False,\n",
        "    shuffle=False,\n",
        "    num_workers=0\n",
        ")"
      ],
      "metadata": {
        "id": "kbAaXV7clM_p"
      },
      "execution_count": 95,
      "outputs": []
    },
    {
      "cell_type": "code",
      "source": [
        "# Sanity check\n",
        "\n",
        "if total_tokens * (train_ratio) < GPT_CONFIG_124M[\"context_length\"]:\n",
        "    print(\"Not enough tokens for the training loader. \"\n",
        "          \"Try to lower the `GPT_CONFIG_124M['context_length']` or \"\n",
        "          \"increase the `training_ratio`\")\n",
        "\n",
        "if total_tokens * (1-train_ratio) < GPT_CONFIG_124M[\"context_length\"]:\n",
        "    print(\"Not enough tokens for the validation loader. \"\n",
        "          \"Try to lower the `GPT_CONFIG_124M['context_length']` or \"\n",
        "          \"decrease the `training_ratio`\")"
      ],
      "metadata": {
        "id": "nqQrTPDlpIZ2"
      },
      "execution_count": 96,
      "outputs": []
    },
    {
      "cell_type": "markdown",
      "source": [
        "Split Data into training and validation"
      ],
      "metadata": {
        "id": "a_tcZKZImwcY"
      }
    },
    {
      "cell_type": "code",
      "source": [
        "print(\"Train loader:\")\n",
        "for x, y in train_loader:\n",
        "    print(x.shape, y.shape)\n",
        "\n",
        "print(\"\\nValidation loader:\")\n",
        "for x, y in val_loader:\n",
        "    print(x.shape, y.shape)\n",
        "\n",
        "print(len(train_loader))\n",
        "print(len(val_loader))\n"
      ],
      "metadata": {
        "id": "waZIPHE3mqgs",
        "outputId": "08d0d754-23b2-4e9e-bc0d-eeae9de5fd3c",
        "colab": {
          "base_uri": "https://localhost:8080/"
        }
      },
      "execution_count": 97,
      "outputs": [
        {
          "output_type": "stream",
          "name": "stdout",
          "text": [
            "Train loader:\n",
            "torch.Size([2, 256]) torch.Size([2, 256])\n",
            "torch.Size([2, 256]) torch.Size([2, 256])\n",
            "torch.Size([2, 256]) torch.Size([2, 256])\n",
            "torch.Size([2, 256]) torch.Size([2, 256])\n",
            "torch.Size([2, 256]) torch.Size([2, 256])\n",
            "torch.Size([2, 256]) torch.Size([2, 256])\n",
            "torch.Size([2, 256]) torch.Size([2, 256])\n",
            "torch.Size([2, 256]) torch.Size([2, 256])\n",
            "torch.Size([2, 256]) torch.Size([2, 256])\n",
            "\n",
            "Validation loader:\n",
            "torch.Size([2, 256]) torch.Size([2, 256])\n",
            "9\n",
            "1\n"
          ]
        }
      ]
    },
    {
      "cell_type": "markdown",
      "source": [
        "**GPT architectuer we coded earlier**"
      ],
      "metadata": {
        "id": "LgeJbOl1qwLB"
      }
    },
    {
      "cell_type": "code",
      "source": [
        "class GPTModel(nn.Module):\n",
        "    def __init__(self, cfg):\n",
        "        super().__init__()\n",
        "        self.tok_emb = nn.Embedding(cfg[\"vocab_size\"], cfg[\"emb_dim\"])\n",
        "        self.pos_emb = nn.Embedding(cfg[\"context_length\"], cfg[\"emb_dim\"])\n",
        "        self.drop_emb = nn.Dropout(cfg[\"drop_rate\"])\n",
        "\n",
        "        self.trf_blocks = nn.Sequential(\n",
        "            *[TransformerBlock(cfg) for _ in range(cfg[\"n_layers\"])])\n",
        "\n",
        "        self.final_norm = LayerNorm(cfg[\"emb_dim\"])\n",
        "        self.out_head = nn.Linear(\n",
        "            cfg[\"emb_dim\"], cfg[\"vocab_size\"], bias=False\n",
        "        )\n",
        "\n",
        "    def forward(self, in_idx):\n",
        "        batch_size, seq_len = in_idx.shape\n",
        "        tok_embeds = self.tok_emb(in_idx)\n",
        "        pos_embeds = self.pos_emb(torch.arange(seq_len, device=in_idx.device))\n",
        "        x = tok_embeds + pos_embeds  # Shape [batch_size, num_tokens, emb_size]\n",
        "        x = self.drop_emb(x)\n",
        "        x = self.trf_blocks(x)\n",
        "        x = self.final_norm(x)\n",
        "        logits = self.out_head(x)\n",
        "        return logits\n",
        "\n",
        "torch.manual_seed(123)\n",
        "model = GPTModel(GPT_CONFIG_124M)\n",
        "model.eval();  # Disable dropout during inference"
      ],
      "metadata": {
        "id": "Os8tuwqjm952"
      },
      "execution_count": 98,
      "outputs": []
    },
    {
      "cell_type": "code",
      "source": [
        "def calc_loss_batch(input_batch, target_batch, model, device):\n",
        "    input_batch, target_batch = input_batch.to(device), target_batch.to(device)\n",
        "    logits = model(input_batch)\n",
        "    loss = torch.nn.functional.cross_entropy(logits.flatten(0, 1), target_batch.flatten())\n",
        "    return loss\n",
        "\n",
        "\n",
        "def calc_loss_loader(data_loader, model, device, num_batches=None):\n",
        "    total_loss = 0.\n",
        "    if len(data_loader) == 0:\n",
        "        return float(\"nan\")\n",
        "    elif num_batches is None:\n",
        "        num_batches = len(data_loader)\n",
        "    else:\n",
        "        # Reduce the number of batches to match the total number of batches in the data loader\n",
        "        # if num_batches exceeds the number of batches in the data loader\n",
        "        num_batches = min(num_batches, len(data_loader))\n",
        "    for i, (input_batch, target_batch) in enumerate(data_loader):\n",
        "        if i < num_batches:\n",
        "            loss = calc_loss_batch(input_batch, target_batch, model, device)\n",
        "            total_loss += loss.item()\n",
        "        else:\n",
        "            break\n",
        "    return total_loss / num_batches"
      ],
      "metadata": {
        "id": "YQKTN9lrrEq0"
      },
      "execution_count": 99,
      "outputs": []
    },
    {
      "cell_type": "code",
      "source": [
        "device = torch.device(\"cuda\" if torch.cuda.is_available() else \"cpu\")\n",
        "\n",
        "# Note:\n",
        "# Uncommenting the following lines will allow the code to run on Apple Silicon chips, if applicable,\n",
        "# which is approximately 2x faster than on an Apple CPU (as measured on an M3 MacBook Air).\n",
        "# However, the resulting loss values may be slightly different.\n",
        "\n",
        "#if torch.cuda.is_available():\n",
        "#    device = torch.device(\"cuda\")\n",
        "#elif torch.backends.mps.is_available():\n",
        "#    device = torch.device(\"mps\")\n",
        "#else:\n",
        "#    device = torch.device(\"cpu\")\n",
        "#\n",
        "# print(f\"Using {device} device.\")\n",
        "\n",
        "\n",
        "model.to(device) # no assignment model = model.to(device) necessary for nn.Module classes\n",
        "\n",
        "\n",
        "torch.manual_seed(123) # For reproducibility due to the shuffling in the data loader\n",
        "\n",
        "with torch.no_grad(): # Disable gradient tracking for efficiency because we are not training, yet\n",
        "    train_loss = calc_loss_loader(train_loader, model, device)\n",
        "    val_loss = calc_loss_loader(val_loader, model, device)\n",
        "\n",
        "print(\"Training loss:\", train_loss)\n",
        "print(\"Validation loss:\", val_loss)"
      ],
      "metadata": {
        "id": "oZpCWy0JrH6-",
        "outputId": "e9d07e35-256d-40ce-c22d-f2f2496a447a",
        "colab": {
          "base_uri": "https://localhost:8080/"
        }
      },
      "execution_count": 100,
      "outputs": [
        {
          "output_type": "stream",
          "name": "stdout",
          "text": [
            "Training loss: 10.987583690219456\n",
            "Validation loss: 10.98169231414795\n"
          ]
        }
      ]
    },
    {
      "cell_type": "markdown",
      "source": [
        "# **Training Loop FOr LLm**"
      ],
      "metadata": {
        "id": "htlGyVDhvzYI"
      }
    },
    {
      "cell_type": "code",
      "source": [
        "def train_model_simple(model, train_loader, val_loader, optimizer, device, num_epochs,\n",
        "                       eval_freq, eval_iter, start_context, tokenizer):\n",
        "    # Initialize lists to track losses and tokens seen\n",
        "    train_losses, val_losses, track_tokens_seen = [], [], []\n",
        "    tokens_seen, global_step = 0, -1\n",
        "\n",
        "    # Main training loop\n",
        "    for epoch in range(num_epochs):\n",
        "        model.train()  # Set model to training mode\n",
        "\n",
        "        for input_batch, target_batch in train_loader:\n",
        "            optimizer.zero_grad() # Reset loss gradients from previous batch iteration\n",
        "            loss = calc_loss_batch(input_batch, target_batch, model, device)\n",
        "            loss.backward() # Calculate loss gradients\n",
        "            optimizer.step() # Update model weights using loss gradients\n",
        "            tokens_seen += input_batch.numel() # Returns the total number of elements (or tokens) in the input_batch.\n",
        "            global_step += 1\n",
        "\n",
        "            # Optional evaluation step\n",
        "            if global_step % eval_freq == 0:\n",
        "                train_loss, val_loss = evaluate_model(\n",
        "                    model, train_loader, val_loader, device, eval_iter)\n",
        "                train_losses.append(train_loss)\n",
        "                val_losses.append(val_loss)\n",
        "                track_tokens_seen.append(tokens_seen)\n",
        "                print(f\"Ep {epoch+1} (Step {global_step:06d}): \"\n",
        "                      f\"Train loss {train_loss:.3f}, Val loss {val_loss:.3f}\")\n",
        "\n",
        "        # Print a sample text after each epoch\n",
        "        generate_and_print_sample(\n",
        "            model, tokenizer, device, start_context\n",
        "        )\n",
        "\n",
        "    return train_losses, val_losses, track_tokens_seen"
      ],
      "metadata": {
        "id": "-im5s3pDrKs8"
      },
      "execution_count": 101,
      "outputs": []
    },
    {
      "cell_type": "code",
      "source": [
        "def evaluate_model(model, train_loader, val_loader, device, eval_iter):\n",
        "    model.eval()\n",
        "    with torch.no_grad():\n",
        "        train_loss = calc_loss_loader(train_loader, model, device, num_batches=eval_iter)\n",
        "        val_loss = calc_loss_loader(val_loader, model, device, num_batches=eval_iter)\n",
        "    model.train()\n",
        "    return train_loss, val_loss"
      ],
      "metadata": {
        "id": "DChSEz66zTjo"
      },
      "execution_count": 102,
      "outputs": []
    },
    {
      "cell_type": "code",
      "source": [
        "def generate_and_print_sample(model, tokenizer, device, start_context):\n",
        "    model.eval()\n",
        "    context_size = model.pos_emb.weight.shape[0]\n",
        "    encoded = text_to_token_ids(start_context, tokenizer).to(device)\n",
        "    with torch.no_grad():\n",
        "        token_ids = generate_text_simple(\n",
        "            model=model, idx=encoded,\n",
        "            max_new_tokens=50, context_size=context_size\n",
        "        )\n",
        "    decoded_text = token_ids_to_text(token_ids, tokenizer)\n",
        "    print(decoded_text.replace(\"\\n\", \" \"))  # Compact print format\n",
        "    model.train()"
      ],
      "metadata": {
        "id": "-VnYPakvzW91"
      },
      "execution_count": 103,
      "outputs": []
    },
    {
      "cell_type": "code",
      "source": [
        "# Note:\n",
        "# Uncomment the following code to calculate the execution time\n",
        "import time\n",
        "start_time = time.time()\n",
        "\n",
        "torch.manual_seed(123)\n",
        "model = GPTModel(GPT_CONFIG_124M)\n",
        "model.to(device)\n",
        "optimizer = torch.optim.AdamW(model.parameters(), lr=0.0004, weight_decay=0.1)\n",
        "\n",
        "num_epochs = 10\n",
        "train_losses, val_losses, tokens_seen = train_model_simple(\n",
        "    model, train_loader, val_loader, optimizer, device,\n",
        "    num_epochs=num_epochs, eval_freq=5, eval_iter=5,\n",
        "    start_context=\"Every effort moves you\", tokenizer=tokenizer\n",
        ")\n",
        "\n",
        "# Note:\n",
        "# Uncomment the following code to show the execution time\n",
        "end_time = time.time()\n",
        "execution_time_minutes = (end_time - start_time) / 60\n",
        "print(f\"Training completed in {execution_time_minutes:.2f} minutes.\")"
      ],
      "metadata": {
        "id": "Wea3BE57zacV",
        "outputId": "c0cd48ee-3877-406a-919a-28a8396c9671",
        "colab": {
          "base_uri": "https://localhost:8080/"
        }
      },
      "execution_count": 106,
      "outputs": [
        {
          "output_type": "stream",
          "name": "stdout",
          "text": [
            "Ep 1 (Step 000000): Train loss 9.781, Val loss 9.923\n",
            "Ep 1 (Step 000005): Train loss 7.996, Val loss 8.334\n",
            "Every effort moves you,.                                                \n",
            "Ep 2 (Step 000010): Train loss 6.759, Val loss 7.046\n",
            "Ep 2 (Step 000015): Train loss 6.120, Val loss 6.571\n",
            "Every effort moves you, and,, and,, and,,,, and,,,,,,,,,,,,,,,, and,,,,,,,,,,,,,,,,,,,,\n",
            "Ep 3 (Step 000020): Train loss 5.583, Val loss 6.470\n",
            "Ep 3 (Step 000025): Train loss 5.559, Val loss 6.468\n",
            "Every effort moves you, and to to have to to have to to theisburn, and, and, and, and, and, and, and, and the to the to theis, and, and, and, and, and, and, and,\n",
            "Ep 4 (Step 000030): Train loss 5.228, Val loss 6.383\n",
            "Ep 4 (Step 000035): Train loss 4.846, Val loss 6.317\n",
            "Every effort moves you know not to have to have to have was not to have to have not to have to have was not to have to have was not to the picture to have was not to have my to the picture to the picture and he was not to have to\n",
            "Ep 5 (Step 000040): Train loss 4.735, Val loss 6.326\n",
            "Every effort moves you know not to have to have to have to see, I had been.                                   \n",
            "Ep 6 (Step 000045): Train loss 4.297, Val loss 6.174\n",
            "Ep 6 (Step 000050): Train loss 3.753, Val loss 6.188\n",
            "Every effort moves you know; and he had been, and I had been, and he was not and he was, and he was, and he had been, and he had been, and I had been, and he had been, and I had been, and\n",
            "Ep 7 (Step 000055): Train loss 3.366, Val loss 6.135\n",
            "Ep 7 (Step 000060): Train loss 3.261, Val loss 6.095\n",
            "Every effort moves you know it was not that, and he was not to have to me in a little: \"Yes, and to have to have to see.       \"--and it, and up and down, and he was his\n",
            "Ep 8 (Step 000065): Train loss 2.571, Val loss 6.137\n",
            "Ep 8 (Step 000070): Train loss 2.408, Val loss 6.088\n",
            "Every effort moves you know the picture.                                              \n",
            "Ep 9 (Step 000075): Train loss 2.040, Val loss 6.152\n",
            "Ep 9 (Step 000080): Train loss 1.638, Val loss 6.196\n",
            "Every effort moves you know,\" was not that my hostess was not that lifted the fact of a self-confident moustache, I had been to the end of his pictures that he had been; and I had the donkey. \"strongest,\" she was\n",
            "Ep 10 (Step 000085): Train loss 1.264, Val loss 6.192\n",
            "Every effort moves you know,\" was not that my hostess was \"interesting\": on that point I had been through--I looked up, I had been to the display of his pictures with my unexpected discovery; and as I had been the man of the hour. The\n",
            "Training completed in 22.87 minutes.\n"
          ]
        }
      ]
    },
    {
      "cell_type": "markdown",
      "source": [
        "We can clearly see model is overfitted because we have train it for multiples epochs on very less data so it was obvious,\n",
        "\n",
        "\n",
        "now model is producing grammetically correct outputs"
      ],
      "metadata": {
        "id": "8bHt4kPg_Pp7"
      }
    },
    {
      "cell_type": "code",
      "source": [
        "import matplotlib.pyplot as plt\n",
        "from matplotlib.ticker import MaxNLocator\n",
        "\n",
        "\n",
        "def plot_losses(epochs_seen, tokens_seen, train_losses, val_losses):\n",
        "    fig, ax1 = plt.subplots(figsize=(5, 3))\n",
        "\n",
        "    # Plot training and validation loss against epochs\n",
        "    ax1.plot(epochs_seen, train_losses, label=\"Training loss\")\n",
        "    ax1.plot(epochs_seen, val_losses, linestyle=\"-.\", label=\"Validation loss\")\n",
        "    ax1.set_xlabel(\"Epochs\")\n",
        "    ax1.set_ylabel(\"Loss\")\n",
        "    ax1.legend(loc=\"upper right\")\n",
        "    ax1.xaxis.set_major_locator(MaxNLocator(integer=True))  # only show integer labels on x-axis\n",
        "\n",
        "    # Create a second x-axis for tokens seen\n",
        "    ax2 = ax1.twiny()  # Create a second x-axis that shares the same y-axis\n",
        "    ax2.plot(tokens_seen, train_losses, alpha=0)  # Invisible plot for aligning ticks\n",
        "    ax2.set_xlabel(\"Tokens seen\")\n",
        "\n",
        "    fig.tight_layout()  # Adjust layout to make room\n",
        "    plt.savefig(\"loss-plot.pdf\")\n",
        "    plt.show()\n",
        "\n",
        "epochs_tensor = torch.linspace(0, num_epochs, len(train_losses))\n",
        "plot_losses(epochs_tensor, tokens_seen, train_losses, val_losses)"
      ],
      "metadata": {
        "id": "SA_DrYWSzcr4",
        "outputId": "15fd5f3c-1b0e-479c-dcee-32b9984ab3dc",
        "colab": {
          "base_uri": "https://localhost:8080/",
          "height": 307
        }
      },
      "execution_count": 108,
      "outputs": [
        {
          "output_type": "display_data",
          "data": {
            "text/plain": [
              "<Figure size 500x300 with 2 Axes>"
            ],
            "image/png": "[encoded data removed]"
          },
          "metadata": {}
        }
      ]
    },
    {
      "cell_type": "markdown",
      "source": [],
      "metadata": {
        "id": "DVVIAtM__c_T"
      }
    },
    {
      "cell_type": "code",
      "source": [],
      "metadata": {
        "id": "bF9OUCyq1xXr"
      },
      "execution_count": null,
      "outputs": []
    },
    {
      "cell_type": "markdown",
      "source": [
        "## DECODING STRATEGIES TO CONTROL RANDOMNESS"
      ],
      "metadata": {
        "id": "NTpOjLjsJAzh"
      }
    },
    {
      "cell_type": "code",
      "source": [
        "tokenizer = tiktoken.get_encoding(\"gpt2\")\n",
        "\n",
        "token_ids = generate_text_simple(\n",
        "    model=model,\n",
        "    idx=text_to_token_ids(\"Every effort moves you\", tokenizer),\n",
        "    max_new_tokens=25,\n",
        "    context_size=GPT_CONFIG_124M[\"context_length\"]\n",
        ")\n",
        "\n",
        "print(\"Output text:\\n\", token_ids_to_text(token_ids, tokenizer))"
      ],
      "metadata": {
        "id": "ckzqmPc-JBHC",
        "outputId": "acf1f610-8365-4926-8272-a9de0ba4e158",
        "colab": {
          "base_uri": "https://localhost:8080/"
        }
      },
      "execution_count": 109,
      "outputs": [
        {
          "output_type": "stream",
          "name": "stdout",
          "text": [
            "Output text:\n",
            " Every effort moves you know; and up-stream stroke. Gisburn--as, in a self-confident moustache, I\n"
          ]
        }
      ]
    },
    {
      "cell_type": "markdown",
      "source": [
        "Higher temperature = more randomness and creativity.\n",
        "\n",
        "Lower temperature = more coherence and predictability.\n",
        "\n",
        "Temperature = 1.0 = default, balanced behavior.\n",
        "\n",
        "\n"
      ],
      "metadata": {
        "id": "v9dXINjOJKvP"
      }
    },
    {
      "cell_type": "code",
      "source": [
        "vocab = {\n",
        "    \"closer\": 0,\n",
        "    \"every\": 1,\n",
        "    \"effort\": 2,\n",
        "    \"forward\": 3,\n",
        "    \"inches\": 4,\n",
        "    \"moves\": 5,\n",
        "    \"pizza\": 6,\n",
        "    \"toward\": 7,\n",
        "    \"you\": 8,\n",
        "}\n",
        "\n",
        "inverse_vocab = {v: k for k, v in vocab.items()}"
      ],
      "metadata": {
        "id": "dh1nruP5JG73"
      },
      "execution_count": 110,
      "outputs": []
    },
    {
      "cell_type": "code",
      "source": [
        "next_token_logits = torch.tensor(\n",
        "[4.51, 0.89, -1.90, 6.75, 1.63, -1.62, -1.89, 6.28, 1.79]\n",
        ")"
      ],
      "metadata": {
        "id": "JB1ghzKsJQp2"
      },
      "execution_count": 111,
      "outputs": []
    },
    {
      "cell_type": "markdown",
      "source": [
        "<div class=\"alert alert-block alert-success\">\n",
        "\n",
        "As discussed in the previous chapter, inside the generate_text_simple, we convert the\n",
        "logits into probabilities via the softmax function and obtain the token ID corresponding the\n",
        "generated token via the argmax function, which we can then map back into text via the\n",
        "inverse vocabulary:\n",
        "\n",
        "</div>"
      ],
      "metadata": {
        "id": "GV153CphJYzc"
      }
    },
    {
      "cell_type": "code",
      "source": [
        "probas = torch.softmax(next_token_logits, dim=0)\n",
        "next_token_id = torch.argmax(probas).item()\n",
        "print(inverse_vocab[next_token_id])"
      ],
      "metadata": {
        "id": "rRwmT4ltJS3t",
        "outputId": "aa0652f6-5ea0-4ced-ca6f-4c18d842978f",
        "colab": {
          "base_uri": "https://localhost:8080/"
        }
      },
      "execution_count": 112,
      "outputs": [
        {
          "output_type": "stream",
          "name": "stdout",
          "text": [
            "forward\n"
          ]
        }
      ]
    },
    {
      "cell_type": "markdown",
      "source": [
        "<div class=\"alert alert-block alert-success\">\n",
        "\n",
        "To implement a probabilistic sampling process, we can now replace the argmax with the\n",
        "multinomial function in PyTorch:\n",
        "\n",
        "</div>"
      ],
      "metadata": {
        "id": "-KSmXrI4Jeno"
      }
    },
    {
      "cell_type": "code",
      "source": [
        "torch.manual_seed(123)\n",
        "next_token_id = torch.multinomial(probas, num_samples=1).item()\n",
        "print(inverse_vocab[next_token_id])"
      ],
      "metadata": {
        "id": "CmQO0HGaJbeD",
        "outputId": "ce9654b9-c8e8-4c2f-e41d-4cd5f751e4b4",
        "colab": {
          "base_uri": "https://localhost:8080/"
        }
      },
      "execution_count": 113,
      "outputs": [
        {
          "output_type": "stream",
          "name": "stdout",
          "text": [
            "toward\n"
          ]
        }
      ]
    },
    {
      "cell_type": "markdown",
      "source": [
        "<div class=\"alert alert-block alert-success\">\n",
        "\n",
        "The printed output is \"forward\" just like before. What happened? The multinomial\n",
        "function samples the next token proportional to its probability score.\n",
        "\n",
        "In other words,\n",
        "\"forward\" is still the most likely token and will be selected by multinomial most of the\n",
        "time but not all the time.\n",
        "\n",
        "To illustrate this, let's implement a function that repeats this\n",
        "sampling 1000 times:\n",
        "\n",
        "</div>"
      ],
      "metadata": {
        "id": "6mF72In_JlhN"
      }
    },
    {
      "cell_type": "code",
      "source": [
        "def print_sampled_tokens(probas):\n",
        "    torch.manual_seed(123) # Manual seed for reproducibility\n",
        "    sample = [torch.multinomial(probas, num_samples=1).item() for i in range(1_000)]\n",
        "    sampled_ids = torch.bincount(torch.tensor(sample))\n",
        "    for i, freq in enumerate(sampled_ids):\n",
        "        print(f\"{freq} x {inverse_vocab[i]}\")\n",
        "\n",
        "print_sampled_tokens(probas)"
      ],
      "metadata": {
        "id": "Cgw6mSyxJh0l",
        "outputId": "7965e668-c3d7-41e5-8eb0-58d9294826e1",
        "colab": {
          "base_uri": "https://localhost:8080/"
        }
      },
      "execution_count": 114,
      "outputs": [
        {
          "output_type": "stream",
          "name": "stdout",
          "text": [
            "71 x closer\n",
            "2 x every\n",
            "0 x effort\n",
            "544 x forward\n",
            "2 x inches\n",
            "1 x moves\n",
            "0 x pizza\n",
            "376 x toward\n",
            "4 x you\n"
          ]
        }
      ]
    },
    {
      "cell_type": "markdown",
      "source": [
        "<div class=\"alert alert-block alert-info\">\n",
        "\n",
        "As we can see based on the output, the word \"forward\" is sampled most of the time (582\n",
        "out of 1000 times), but other tokens such as \"closer\", \"inches\", and \"toward\" will also\n",
        "be sampled some of the time.\n",
        "\n",
        "This means that if we replaced the argmax function with the\n",
        "multinomial function inside the generate_and_print_sample function, the LLM would\n",
        "sometimes generate texts such as \"every effort moves you toward\", \"every effort\n",
        "moves you inches\", and \"every effort moves you closer\" instead of \"every effort\n",
        "moves you forward\".\n",
        "    \n",
        "</div>"
      ],
      "metadata": {
        "id": "EpBnonDwJsBr"
      }
    },
    {
      "cell_type": "markdown",
      "source": [
        "**<div class=\"alert alert-block alert-success\">\n",
        "\n",
        "We can further control the distribution and selection process via a concept called\n",
        "temperature scaling, where temperature scaling is just a fancy description for dividing the\n",
        "logits by a number greater than 0:\n",
        "\n",
        "</div>**"
      ],
      "metadata": {
        "id": "mifrbjmbJvx2"
      }
    },
    {
      "cell_type": "code",
      "source": [
        "def softmax_with_temperature(logits, temperature):\n",
        "    scaled_logits = logits / temperature\n",
        "    return torch.softmax(scaled_logits, dim=0)\n",
        "\n",
        "# Temperature values\n",
        "temperatures = [1, 0.1, 5]  # Original, higher confidence, and lower confidence\n",
        "\n",
        "# Calculate scaled probabilities\n",
        "scaled_probas = [softmax_with_temperature(next_token_logits, T) for T in temperatures]"
      ],
      "metadata": {
        "id": "ZPEfpJeCJoVi"
      },
      "execution_count": 115,
      "outputs": []
    },
    {
      "cell_type": "code",
      "source": [
        "# Plotting\n",
        "x = torch.arange(len(vocab))\n",
        "bar_width = 0.15\n",
        "\n",
        "fig, ax = plt.subplots(figsize=(5, 3))\n",
        "for i, T in enumerate(temperatures):\n",
        "    rects = ax.bar(x + i * bar_width, scaled_probas[i], bar_width, label=f'Temperature = {T}')\n",
        "\n",
        "ax.set_ylabel('Probability')\n",
        "ax.set_xticks(x)\n",
        "ax.set_xticklabels(vocab.keys(), rotation=90)\n",
        "ax.legend()\n",
        "\n",
        "plt.tight_layout()\n",
        "plt.savefig(\"temperature-plot.pdf\")\n",
        "plt.show()"
      ],
      "metadata": {
        "id": "FUGSAmoLJzOP",
        "outputId": "d7a44190-337a-481c-808a-2c91582abea9",
        "colab": {
          "base_uri": "https://localhost:8080/",
          "height": 307
        }
      },
      "execution_count": 116,
      "outputs": [
        {
          "output_type": "display_data",
          "data": {
            "text/plain": [
              "<Figure size 500x300 with 1 Axes>"
            ],
            "image/png": "[encoded data removed]"
          },
          "metadata": {}
        }
      ]
    },
    {
      "cell_type": "markdown",
      "source": [
        "<div class=\"alert alert-block alert-info\">\n",
        "\n",
        "Applying very small temperatures, such as 0.1, will\n",
        "result in sharper distributions such that the behavior of the multinomial function selects\n",
        "the most likely token (here: \"forward\") almost 100% of the time, approaching the\n",
        "behavior of the argmax function.\n",
        "\n",
        "Vice versa, a temperature of 5 results in a more uniform\n",
        "distribution where other tokens are selected more often.\n",
        "\n",
        "This can add more variety to the\n",
        "generated texts but also more often results in nonsensical text.\n",
        "\n",
        "For example, using the\n",
        "temperature of 5 results in texts such as \"every effort moves you pizza\" about 4% of\n",
        "the time.\n",
        "    \n",
        "</div>"
      ],
      "metadata": {
        "id": "7lV7lmrTJ6lS"
      }
    },
    {
      "cell_type": "markdown",
      "source": [
        "Left top-k and tp p sampling and fine tunning etc"
      ],
      "metadata": {
        "id": "0-nIrfNAJ9DA"
      }
    },
    {
      "cell_type": "code",
      "source": [],
      "metadata": {
        "id": "eR93uT5BJ1cd"
      },
      "execution_count": null,
      "outputs": []
    }
  ]
}